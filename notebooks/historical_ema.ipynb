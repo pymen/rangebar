{
 "cells": [
  {
   "cell_type": "code",
   "execution_count": null,
   "metadata": {},
   "outputs": [],
   "source": [
    "import pandas as pd\n",
    "df = pd.read_csv('data/3months-1min.csv', index_col='timestamp', parse_dates=True)\n",
    "df"
   ]
  },
  {
   "attachments": {},
   "cell_type": "markdown",
   "metadata": {},
   "source": [
    "The \"EMA death cross\" describe a bearish signal that occurs when a shorter-term EMA in yellow, crosses below green"
   ]
  },
  {
   "attachments": {},
   "cell_type": "markdown",
   "metadata": {},
   "source": [
    "The \"EMA golden cross\" signals a potential shift in the trend from bearish to bullish, occurs when a longer-term EMA in green, crosses below yellow"
   ]
  },
  {
   "cell_type": "code",
   "execution_count": null,
   "metadata": {},
   "outputs": [],
   "source": [
    "# Calculate the difference between the two EMAs\n",
    "df['EMA_DIFF'] = df['EMA_50'] - df['EMA_200']\n",
    "# Create a new column to store the signal\n",
    "df['CROSS_TYPE'] = 0\n",
    "\n",
    "df.head(5)\n"
   ]
  },
  {
   "cell_type": "code",
   "execution_count": null,
   "metadata": {},
   "outputs": [],
   "source": [
    "\n",
    "# Calculate the difference between EMA_200 and EMA_50\n",
    "df['EMA_DIFF'] = df['EMA_50'] - df['EMA_200']\n",
    "\n",
    "# Find where the EMA_DIFF changes sign\n",
    "crossings = (df['EMA_DIFF'].shift(1) < 0) & (df['EMA_DIFF'] > 0)\n",
    "deaths = (df['EMA_DIFF'].shift(1) > 0) & (df['EMA_DIFF'] < 0)\n",
    "\n",
    "# Assign signals to the DataFrame\n",
    "df.loc[crossings, 'CROSS_TYPE'] = 1\n",
    "df.loc[deaths, 'CROSS_TYPE'] = -1\n",
    "\n",
    "# Count the number of golden and death crosses\n",
    "number_golden = crossings.sum()\n",
    "number_death = deaths.sum()\n",
    "\n",
    "# Print the DataFrame with signals\n",
    "print(f\"number of golden crosses: {number_golden}, number of death crosses: {number_death}\")\n",
    "\n"
   ]
  },
  {
   "cell_type": "code",
   "execution_count": null,
   "metadata": {},
   "outputs": [],
   "source": [
    "crossing_segments = crossings.cumsum()\n",
    "death_segments = deaths.cumsum()\n"
   ]
  },
  {
   "cell_type": "code",
   "execution_count": null,
   "metadata": {},
   "outputs": [],
   "source": [
    "def plot_segment(df, index):\n",
    "    from bokeh.plotting import figure, output_file, save\n",
    "    from bokeh.models import ColumnDataSource\n",
    "\n",
    "    source = ColumnDataSource(df)\n",
    "    p = figure(x_axis_type='datetime', title='chart', width=1200, height=800)\n",
    "    p.line(x='timestamp', y='close', source=source, line_width=2, color='black')\n",
    "    # p.line(x='timestamp', y='high', source=source, line_width=2, color='red')\n",
    "    # p.line(x='timestamp', y='high', source=source, line_width=2, color='blue')\n",
    "    # p.line(x='timestamp', y='mid_band', source=source, line_width=0.5, color='purple')\n",
    "    # p.line(x='timestamp', y='upper_band', source=source, line_width=2, color='blue')\n",
    "    # p.line(x='timestamp', y='lower_band', source=source, line_width=2, color='blue')\n",
    "    p.line(x='timestamp', y='EMA_200', source=source, line_width=2, color='green')\n",
    "    p.line(x='timestamp', y='EMA_50', source=source, line_width=2, color='yellow')\n",
    "\n",
    "    # Find intersection points for close line with upper_band and lower_band\n",
    "    # for i in range(1, len(df)):\n",
    "    #     # close line crossing upper_band\n",
    "    #     if (df.loc[i - 1, 'close'] < df.loc[i - 1, 'upper_band'] and df.loc[i, 'close'] > df.loc[i, 'upper_band']) or (df.loc[i - 1, 'close'] > df.loc[i - 1, 'upper_band'] and df.loc[i, 'close'] < df.loc[i, 'upper_band']):\n",
    "    #         p.circle(x=df.loc[i, 'timestamp'], y=df.loc[i, 'close'], color='magenta', size=6)\n",
    "        \n",
    "    #     # close line crossing lower_band\n",
    "    #     if (df.loc[i - 1, 'close'] < df.loc[i - 1, 'lower_band'] and df.loc[i, 'close'] > df.loc[i, 'lower_band']) or (df.loc[i - 1, 'close'] > df.loc[i - 1, 'lower_band'] and df.loc[i, 'close'] < df.loc[i, 'lower_band']):\n",
    "    #         p.circle(x=df.loc[i, 'timestamp'], y=df.loc[i, 'close'], color='cyan', size=6)\n",
    "\n",
    "    #     # EMA_200 line crossing EMA_50\n",
    "    #     if (df.loc[i - 1, 'EMA_200'] < df.loc[i - 1, 'EMA_50'] and df.loc[i, 'EMA_200'] > df.loc[i, 'EMA_50']) or (df.loc[i - 1, 'EMA_200'] > df.loc[i - 1, 'EMA_50'] and df.loc[i, 'EMA_200'] < df.loc[i, 'EMA_50']):\n",
    "    #         p.circle(x=df.loc[i, 'timestamp'], y=df.loc[i, 'EMA_200'], color='red', size=6)\n",
    "\n",
    "    # save the output to an HTML file\n",
    "    output_file(f'./charts/chart-ema-{index}.html')\n",
    "    # save the plot to the HTML file\n",
    "    save(p)\n"
   ]
  },
  {
   "cell_type": "code",
   "execution_count": null,
   "metadata": {},
   "outputs": [],
   "source": [
    "# Step 3: Calculate price change and time taken to start trending upward after a golden cross\n",
    "golden_cross_data = []\n",
    "\n",
    "for idx, row in df[df['CROSS_TYPE'] == 1].iterrows():\n",
    "    i = df.index.get_loc(idx)\n",
    "    upward_trend_started = False\n",
    "    time_to_upward_trend = 0\n",
    "    max_price = row['close']\n",
    "    \n",
    "    for j in range(i+1, len(df)):\n",
    "        if df.iloc[j]['CROSS_TYPE'] == -1:\n",
    "            break\n",
    "        if not upward_trend_started and df.iloc[j]['close'] > row['close']:\n",
    "            upward_trend_started = True\n",
    "            time_to_upward_trend = j - i\n",
    "        max_price = max(max_price, df.iloc[j]['close'])\n",
    "    \n",
    "    price_change = (max_price - row['close']) / row['close']\n",
    "    golden_cross_data.append((idx, row['close'], max_price, price_change, time_to_upward_trend))\n",
    "\n",
    "# Create a DataFrame with the golden cross data\n",
    "golden_cross_df = pd.DataFrame(golden_cross_data, columns=['index', 'initial_close', 'max_close', 'price_change', 'time_to_upward_trend'])\n",
    "golden_cross_df "
   ]
  },
  {
   "cell_type": "code",
   "execution_count": null,
   "metadata": {},
   "outputs": [],
   "source": [
    "from bokeh.plotting import figure, output_file, show\n",
    "from bokeh.models import ColumnDataSource\n",
    "\n",
    "# Create a ColumnDataSource from the DataFrame\n",
    "source = ColumnDataSource(golden_cross_df)\n",
    "\n",
    "# Create a new plot with a title and axis labels\n",
    "p = figure(title=\"Golden Cross Data\", x_axis_label='Index', y_axis_label='Price Change')\n",
    "\n",
    "# Add a line renderer with legend and line thickness\n",
    "p.line(x='index', y='price_change', source=source, legend_label='Price Change', line_width=2)\n",
    "\n",
    "# Add a circle renderer with size, color, and alpha\n",
    "p.circle(x='index', y='time_to_upward_trend', source=source, size=10, color='red', alpha=0.5)\n",
    "\n",
    "# Add a legend to the plot\n",
    "p.legend.location = \"top_left\"\n",
    "\n",
    "# Save the plot as an HTML file and show it\n",
    "output_file(\"./charts/golden_cross.html\")\n",
    "show(p)\n"
   ]
  },
  {
   "cell_type": "code",
   "execution_count": null,
   "metadata": {},
   "outputs": [],
   "source": [
    "from bokeh.plotting import figure, output_file, show\n",
    "from bokeh.models import ColumnDataSource\n",
    "\n",
    "source = ColumnDataSource(golden_cross_df)\n",
    "\n",
    "p = figure(x_axis_type='datetime', title='Golden Cross Data', width=1200, height=800)\n",
    "p.vbar(x='index', top='price_change', source=source, color='blue', width=0.5)\n",
    "\n",
    "p.xaxis.major_label_orientation = \"vertical\"\n",
    "\n",
    "output_file(\"./charts/golden_cross2.html\")\n",
    "show(p)\n"
   ]
  },
  {
   "cell_type": "code",
   "execution_count": null,
   "metadata": {},
   "outputs": [],
   "source": [
    "golden_cross_df.to_csv('data/golden-cross-data.csv', index=True)"
   ]
  }
 ],
 "metadata": {
  "kernelspec": {
   "display_name": "base",
   "language": "python",
   "name": "python3"
  },
  "language_info": {
   "codemirror_mode": {
    "name": "ipython",
    "version": 3
   },
   "file_extension": ".py",
   "mimetype": "text/x-python",
   "name": "python",
   "nbconvert_exporter": "python",
   "pygments_lexer": "ipython3",
   "version": "3.9.13"
  },
  "orig_nbformat": 4
 },
 "nbformat": 4,
 "nbformat_minor": 2
}
