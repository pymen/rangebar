{
 "cells": [
  {
   "attachments": {},
   "cell_type": "markdown",
   "metadata": {},
   "source": [
    "# Various resampled periods from 9 months of ADR Mean"
   ]
  },
  {
   "cell_type": "code",
   "execution_count": null,
   "metadata": {},
   "outputs": [],
   "source": [
    "import numpy as np\n",
    "import warnings\n",
    "import pandas as pd\n",
    "import pyperclip as clip\n",
    "warnings.filterwarnings('ignore', category=FutureWarning)"
   ]
  },
  {
   "cell_type": "code",
   "execution_count": null,
   "metadata": {},
   "outputs": [],
   "source": [
    "csv_paths = ['data/BTCUSDT_1m_3m_back_from_2023-03-14.csv', 'data/BTCUSDT_1m_3m_back_from_2022-11-15.csv', 'data/BTCUSDT_1m_3m_back_from_2022-07-19.csv']\n",
    "df = pd.DataFrame()\n",
    "for csv_path in csv_paths:\n",
    "    df = pd.concat([df, pd.read_csv(csv_path)])\n",
    "\n",
    "df['date'] = pd.to_datetime(df['timestamp']).dt.date \n",
    "df['timestamp'] = pd.to_datetime(df['timestamp'])\n",
    "df.set_index('timestamp', inplace=True)\n",
    "df.sort_index(inplace=True)\n",
    "df\n"
   ]
  },
  {
   "cell_type": "code",
   "execution_count": null,
   "metadata": {},
   "outputs": [],
   "source": [
    "from typing import Tuple\n",
    "\n",
    "def adr(df: pd.DataFrame) -> Tuple[float, float]:\n",
    "    daily_high_low = df.groupby('date')['high', 'low'].agg(['max', 'min'])\n",
    "    daily_high_low['adr'] = daily_high_low[('high', 'max')] - daily_high_low[('low', 'min')]\n",
    "    average_adr = np.mean(daily_high_low['adr'])\n",
    "    range_size = average_adr * 0.1\n",
    "    return average_adr, range_size"
   ]
  },
  {
   "attachments": {},
   "cell_type": "markdown",
   "metadata": {},
   "source": [
    "can try: W, 2W, 3W, M"
   ]
  },
  {
   "cell_type": "code",
   "execution_count": null,
   "metadata": {},
   "outputs": [],
   "source": [
    "def plot_adr_range_size_for_period_group(df: pd.DataFrame, resample_arg: str = 'M') -> str:\n",
    "    # resample the dataframe into monthly periods\n",
    "    groups = df.resample(resample_arg)\n",
    "    groups\n",
    "    # loop through each group and save to a new dataframe\n",
    "    out = ''\n",
    "    dict_list = []\n",
    "    for name, group in groups:\n",
    "        average_adr, range_size = adr(group)\n",
    "        out += f\"* name: {name},\\n* average_adr: {average_adr},\\n* range_size: {range_size}\\n\\n\"\n",
    "        dict_list.append({'date': name, 'average_adr': average_adr, 'range_size': range_size})\n",
    "\n",
    "    df_range_sizes = pd.DataFrame(dict_list)\n",
    "    df_range_sizes['date'] = pd.to_datetime(df_range_sizes['date'])\n",
    "    df_range_sizes.set_index('date', inplace=True)\n",
    "    # print(df_range_sizes)\n",
    "    df_range_sizes.plot(title=f'Average ADR and Range Size for {name} Period Group ({resample_arg})')\n",
    "    return out"
   ]
  },
  {
   "attachments": {},
   "cell_type": "markdown",
   "metadata": {},
   "source": [
    "## Get range for specific sample period"
   ]
  },
  {
   "cell_type": "code",
   "execution_count": null,
   "metadata": {},
   "outputs": [],
   "source": [
    "out = plot_adr_range_size_for_period_group(df, 'M')"
   ]
  },
  {
   "cell_type": "code",
   "execution_count": null,
   "metadata": {},
   "outputs": [],
   "source": [
    "clip.copy(out)"
   ]
  },
  {
   "attachments": {},
   "cell_type": "markdown",
   "metadata": {},
   "source": [
    "## Compare various sample periods"
   ]
  },
  {
   "cell_type": "code",
   "execution_count": null,
   "metadata": {},
   "outputs": [],
   "source": [
    "periods = ['W', '2W', '3W', 'M', '2M', '3M']\n",
    "for period in periods:\n",
    "    plot_adr_range_size_for_period_group(df, period)"
   ]
  },
  {
   "attachments": {},
   "cell_type": "markdown",
   "metadata": {},
   "source": [
    "## Conclusions\n",
    "\n",
    "There is enough variation to consider adjusting the range weekly based, on the pervious weeks average rather than relying on a 3 month average as suggested by the book"
   ]
  }
 ],
 "metadata": {
  "kernelspec": {
   "display_name": "base",
   "language": "python",
   "name": "python3"
  },
  "language_info": {
   "codemirror_mode": {
    "name": "ipython",
    "version": 3
   },
   "file_extension": ".py",
   "mimetype": "text/x-python",
   "name": "python",
   "nbconvert_exporter": "python",
   "pygments_lexer": "ipython3",
   "version": "3.9.13"
  },
  "orig_nbformat": 4,
  "vscode": {
   "interpreter": {
    "hash": "e6206a5d9777dc4941d1ef736d0f3211132aba6ec6b27c0cc45f807d6cb74e8f"
   }
  }
 },
 "nbformat": 4,
 "nbformat_minor": 2
}
