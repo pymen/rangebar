{
 "cells": [
  {
   "cell_type": "code",
   "execution_count": null,
   "metadata": {},
   "outputs": [],
   "source": [
    "import pandas as pd\n",
    "df = pd.read_csv('data/3months-1min.csv', index_col='timestamp', parse_dates=True)\n",
    "df"
   ]
  },
  {
   "attachments": {},
   "cell_type": "markdown",
   "metadata": {},
   "source": [
    "The \"EMA death cross\" shorter-term EMA in yellow, crosses below green"
   ]
  },
  {
   "attachments": {},
   "cell_type": "markdown",
   "metadata": {},
   "source": [
    "The \"EMA golden cross\" longer-term EMA in green, crosses below yellow (or yellow crosses above green/blue)"
   ]
  },
  {
   "cell_type": "code",
   "execution_count": null,
   "metadata": {},
   "outputs": [],
   "source": [
    "# Calculate the difference between the two EMAs\n",
    "df['EMA_DIFF'] = df['EMA_50'] - df['EMA_200']\n",
    "# Create a new column to store the signal\n",
    "df['CROSS_TYPE'] = 0\n",
    "\n",
    "df.head(5)"
   ]
  },
  {
   "cell_type": "code",
   "execution_count": null,
   "metadata": {},
   "outputs": [],
   "source": [
    "# Find where the EMA_DIFF changes sign\n",
    "crossings = (df['EMA_DIFF'].shift(1) < 0) & (df['EMA_DIFF'] > 0)\n",
    "deaths = (df['EMA_DIFF'].shift(1) > 0) & (df['EMA_DIFF'] < 0)\n",
    "\n",
    "# Assign signals to the DataFrame\n",
    "df.loc[crossings, 'CROSS_TYPE'] = 1\n",
    "df.loc[deaths, 'CROSS_TYPE'] = -1\n",
    "\n",
    "# Count the number of golden and death crosses\n",
    "number_golden = crossings.sum()\n",
    "number_death = deaths.sum()\n",
    "\n",
    "# Print the DataFrame with signals\n",
    "print(f\"number of golden crosses: {number_golden}, number of death crosses: {number_death}\")"
   ]
  },
  {
   "cell_type": "code",
   "execution_count": null,
   "metadata": {},
   "outputs": [],
   "source": [
    "import pandas as pd\n",
    "\n",
    "# assuming df is your timeseries dataframe with datetime index\n",
    "timestamp_str = '2022/11/20 06:06'\n",
    "timestamp = pd.to_datetime(timestamp_str)\n",
    "\n",
    "# select a slice of 30 minutes before and after the timestamp\n",
    "slice_start = timestamp - pd.Timedelta(minutes=30)\n",
    "slice_end = timestamp + pd.Timedelta(minutes=30)\n",
    "slice_df = df.loc[slice_start:slice_end]\n"
   ]
  },
  {
   "cell_type": "code",
   "execution_count": null,
   "metadata": {},
   "outputs": [],
   "source": [
    "def plot_segment(df, index = 1):\n",
    "    from bokeh.plotting import figure, output_file, save\n",
    "    from bokeh.models import ColumnDataSource\n",
    "\n",
    "    source = ColumnDataSource(df)\n",
    "    p = figure(x_axis_type='datetime', title='chart', width=1200, height=800)\n",
    "    p.line(x='timestamp', y='close', source=source, line_width=2, color='black')\n",
    "    # p.line(x='timestamp', y='high', source=source, line_width=2, color='red')\n",
    "    # p.line(x='timestamp', y='high', source=source, line_width=2, color='blue')\n",
    "    # p.line(x='timestamp', y='mid_band', source=source, line_width=0.5, color='purple')\n",
    "    # p.line(x='timestamp', y='upper_band', source=source, line_width=2, color='blue')\n",
    "    # p.line(x='timestamp', y='lower_band', source=source, line_width=2, color='blue')\n",
    "    p.line(x='timestamp', y='EMA_200', source=source, line_width=2, color='green')\n",
    "    p.line(x='timestamp', y='EMA_50', source=source, line_width=2, color='yellow')\n",
    "\n",
    "    # Find intersection points for close line with upper_band and lower_band\n",
    "    # for i in range(1, len(df)):\n",
    "    #     # close line crossing upper_band\n",
    "    #     if (df.loc[i - 1, 'close'] < df.loc[i - 1, 'upper_band'] and df.loc[i, 'close'] > df.loc[i, 'upper_band']) or (df.loc[i - 1, 'close'] > df.loc[i - 1, 'upper_band'] and df.loc[i, 'close'] < df.loc[i, 'upper_band']):\n",
    "    #         p.circle(x=df.loc[i, 'timestamp'], y=df.loc[i, 'close'], color='magenta', size=6)\n",
    "        \n",
    "    #     # close line crossing lower_band\n",
    "    #     if (df.loc[i - 1, 'close'] < df.loc[i - 1, 'lower_band'] and df.loc[i, 'close'] > df.loc[i, 'lower_band']) or (df.loc[i - 1, 'close'] > df.loc[i - 1, 'lower_band'] and df.loc[i, 'close'] < df.loc[i, 'lower_band']):\n",
    "    #         p.circle(x=df.loc[i, 'timestamp'], y=df.loc[i, 'close'], color='cyan', size=6)\n",
    "\n",
    "    #     # EMA_200 line crossing EMA_50\n",
    "    #     if (df.loc[i - 1, 'EMA_200'] < df.loc[i - 1, 'EMA_50'] and df.loc[i, 'EMA_200'] > df.loc[i, 'EMA_50']) or (df.loc[i - 1, 'EMA_200'] > df.loc[i - 1, 'EMA_50'] and df.loc[i, 'EMA_200'] < df.loc[i, 'EMA_50']):\n",
    "    #         p.circle(x=df.loc[i, 'timestamp'], y=df.loc[i, 'EMA_200'], color='red', size=6)\n",
    "\n",
    "    # save the output to an HTML file\n",
    "    output_file(f'./charts/chart-spot-ema-{index}.html')\n",
    "    # save the plot to the HTML file\n",
    "    save(p)\n",
    "    \n"
   ]
  },
  {
   "cell_type": "code",
   "execution_count": null,
   "metadata": {},
   "outputs": [],
   "source": [
    "plot_segment(slice_df, 2)"
   ]
  }
 ],
 "metadata": {
  "kernelspec": {
   "display_name": "base",
   "language": "python",
   "name": "python3"
  },
  "language_info": {
   "codemirror_mode": {
    "name": "ipython",
    "version": 3
   },
   "file_extension": ".py",
   "mimetype": "text/x-python",
   "name": "python",
   "nbconvert_exporter": "python",
   "pygments_lexer": "ipython3",
   "version": "3.9.13"
  },
  "orig_nbformat": 4
 },
 "nbformat": 4,
 "nbformat_minor": 2
}
