{
 "cells": [
  {
   "attachments": {},
   "cell_type": "markdown",
   "metadata": {},
   "source": [
    "https://www.kaggle.com/datasets/maharshipandya/-cryptocurrency-historical-prices-dataset?resource=download"
   ]
  },
  {
   "cell_type": "code",
   "execution_count": null,
   "metadata": {},
   "outputs": [],
   "source": [
    "import pandas as pd"
   ]
  },
  {
   "cell_type": "code",
   "execution_count": null,
   "metadata": {},
   "outputs": [],
   "source": [
    "df = pd.read_csv(f'./dataset.csv')\n",
    "grouped_dfs = [group for _, group in df.groupby('crypto_name')]\n",
    "crypto_names = [group['crypto_name'].unique() for group in grouped_dfs]\n",
    "crypto_names2 = list(map(lambda x: x[0], crypto_names))\n",
    "crypto_names2"
   ]
  },
  {
   "cell_type": "code",
   "execution_count": null,
   "metadata": {},
   "outputs": [],
   "source": [
    "crypto_names_selection = ['Bitcoin', 'Ethereum', 'Dogecoin', 'XRP']"
   ]
  },
  {
   "cell_type": "code",
   "execution_count": null,
   "metadata": {},
   "outputs": [],
   "source": [
    "dfs = []\n",
    "for df in grouped_dfs:\n",
    "    if(df['crypto_name'].iloc[0] not in crypto_names_selection):\n",
    "        continue;\n",
    "    df['date'] = pd.to_datetime(df['date'])\n",
    "    df.set_index('date', inplace=True)\n",
    "    df.sort_index(inplace=True)\n",
    "    df.drop(columns=['Unnamed: 0'], inplace=True)\n",
    "    dfs.append(df)\n",
    "print(f\"{len(dfs)} dfs, {len(crypto_names_selection)} crypto_names_selection\")\n",
    "# dfs[0].columns\n",
    "dfs[0]"
   ]
  },
  {
   "cell_type": "code",
   "execution_count": null,
   "metadata": {},
   "outputs": [],
   "source": [
    "start_date = '2016-01-01'\n",
    "end_date = '2022-10-23'\n",
    "symbol_dfs = {}\n",
    "for df in dfs:\n",
    "    sym = df['crypto_name'].iloc[0]\n",
    "    mask = (df.index >= start_date) & (df.index <= end_date)\n",
    "    symbol_dfs[sym] = {\n",
    "        'df': df.loc[mask].copy(),\n",
    "        'base_value': df['close'][0]\n",
    "    }\n",
    "\n",
    "symbol_dfs   "
   ]
  },
  {
   "cell_type": "code",
   "execution_count": null,
   "metadata": {},
   "outputs": [],
   "source": [
    "for key, value in symbol_dfs.items():\n",
    "    print(f\"sym: {key}, base_value: {value['base_value']}\")\n"
   ]
  },
  {
   "cell_type": "code",
   "execution_count": null,
   "metadata": {},
   "outputs": [],
   "source": [
    "for key, value in symbol_dfs.items():\n",
    "    base_value = value['base_value']\n",
    "    df = value['df']\n",
    "    df['close_rebased'] = df['close'] / base_value * 100\n",
    "    print(df.head())\n"
   ]
  },
  {
   "cell_type": "code",
   "execution_count": null,
   "metadata": {},
   "outputs": [],
   "source": [
    "df = pd.DataFrame()\n",
    "for sym, value in symbol_dfs.items():\n",
    "    item_df = value['df']\n",
    "    df[sym] = item_df['close_rebased']\n",
    "df.dropna(how='all', inplace=True)\n",
    "df"
   ]
  },
  {
   "cell_type": "code",
   "execution_count": null,
   "metadata": {},
   "outputs": [],
   "source": [
    "df.plot()"
   ]
  },
  {
   "cell_type": "code",
   "execution_count": null,
   "metadata": {},
   "outputs": [],
   "source": [
    "\n",
    "#find correlation between different coins\n",
    "# Calculate the correlation matrix\n",
    "corr_matrix = df.corr()\n",
    "\n",
    "# Plot a heatmap of the correlation matrix\n",
    "plt.imshow(corr_matrix, cmap='coolwarm', interpolation='none')\n",
    "plt.colorbar()\n",
    "plt.xticks(range(len(corr_matrix.columns)), corr_matrix.columns, rotation=90)\n",
    "plt.yticks(range(len(corr_matrix.columns)), corr_matrix.columns)\n",
    "plt.show()\n"
   ]
  }
 ],
 "metadata": {
  "kernelspec": {
   "display_name": "Python 3",
   "language": "python",
   "name": "python3"
  },
  "language_info": {
   "codemirror_mode": {
    "name": "ipython",
    "version": 3
   },
   "file_extension": ".py",
   "mimetype": "text/x-python",
   "name": "python",
   "nbconvert_exporter": "python",
   "pygments_lexer": "ipython3",
   "version": "3.10.6"
  },
  "orig_nbformat": 4,
  "vscode": {
   "interpreter": {
    "hash": "916dbcbb3f70747c44a77c7bcd40155683ae19c65e1c03b4aa3499c5328201f1"
   }
  }
 },
 "nbformat": 4,
 "nbformat_minor": 2
}
