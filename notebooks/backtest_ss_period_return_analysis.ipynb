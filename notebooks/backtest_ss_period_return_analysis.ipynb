{
 "cells": [
  {
   "cell_type": "code",
   "execution_count": null,
   "metadata": {},
   "outputs": [],
   "source": [
    "import pandas as pd"
   ]
  },
  {
   "cell_type": "code",
   "execution_count": null,
   "metadata": {},
   "outputs": [],
   "source": [
    "df = pd.read_csv('data/range_bars_BTCUSDT_simple_strategy_indicators-alt.csv')\n",
    "df.drop(columns=['Unnamed: 0'], inplace=True)  \n",
    "df.reset_index(drop=True, inplace=True)\n",
    "df['timestamp'] = pd.to_datetime(df['timestamp'])\n",
    "df = df.sort_values(by='timestamp')\n",
    "df['ordinal'] = df.index + 1\n",
    "df.set_index('timestamp', inplace=True)\n",
    "df.sort_index(inplace=True)\n",
    "df"
   ]
  },
  {
   "cell_type": "code",
   "execution_count": null,
   "metadata": {},
   "outputs": [],
   "source": [
    "def get_start_end_idx_for_period(df: pd.DataFrame, resample_arg: str = 'M') -> str:\n",
    "        # resample the dataframe into monthly periods\n",
    "        groups = df.resample(resample_arg)\n",
    "        # create a list of tuples containing the start and end indices for each period\n",
    "        start_end_indices = []\n",
    "        # iterate over each group (period) in the resampled DataFrame\n",
    "        for period_start, group_df in groups:\n",
    "            # get the start and end indices of the rows within the current period\n",
    "            period_start = group_df.index[0]\n",
    "            period_end = group_df.index[-1]\n",
    "            # add the start and end indices to the list\n",
    "            start_end_indices.append((period_start, period_end))\n",
    "        return start_end_indices"
   ]
  },
  {
   "cell_type": "code",
   "execution_count": null,
   "metadata": {},
   "outputs": [],
   "source": [
    "start_end_indices = get_start_end_idx_for_period(df)\n",
    "start_end_indices"
   ]
  },
  {
   "cell_type": "code",
   "execution_count": null,
   "metadata": {},
   "outputs": [],
   "source": [
    "from backtesting import Strategy\n",
    "import warnings\n",
    "warnings.filterwarnings('ignore', category=FutureWarning)\n",
    "\n",
    "class RangeBarStrategyPreCalc(Strategy):\n",
    "\n",
    "    per_trade_risk = 0.1\n",
    "    known_false_signals = True\n",
    "\n",
    "    def init(self):\n",
    "       self.false_buys = 0\n",
    "       self.false_sells = 0\n",
    "\n",
    "    def next(self):\n",
    "        current_close = self.data.Close[-1]\n",
    "        index = self.data.index[-1]\n",
    "        range_size = self.data.average_adr[-1] * 0.1\n",
    "        potential_profit = self.data.average_adr[-1] * 0.15\n",
    "        \n",
    "        pre_calc_signal = self.data.signal[-1]\n",
    "        pre_calc_false_signal = self.data.false_signal[-1]\n",
    "\n",
    "        known_false_pass = True\n",
    "        if self.known_false_signals:\n",
    "            known_false_pass = pre_calc_false_signal != 1\n",
    "\n",
    "        if pre_calc_signal == 1 and known_false_pass:\n",
    "            if pre_calc_signal == 1:\n",
    "                if pre_calc_false_signal == 1: \n",
    "                    # print(f'false signal buy')\n",
    "                    self.false_buys += 1\n",
    "            else:\n",
    "                print(f'ERROR: buying, against pre_calc_signal')    \n",
    "            self.buy(size=self.per_trade_risk, sl=current_close - range_size, tp=current_close + potential_profit)\n",
    "        elif pre_calc_signal == -1 and known_false_pass:\n",
    "            if pre_calc_signal == -1:\n",
    "                if pre_calc_false_signal == 1: \n",
    "                    # print(f'false signal sell')\n",
    "                    self.false_sells += 1  \n",
    "            else:\n",
    "                print(f'ERROR: selling, against pre_calc_signal')\n",
    "            self.sell(size=self.per_trade_risk, sl=current_close + range_size , tp=current_close - potential_profit)\n",
    "\n",
    "\n",
    "     \n"
   ]
  },
  {
   "cell_type": "code",
   "execution_count": null,
   "metadata": {},
   "outputs": [],
   "source": [
    "from backtesting.lib import TrailingStrategy\n",
    "import warnings\n",
    "warnings.filterwarnings('ignore', category=FutureWarning)\n",
    "\n",
    "class RangeBarTrailingStrategyPreCalc(TrailingStrategy):\n",
    "\n",
    "    per_trade_risk = 0.1\n",
    "    known_false_signals = True\n",
    "\n",
    "    def init(self):\n",
    "       super().init()\n",
    "       self.false_buys = 0\n",
    "       self.false_sells = 0\n",
    "       self.set_atr_periods(3)\n",
    "       self.set_trailing_sl(1)\n",
    "\n",
    "    def next(self):\n",
    "        super().next()\n",
    "        current_close = self.data.Close[-1]\n",
    "        index = self.data.index[-1]\n",
    "        range_size = self.data.average_adr[-1] * 0.1\n",
    "        potential_profit = self.data.average_adr[-1] * 0.15\n",
    "        \n",
    "        pre_calc_signal = self.data.signal[-1]\n",
    "        pre_calc_false_signal = self.data.false_signal[-1]\n",
    "\n",
    "        known_false_pass = True\n",
    "        if self.known_false_signals:\n",
    "            known_false_pass = pre_calc_false_signal != 1\n",
    "\n",
    "        if pre_calc_signal == 1 and known_false_pass:\n",
    "            if pre_calc_signal == 1:\n",
    "                if pre_calc_false_signal == 1: \n",
    "                    # print(f'false signal buy')\n",
    "                    self.false_buys += 1\n",
    "            else:\n",
    "                print(f'ERROR: buying, against pre_calc_signal')    \n",
    "            self.buy(size=self.per_trade_risk, sl=current_close - range_size, tp=current_close + potential_profit)\n",
    "        elif pre_calc_signal == -1 and known_false_pass:\n",
    "            if pre_calc_signal == -1:\n",
    "                if pre_calc_false_signal == 1: \n",
    "                    # print(f'false signal sell')\n",
    "                    self.false_sells += 1  \n",
    "            else:\n",
    "                print(f'ERROR: selling, against pre_calc_signal')\n",
    "            self.sell(size=self.per_trade_risk, sl=current_close + range_size, tp=current_close - potential_profit)\n",
    "     \n"
   ]
  },
  {
   "cell_type": "code",
   "execution_count": null,
   "metadata": {},
   "outputs": [],
   "source": [
    "def backtest_period(strat, df, start, end, plot = True, leverage = 20):\n",
    "    from backtesting import Backtest\n",
    "    # from time import sleep \n",
    "    df_sample = df[start:end].copy()    \n",
    "    bt = Backtest(df_sample, strat, cash=100_000, margin=1/leverage, commission=(0.03 / 100), exclusive_orders=False)\n",
    "    stats = bt.run()\n",
    "    # sleep(30)\n",
    "    false_buys = stats._strategy.false_buys\n",
    "    false_sells = stats._strategy.false_sells\n",
    "    trades = stats['# Trades']\n",
    "    return_percentage = stats['Return [%]']\n",
    "    win_rate_percentage = stats['Win Rate [%]']\n",
    "    profit_factor = stats['Profit Factor']\n",
    "    profit = stats['Equity Final [$]'] - 100000\n",
    "    max_drawdown_percentage = stats['Max. Drawdown [%]']\n",
    "    average_drawdown_percentage = stats['Avg. Drawdown [%]']\n",
    "    percentage_false_trades = round(((false_buys + false_sells) / int(trades)) * 100, 2)\n",
    "    return {\n",
    "        \"profit\": profit,\n",
    "        \"start\": str(start),\n",
    "        \"end\": str(end),\n",
    "        \"return_percentage\": return_percentage,\n",
    "        \"win_rate_percentage\": win_rate_percentage,\n",
    "        \"profit_factor\": profit_factor,\n",
    "        \"max_drawdown_percentage\": max_drawdown_percentage,\n",
    "        \"average_drawdown_percentage\": average_drawdown_percentage,\n",
    "        \"trades\": trades,\n",
    "        \"false_buys\": false_buys,\n",
    "        \"false_sells\": false_sells,\n",
    "        \"percentage_false_trades\": percentage_false_trades\n",
    "    }\n",
    "\n",
    "\n"
   ]
  },
  {
   "attachments": {},
   "cell_type": "markdown",
   "metadata": {},
   "source": [
    "errors don't seem to occur on a particular period, as demonstrated by the following code:"
   ]
  },
  {
   "cell_type": "code",
   "execution_count": null,
   "metadata": {},
   "outputs": [],
   "source": [
    "# def test_period(idx: int):\n",
    "#     import json\n",
    "#     start, end = start_end_indices[idx]\n",
    "#     print(f'start: {str(start)}, end: {str(end)}')\n",
    "#     result = backtest_period(RangeBarTrailingStrategyPreCalc, df, start, end)\n",
    "#     print(json.dumps(result, indent=4))\n",
    "\n",
    "# test_period(1)    "
   ]
  },
  {
   "cell_type": "code",
   "execution_count": null,
   "metadata": {},
   "outputs": [],
   "source": [
    "def test_periods(start_end_indices):\n",
    "    # import json\n",
    "    bulk_stats = []\n",
    "    bulk_stats_trail = []\n",
    "    errors = []\n",
    "    for start, end in start_end_indices:\n",
    "        print(f'start: {str(start)}, end: {str(end)}')\n",
    "        try:\n",
    "            result = backtest_period(RangeBarStrategyPreCalc, df, start, end, False)\n",
    "            # print(json.dumps(result, indent=4))\n",
    "            bulk_stats.append(result)\n",
    "        except Exception as e:\n",
    "            errors.append(f'strat: RangeBarStrategyPreCalc,  start: {str(start)}, end: {str(end)}. error: {str(e)}')\n",
    "        \n",
    "        # try: False\n",
    "        #     result2 = trail_backtest_period(df, start, end, 20)\n",
    "        #     # print(json.dumps(result, indent=4))\n",
    "        #     bulk_stats_trail.append(result2)\n",
    "        # except Exception as e:\n",
    "        #     errors.append(f'strat: RangeBarTrailingStrategyPreCalc start: {str(start)}, end: {str(end)}. error: {str(e)}')    \n",
    "        \n",
    "\n",
    "    print(f'errors: {len(errors)}')\n",
    "    print(f'errors: {errors}')\n",
    "    df_stats = pd.DataFrame(bulk_stats)\n",
    "    df_stats_trail = pd.DataFrame(bulk_stats_trail)\n",
    "    return df_stats, df_stats_trail\n",
    "\n",
    "df_stats, _ = test_periods(start_end_indices)"
   ]
  },
  {
   "cell_type": "code",
   "execution_count": null,
   "metadata": {},
   "outputs": [],
   "source": [
    "tot_profit = df_stats['profit'].sum()\n",
    "tot_profit_percentage = round((tot_profit / 100000) * 100, 2)\n",
    "print(f'tot_profit_percentage: {tot_profit_percentage}')\n"
   ]
  },
  {
   "attachments": {},
   "cell_type": "markdown",
   "metadata": {},
   "source": [
    "* v1: tot_profit_percentage: 903.04\n",
    "* v2: tot_profit_percentage: very bad\n",
    "* v3: tot_profit_percentage: very bad"
   ]
  },
  {
   "cell_type": "code",
   "execution_count": null,
   "metadata": {},
   "outputs": [],
   "source": [
    "\n",
    "# tot_profit_trial = df_stats_trail['profit'].sum()\n",
    "# tot_profit_percentage_trail = round((tot_profit_trial / 100000) * 100, 2)\n",
    "# print(f'tot_profit_percentage_trail: {tot_profit_percentage_trail}')"
   ]
  },
  {
   "attachments": {},
   "cell_type": "markdown",
   "metadata": {},
   "source": [
    "margin 1/20 tot pp: 903.04 (false)  \n",
    "margin 1/20 tot pp: 10274.68 (no false)  "
   ]
  },
  {
   "attachments": {},
   "cell_type": "markdown",
   "metadata": {},
   "source": [
    "how to stop losses from large drawdown ?"
   ]
  },
  {
   "cell_type": "code",
   "execution_count": null,
   "metadata": {},
   "outputs": [],
   "source": [
    "sorted_df_stats = df_stats.sort_values(by='profit_factor')\n",
    "# sorted_df_stats.to_csv('data/std_false.csv')\n",
    "sorted_df_stats "
   ]
  },
  {
   "cell_type": "code",
   "execution_count": null,
   "metadata": {},
   "outputs": [],
   "source": [
    "# sorted_df_stats = df_stats_trail.sort_values(by='profit_factor')\n",
    "# sorted_df_stats "
   ]
  },
  {
   "attachments": {},
   "cell_type": "markdown",
   "metadata": {},
   "source": [
    "# Biggest Loosers"
   ]
  },
  {
   "attachments": {},
   "cell_type": "markdown",
   "metadata": {},
   "source": [
    "* 2022-10-01 01:29:00\t2022-10-31 23:08:00\t-37.523810  \t\n",
    "* 2022-04-02 00:49:00\t2022-04-30 03:48:00\t-37.687021  \t"
   ]
  },
  {
   "cell_type": "code",
   "execution_count": null,
   "metadata": {},
   "outputs": [],
   "source": [
    "start1 = pd.to_datetime(\"2022-10-01 01:29:00\")\n",
    "end1 = pd.to_datetime(\"2022-10-31 23:08:00\")\n",
    "start2 = pd.to_datetime(\"2022-04-02 00:49:00\")\n",
    "end2 = pd.to_datetime(\"2022-04-30 03:48:00\")\n",
    "df_stats_2, _ = test_periods([[start1,end1], [start2, end2]])\n",
    "sorted_df_stats_2 = df_stats_2.sort_values(by='profit_factor')\n",
    "sorted_df_stats_2 "
   ]
  },
  {
   "attachments": {},
   "cell_type": "markdown",
   "metadata": {},
   "source": [
    "# Biggest Winners"
   ]
  },
  {
   "attachments": {},
   "cell_type": "markdown",
   "metadata": {},
   "source": [
    "* 2023-02-01 14:49:00\t2023-02-28 08:28:00\t189.561284\n",
    "* 2023-01-01 00:02:00\t2023-01-31 13:48:00\t353.773942"
   ]
  },
  {
   "cell_type": "code",
   "execution_count": null,
   "metadata": {},
   "outputs": [],
   "source": [
    "startb1 = pd.to_datetime(\"2023-02-01 14:49:00\")\n",
    "endb1 = pd.to_datetime(\"2023-02-28 08:28:00\")\n",
    "startb2 = pd.to_datetime(\"2023-01-01 00:02:00\")\n",
    "endb2 = pd.to_datetime(\"2023-01-31 13:48:00\")\n",
    "\n",
    "df_stats_3, _ = test_periods([[startb1, endb1], [startb2, endb2]])\n",
    "sorted_df_stats_3 = df_stats_2.sort_values(by='profit_factor')\n",
    "sorted_df_stats_3 "
   ]
  }
 ],
 "metadata": {
  "kernelspec": {
   "display_name": "base",
   "language": "python",
   "name": "python3"
  },
  "language_info": {
   "codemirror_mode": {
    "name": "ipython",
    "version": 3
   },
   "file_extension": ".py",
   "mimetype": "text/x-python",
   "name": "python",
   "nbconvert_exporter": "python",
   "pygments_lexer": "ipython3",
   "version": "3.9.13"
  },
  "orig_nbformat": 4,
  "vscode": {
   "interpreter": {
    "hash": "e6206a5d9777dc4941d1ef736d0f3211132aba6ec6b27c0cc45f807d6cb74e8f"
   }
  }
 },
 "nbformat": 4,
 "nbformat_minor": 2
}
