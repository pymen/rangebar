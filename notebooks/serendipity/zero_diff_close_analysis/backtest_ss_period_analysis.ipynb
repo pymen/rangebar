{
 "cells": [
  {
   "attachments": {},
   "cell_type": "markdown",
   "metadata": {},
   "source": [
    "## hedging mode does not perform as well as non-hedging \n",
    "\n",
    "> If hedging is True, allow trades in both directions simultaneously. If False, the opposite-facing orders first close existing trades in a FIFO manner."
   ]
  },
  {
   "cell_type": "code",
   "execution_count": null,
   "metadata": {},
   "outputs": [],
   "source": [
    "import pandas as pd\n",
    "import humanize"
   ]
  },
  {
   "cell_type": "code",
   "execution_count": null,
   "metadata": {},
   "outputs": [],
   "source": [
    "input_path = '../../tmp-data/ss_range_bars.no_zero_close'\n",
    "known_false_signals = False\n"
   ]
  },
  {
   "cell_type": "code",
   "execution_count": null,
   "metadata": {},
   "outputs": [],
   "source": [
    "df = pd.read_csv(f'{input_path}.csv', parse_dates=['timestamp'], index_col='timestamp')\n",
    "df"
   ]
  },
  {
   "cell_type": "code",
   "execution_count": null,
   "metadata": {},
   "outputs": [],
   "source": [
    "def get_start_end_idx_for_period(df: pd.DataFrame, resample_arg: str = 'M') -> list[str]:\n",
    "        # resample the dataframe into monthly periods\n",
    "        groups = df.resample(resample_arg)\n",
    "        # create a list of tuples containing the start and end indices for each period\n",
    "        start_end_indices = []\n",
    "        # iterate over each group (period) in the resampled DataFrame\n",
    "        for period_start, group_df in groups:\n",
    "            # get the start and end indices of the rows within the current period\n",
    "            period_start = group_df.index[0]\n",
    "            period_end = group_df.index[-1]\n",
    "            # add the start and end indices to the list\n",
    "            start_end_indices.append((period_start, period_end))\n",
    "        return start_end_indices"
   ]
  },
  {
   "cell_type": "code",
   "execution_count": null,
   "metadata": {},
   "outputs": [],
   "source": [
    "start_end_indices = get_start_end_idx_for_period(df)\n",
    "start_end_indices"
   ]
  },
  {
   "cell_type": "code",
   "execution_count": null,
   "metadata": {},
   "outputs": [],
   "source": [
    "import random\n",
    "from backtesting import Strategy\n",
    "import warnings\n",
    "warnings.filterwarnings('ignore', category=FutureWarning)\n",
    "\n",
    "class RangeBarStrategyPreCalc(Strategy):\n",
    "\n",
    "    per_trade_risk = 0.02\n",
    "    trades_buy_open_at_time_of_buy = []\n",
    "    trades_sell_open_at_time_of_sell = []\n",
    "    trades_open_per_tick = []\n",
    "    \n",
    "    \n",
    "    def init(self):\n",
    "       self.false_buys = 0\n",
    "       self.false_sells = 0\n",
    "       self.trades_buy_open_at_time_of_buy = []\n",
    "       self.trades_sell_open_at_time_of_sell = []\n",
    "       self.trades_open_per_tick = []\n",
    "\n",
    "    # Stop Loss Price = Liquidation Price - (Liquidation Price - Entry Price) / Leverage * Stop Loss Ratio\n",
    "    def next(self):\n",
    "        ts = self.data.index[-1]\n",
    "        current_close = self.data.Close[-1]\n",
    "        range_size = self.data.average_adr[-1] * 0.1\n",
    "        potential_profit = self.data.average_adr[-1] * 0.15\n",
    "        \n",
    "        pre_calc_signal = self.data.signal[-1]\n",
    "     \n",
    "        coin_toss = random.choice([True, False])    \n",
    "\n",
    "        order_placed = False\n",
    "        if pre_calc_signal == 1:\n",
    "            order_placed = True        \n",
    "            self.buy(size=self.per_trade_risk, sl=current_close - range_size, tp=current_close + potential_profit)\n",
    "        elif pre_calc_signal == -1:\n",
    "            order_placed = True    \n",
    "            self.sell(size=self.per_trade_risk, sl=current_close + range_size , tp=current_close - potential_profit)\n",
    "\n",
    "        # order counts    \n",
    "        if order_placed:    \n",
    "          is_short_count = len(list(filter(lambda t: t.is_short, self.trades)))\n",
    "          is_long_count = len(list(filter(lambda t: t.is_long, self.trades)))\n",
    "          self.trades_buy_open_at_time_of_buy.append(is_long_count)\n",
    "          self.trades_sell_open_at_time_of_sell.append(is_short_count)\n",
    "        is_short_count = len(list(filter(lambda t: t.is_short, self.trades)))\n",
    "        is_long_count = len(list(filter(lambda t: t.is_long, self.trades)))\n",
    "        self.trades_open_per_tick.append({'timestamp': ts, 'buy': is_long_count, 'sell': is_short_count})"
   ]
  },
  {
   "cell_type": "code",
   "execution_count": null,
   "metadata": {},
   "outputs": [],
   "source": [
    "\n",
    "\n",
    "def backtest_period(strat, df, all_stats, start, end, per_trade_risk=0.02, leverage=20, hedging=False, crypto_cash_adjustment=100000):\n",
    "    from backtesting import Backtest\n",
    "    strat.per_trade_risk = per_trade_risk\n",
    "    bt = Backtest(df, strat, hedging=hedging, cash=crypto_cash_adjustment, margin=1/leverage, commission=(0.04 / 100), exclusive_orders=False)\n",
    "    stats = bt.run()\n",
    "\n",
    "    # collect stats\n",
    "    stats_cp = stats.copy()\n",
    "    stats_cp['start'] = start\n",
    "    stats_cp['end'] = end\n",
    "    all_stats.append(stats_cp)\n",
    "\n",
    "    # argument stats\n",
    "    false_buys = stats._strategy.false_buys\n",
    "    false_sells = stats._strategy.false_sells\n",
    "    trades = stats['# Trades']\n",
    "    trade_return_percs = stats._trades['ReturnPct']\n",
    "    return_percentage = stats['Return [%]']\n",
    "    win_rate_percentage = stats['Win Rate [%]']\n",
    "    profit_factor = stats['Profit Factor']\n",
    "    net_profit = (stats['Equity Final [$]'] - crypto_cash_adjustment)\n",
    "    equity = stats['Equity Final [$]']\n",
    "    max_drawdown_percentage = stats['Max. Drawdown [%]']\n",
    "    average_drawdown_percentage = stats['Avg. Drawdown [%]']\n",
    "    percentage_false_trades = round(((false_buys + false_sells) / int(trades)) * 100, 2)\n",
    "    return {\n",
    "        \"trades_buy_open_at_time_of_buy\": [i for i in stats._strategy.trades_buy_open_at_time_of_buy if i != 0],\n",
    "        \"trades_sell_open_at_time_of_sell\": [i for i in stats._strategy.trades_sell_open_at_time_of_sell if i != 0],\n",
    "        \"trades_open_per_tick\": stats._strategy.trades_open_per_tick,\n",
    "        \"trade_return_percentages\": trade_return_percs,\n",
    "        \"net_profit\": humanize.intcomma(net_profit),\n",
    "        \"start\": str(start),\n",
    "        \"end\": str(end),\n",
    "        \"return_percentage\": return_percentage,\n",
    "        \"win_rate_percentage\": win_rate_percentage,\n",
    "        \"profit_factor\": profit_factor,\n",
    "        \"max_drawdown_percentage\": max_drawdown_percentage,\n",
    "        \"average_drawdown_percentage\": average_drawdown_percentage,\n",
    "        \"trades\": trades,\n",
    "        \"false_buys\": false_buys,\n",
    "        \"false_sells\": false_sells,\n",
    "        \"percentage_false_trades\": percentage_false_trades,\n",
    "        \"equity\": equity,\n",
    "        \"trades\": stats._trades,\n",
    "        \"bt\": bt\n",
    "    }"
   ]
  },
  {
   "cell_type": "code",
   "execution_count": null,
   "metadata": {},
   "outputs": [],
   "source": [
    "def tot_prof(trades, initial):\n",
    "    tot_prof = initial\n",
    "    for perc in trades:\n",
    "        tot_prof  *= (1 + perc)\n",
    "        if tot_prof < 0:\n",
    "            raise Exception('Negative balance')\n",
    "    return tot_prof\n",
    "\n",
    "def test_periods(start_end_indices, all_stats = [], actual_cash=1000, per_trade_risk=0.02, leverage=20, hedging=False, crypto_cash_adjustment=100000):\n",
    "    profit_takeout = []\n",
    "    bulk_stats = []\n",
    "    errors = []\n",
    "    initial_adjusted_equity = crypto_cash_adjustment\n",
    "    current_adjusted_equity = initial_adjusted_equity\n",
    "    for start, end in start_end_indices:\n",
    "        try:\n",
    "            df_sample = df[start:end].copy()    \n",
    "            result = backtest_period(RangeBarStrategyPreCalc, df_sample, all_stats, start, end, per_trade_risk=per_trade_risk, leverage=leverage, hedging=hedging, crypto_cash_adjustment=current_adjusted_equity)\n",
    "            if result['equity'] < initial_adjusted_equity:\n",
    "                current_adjusted_equity = result['equity']\n",
    "            else:\n",
    "                current_adjusted_equity = initial_adjusted_equity\n",
    "                actual_equity = tot_prof(result['trade_return_percentages'], actual_cash)\n",
    "                takeout =  actual_equity - actual_cash\n",
    "                profit_takeout.append([f'{start}-{end}', takeout])\n",
    "            bulk_stats.append(result)\n",
    "        except Exception as e:\n",
    "            errors.append(f'strat: RangeBarStrategyPreCalc,  start: {str(start)}, end: {str(end)}. error: {str(e)}')\n",
    "\n",
    "    print(f'errors: {len(errors)}')\n",
    "    print(f'errors: {errors}')\n",
    "    df_stats = pd.DataFrame(bulk_stats)\n",
    "    return df_stats, all_stats, profit_takeout, bulk_stats\n"
   ]
  },
  {
   "cell_type": "code",
   "execution_count": null,
   "metadata": {},
   "outputs": [],
   "source": [
    "per_trade_risk=0.02\n",
    "actual_cash=1000\n",
    "leverage=20\n",
    "\n",
    "df_stats, all_stats, profit_takeout, bulk_stats = test_periods(start_end_indices, actual_cash=actual_cash,  per_trade_risk=per_trade_risk, leverage=20, hedging=False)\n",
    "print(f'profit_takeout per period:\\n')\n",
    "for pt in profit_takeout:\n",
    "    period, profit = pt\n",
    "    print(f'{period}: {humanize.intcomma(round(profit,2))}')\n",
    "takeout = [x[1] for x in profit_takeout]\n",
    "print(f'total profit takeout: {humanize.intcomma(sum(takeout))}')\n"
   ]
  },
  {
   "attachments": {},
   "cell_type": "markdown",
   "metadata": {},
   "source": [
    "## with filler\n",
    "\n",
    "2022-04-13 17:32:00-2022-04-30 23:59:00: 406.6  \n",
    "2022-05-01 00:00:00-2022-05-31 23:54:00: 184,184.06  \n",
    "2022-06-01 00:00:00-2022-06-30 23:59:01: 280,256.86  \n",
    "2022-07-01 00:00:00-2022-07-31 23:59:00: 285,264.94  \n",
    "2022-08-01 00:00:00-2022-08-31 23:46:00: 11,906.28  \n",
    "2022-09-01 00:00:00-2022-09-30 23:59:00: 16,999.74  \n",
    "2022-10-01 00:00:00-2022-10-31 23:48:00: 2,965.89  \n",
    "2022-11-01 00:05:00-2022-11-30 23:54:00: 16,825.25  \n",
    "2022-12-01 00:05:00-2022-12-31 23:38:01: 2,073.43  \n",
    "2023-01-01 00:08:00-2023-01-31 23:59:00: 7,633.88  \n",
    "2023-02-01 00:00:00-2023-02-28 23:34:00: 3,230.02  \n",
    "2023-03-01 00:16:00-2023-03-31 23:59:00: 10,978.79  \n",
    "2023-04-01 00:00:00-2023-04-14 16:39:00: 677.23  \n",
    "total profit takeout: 823,402.9596548487  "
   ]
  },
  {
   "cell_type": "code",
   "execution_count": null,
   "metadata": {},
   "outputs": [],
   "source": [
    "for stat in bulk_stats:\n",
    "    start = stat['start']\n",
    "    end = stat['end']\n",
    "    # stat['bt'].plot(filename=f'../tmp-data/period-plots/{start}-{end}')\n",
    "    stat['trades'].to_csv(f'../../tmp-data/period-trades/{actual_cash}-{per_trade_risk}-{start}-{end}.csv')"
   ]
  },
  {
   "cell_type": "code",
   "execution_count": null,
   "metadata": {},
   "outputs": [],
   "source": [
    "print(f'all_stats: {len(all_stats)}')\n",
    "all_stats_str = \"\"\n",
    "for stats in all_stats:\n",
    "    all_stats_str += stats.to_string() + f'\\n{stats._trades.to_string()}\\n' + \"\\n\\n-------------------------------------------------------------------------------------------------\\n\\n\"\n",
    "\n",
    "suffix = input_path.split('/')[-1].split('.')[-1]\n",
    "with open(f'../../tmp-data/all_stats-{suffix}-{actual_cash}-{per_trade_risk}-no_zero_close.txt', 'w') as f:\n",
    "    f.write(all_stats_str)    "
   ]
  },
  {
   "cell_type": "code",
   "execution_count": null,
   "metadata": {},
   "outputs": [],
   "source": [
    "pf_measure = df_stats['profit_factor'].sum()\n",
    "pf_measure"
   ]
  },
  {
   "cell_type": "code",
   "execution_count": null,
   "metadata": {},
   "outputs": [],
   "source": [
    "dd_p_measure = df_stats['max_drawdown_percentage'].sum()\n",
    "dd_p_measure"
   ]
  }
 ],
 "metadata": {
  "kernelspec": {
   "display_name": "base",
   "language": "python",
   "name": "python3"
  },
  "language_info": {
   "codemirror_mode": {
    "name": "ipython",
    "version": 3
   },
   "file_extension": ".py",
   "mimetype": "text/x-python",
   "name": "python",
   "nbconvert_exporter": "python",
   "pygments_lexer": "ipython3",
   "version": "3.11.3"
  },
  "orig_nbformat": 4,
  "vscode": {
   "interpreter": {
    "hash": "e6206a5d9777dc4941d1ef736d0f3211132aba6ec6b27c0cc45f807d6cb74e8f"
   }
  }
 },
 "nbformat": 4,
 "nbformat_minor": 2
}
