{
 "cells": [
  {
   "cell_type": "code",
   "execution_count": null,
   "metadata": {},
   "outputs": [],
   "source": [
    "import pandas as pd\n",
    "import humanize"
   ]
  },
  {
   "cell_type": "code",
   "execution_count": null,
   "metadata": {},
   "outputs": [],
   "source": [
    "input_path = '../../tmp-data/kline_rb_signals_merged_df'"
   ]
  },
  {
   "cell_type": "code",
   "execution_count": null,
   "metadata": {},
   "outputs": [],
   "source": [
    "df = pd.read_csv(f'{input_path}.csv', parse_dates=['timestamp'], index_col='timestamp')\n",
    "df"
   ]
  },
  {
   "cell_type": "code",
   "execution_count": null,
   "metadata": {},
   "outputs": [],
   "source": [
    "import random\n",
    "from backtesting import Strategy\n",
    "import warnings\n",
    "warnings.filterwarnings('ignore', category=FutureWarning)\n",
    "\n",
    "class RangeBarStrategyPreCalc(Strategy):\n",
    "\n",
    "    per_trade_risk = 0.02\n",
    "    trades_buy_open_at_time_of_buy = []\n",
    "    trades_sell_open_at_time_of_sell = []\n",
    "    trades_open_per_tick = []\n",
    "    \n",
    "    \n",
    "    def init(self):\n",
    "       self.false_buys = 0\n",
    "       self.false_sells = 0\n",
    "       self.trades_buy_open_at_time_of_buy = []\n",
    "       self.trades_sell_open_at_time_of_sell = []\n",
    "       self.trades_open_per_tick = []\n",
    "\n",
    "    # Stop Loss Price = Liquidation Price - (Liquidation Price - Entry Price) / Leverage * Stop Loss Ratio\n",
    "    def next(self):\n",
    "        ts = self.data.index[-1]\n",
    "        current_close = self.data.Close[-1]\n",
    "        range_size = self.data.average_adr[-1] * 0.1\n",
    "        potential_profit = self.data.average_adr[-1] * 0.15\n",
    "        \n",
    "        pre_calc_signal = self.data.signal[-1]\n",
    "     \n",
    "        coin_toss = random.choice([True, False])    \n",
    "\n",
    "        order_placed = False\n",
    "        if pre_calc_signal > 0:\n",
    "            order_placed = True        \n",
    "            self.buy(size=self.per_trade_risk * abs(pre_calc_signal), sl=current_close - range_size, tp=current_close + potential_profit)\n",
    "        elif pre_calc_signal < 0:\n",
    "            order_placed = True    \n",
    "            self.sell(size=self.per_trade_risk * abs(pre_calc_signal), sl=current_close + range_size , tp=current_close - potential_profit)\n",
    "\n",
    "        # order counts    \n",
    "        if order_placed:    \n",
    "          is_short_count = len(list(filter(lambda t: t.is_short, self.trades)))\n",
    "          is_long_count = len(list(filter(lambda t: t.is_long, self.trades)))\n",
    "          self.trades_buy_open_at_time_of_buy.append(is_long_count)\n",
    "          self.trades_sell_open_at_time_of_sell.append(is_short_count)\n",
    "        is_short_count = len(list(filter(lambda t: t.is_short, self.trades)))\n",
    "        is_long_count = len(list(filter(lambda t: t.is_long, self.trades)))\n",
    "        self.trades_open_per_tick.append({'timestamp': ts, 'buy': is_long_count, 'sell': is_short_count})"
   ]
  },
  {
   "cell_type": "code",
   "execution_count": null,
   "metadata": {},
   "outputs": [],
   "source": [
    "from backtesting import Backtest\n",
    "bt = Backtest(df, RangeBarStrategyPreCalc, hedging=False, cash=100000, margin=1/20, commission=(0.04 / 100), exclusive_orders=False)\n",
    "stats = bt.run()\n",
    "stats"
   ]
  }
 ],
 "metadata": {
  "kernelspec": {
   "display_name": "base",
   "language": "python",
   "name": "python3"
  },
  "language_info": {
   "codemirror_mode": {
    "name": "ipython",
    "version": 3
   },
   "file_extension": ".py",
   "mimetype": "text/x-python",
   "name": "python",
   "nbconvert_exporter": "python",
   "pygments_lexer": "ipython3",
   "version": "3.11.3"
  },
  "orig_nbformat": 4,
  "vscode": {
   "interpreter": {
    "hash": "e6206a5d9777dc4941d1ef736d0f3211132aba6ec6b27c0cc45f807d6cb74e8f"
   }
  }
 },
 "nbformat": 4,
 "nbformat_minor": 2
}
