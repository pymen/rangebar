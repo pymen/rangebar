{
 "cells": [
  {
   "cell_type": "code",
   "execution_count": null,
   "metadata": {},
   "outputs": [],
   "source": [
    "import pandas as pd\n",
    "import humanize"
   ]
  },
  {
   "cell_type": "code",
   "execution_count": null,
   "metadata": {},
   "outputs": [],
   "source": [
    "rb = pd.read_csv('../../tmp-data/ss_range_bars.final.csv', parse_dates=['timestamp'], index_col='timestamp')\n",
    "rb.columns"
   ]
  },
  {
   "cell_type": "code",
   "execution_count": null,
   "metadata": {},
   "outputs": [],
   "source": [
    "signal_only_df = rb.drop(columns=['Open', 'High', 'Low', 'Close', 'volume', 'macd', 'macd_signal', 'macd_histogram', 'bb_upper', 'bb_lower',\n",
    "       'bb_distance', 'rsi'])\n",
    "signal_only_df"
   ]
  },
  {
   "cell_type": "code",
   "execution_count": null,
   "metadata": {},
   "outputs": [],
   "source": [
    "signal_count = signal_only_df['signal'].value_counts()\n",
    "signal_count "
   ]
  },
  {
   "cell_type": "code",
   "execution_count": null,
   "metadata": {},
   "outputs": [],
   "source": [
    "kline_df = pd.read_csv('../../data/btcusdt-1year-1m-merged.csv', usecols=['timestamp', 'open', 'high', 'low', 'close', 'volume'])\n",
    "kline_df['date'] = pd.to_datetime(kline_df['timestamp']).dt.date \n",
    "kline_df['timestamp'] = pd.to_datetime(kline_df['timestamp'])\n",
    "kline_df.set_index('timestamp', inplace=True)\n",
    "kline_df.sort_index(inplace=True)\n",
    "kline_df.rename(columns={'close': 'Close', 'open': 'Open', 'high': 'High', 'low': 'Low'}, inplace=True)\n",
    "kline_df"
   ]
  },
  {
   "cell_type": "code",
   "execution_count": null,
   "metadata": {},
   "outputs": [],
   "source": [
    "merged_df = pd.merge(kline_df, signal_only_df, left_index=True, right_index=True, how='left')\n",
    "merged_df['signal'].fillna(value=0, inplace=True)\n",
    "merged_df"
   ]
  },
  {
   "cell_type": "code",
   "execution_count": null,
   "metadata": {},
   "outputs": [],
   "source": [
    "merged_df[(abs(merged_df['signal']) > 0)]"
   ]
  },
  {
   "cell_type": "code",
   "execution_count": null,
   "metadata": {},
   "outputs": [],
   "source": [
    "signal_count = merged_df['signal'].value_counts()\n",
    "signal_count"
   ]
  },
  {
   "cell_type": "code",
   "execution_count": null,
   "metadata": {},
   "outputs": [],
   "source": [
    "df = merged_df"
   ]
  },
  {
   "cell_type": "code",
   "execution_count": null,
   "metadata": {},
   "outputs": [],
   "source": [
    "import random\n",
    "from backtesting import Strategy\n",
    "import warnings\n",
    "warnings.filterwarnings('ignore', category=FutureWarning)\n",
    "\n",
    "class RangeBarStrategyPreCalc(Strategy):\n",
    "\n",
    "    per_trade_risk = 0.1\n",
    "    rs_sl_factor = 0.1\n",
    "    potential_profit_factor = 0.25\n",
    "    \n",
    "    def init(self):\n",
    "       pass\n",
    "\n",
    "    # Stop Loss Price = Liquidation Price - (Liquidation Price - Entry Price) / Leverage * Stop Loss Ratio\n",
    "    def next(self):\n",
    "        ts = self.data.index[-1]\n",
    "        current_close = self.data.Close[-1]\n",
    "        pre_calc_signal = self.data.signal[-1]\n",
    "     \n",
    "        if pre_calc_signal > 0:\n",
    "            rs_sl = self.data.average_adr[-1] * self.rs_sl_factor\n",
    "            potential_profit = self.data.average_adr[-1] * self.potential_profit_factor\n",
    "            order_placed = True        \n",
    "            self.buy(size=self.per_trade_risk, sl=current_close - rs_sl, tp=current_close + potential_profit)\n",
    "        elif pre_calc_signal < 0:\n",
    "            rs_sl = self.data.average_adr[-1] * self.rs_sl_factor\n",
    "            potential_profit = self.data.average_adr[-1] * self.potential_profit_factor\n",
    "            self.sell(size=self.per_trade_risk, sl=current_close + rs_sl , tp=current_close - potential_profit)"
   ]
  },
  {
   "cell_type": "code",
   "execution_count": null,
   "metadata": {},
   "outputs": [],
   "source": [
    "import pyperclip as clip\n",
    "import tabulate"
   ]
  },
  {
   "cell_type": "code",
   "execution_count": null,
   "metadata": {},
   "outputs": [],
   "source": [
    "from backtesting import Backtest\n",
    "bt = Backtest(df, RangeBarStrategyPreCalc, hedging=False, cash=100000, margin=1/20, commission=(0.04 / 100), exclusive_orders=False)\n",
    "stats = bt.run()\n",
    "md = stats.to_markdown()\n",
    "clip.copy(md)\n",
    "stats"
   ]
  },
  {
   "attachments": {},
   "cell_type": "markdown",
   "metadata": {},
   "source": [
    "## RB Signals Merged With Kline Source"
   ]
  },
  {
   "attachments": {},
   "cell_type": "markdown",
   "metadata": {},
   "source": [
    "|                        | 0                                                                          |\n",
    "|:-----------------------|:---------------------------------------------------------------------------|\n",
    "| Start                  | 2022-04-13 18:27:00                                                        |\n",
    "| End                    | 2023-04-14 16:39:00                                                        |\n",
    "| Duration               | 365 days 22:12:00                                                          |\n",
    "| Exposure Time [%]      | 48.02052632877425                                                          |\n",
    "| Equity Final [$]       | 67011.0654171556                                                           |\n",
    "| Equity Peak [$]        | 135369.62312571923                                                         |\n",
    "| Return [%]             | -32.9889345828444                                                          |\n",
    "| Buy & Hold Return [%]  | -26.98687433394588                                                         |\n",
    "| Return (Ann.) [%]      | -32.8425877509108                                                          |\n",
    "| Volatility (Ann.) [%]  | 38.81420532692596                                                          |\n",
    "| Sharpe Ratio           | 0.0                                                                        |\n",
    "| Sortino Ratio          | 0.0                                                                        |\n",
    "| Calmar Ratio           | 0.0                                                                        |\n",
    "| Max. Drawdown [%]      | -51.897842498051894                                                        |\n",
    "| Avg. Drawdown [%]      | -1.8947281385869634                                                        |\n",
    "| Max. Drawdown Duration | 244 days 12:56:00                                                          |\n",
    "| Avg. Drawdown Duration | 3 days 07:29:00                                                            |\n",
    "| # Trades               | 12080                                                                      |\n",
    "| Win Rate [%]           | 34.38741721854305                                                          |\n",
    "| Best Trade [%]         | 3.1480288751336127                                                         |\n",
    "| Worst Trade [%]        | -1.6776672963060735                                                        |\n",
    "| Avg. Trade [%]         | -0.008570063133961359                                                      |\n",
    "| Max. Trade Duration    | 1 days 02:58:00                                                            |\n",
    "| Avg. Trade Duration    | 0 days 01:32:00                                                            |\n",
    "| Profit Factor          | 0.981646934088045                                                          |\n",
    "| Expectancy [%]         | -0.005843222028528298                                                      |\n",
    "| SQN                    | -1.5096543308170662                                                        |\n",
    "| _strategy              | RangeBarStrategyPreCalc                                                    |\n",
    "| _equity_curve          | Equity  DrawdownPct  DrawdownDuration                                      |\n",
    "|                        | timestamp                                                                  |\n",
    "|                        | 2022-04-13 18:27:00  100000.000000     0.000000               NaT          |\n",
    "|                        | 2022-04-13 18:28:00  100000.000000     0.000000               NaT          |\n",
    "|                        | 2022-04-13 18:29:00  100000.000000     0.000000               NaT          |\n",
    "|                        | 2022-04-13 18:30:00  100000.000000     0.000000               NaT          |\n",
    "|                        | 2022-04-13 18:31:00  100000.000000     0.000000               NaT          |\n",
    "|                        | ...                            ...          ...               ...          |\n",
    "|                        | 2023-04-14 16:35:00   67011.065417     0.504977               NaT          |\n",
    "|                        | 2023-04-14 16:36:00   67011.065417     0.504977               NaT          |\n",
    "|                        | 2023-04-14 16:37:00   67011.065417     0.504977               NaT          |\n",
    "|                        | 2023-04-14 16:38:00   67011.065417     0.504977               NaT          |\n",
    "|                        | 2023-04-14 16:39:00   67011.065417     0.504977 244 days 12:56:00          |\n",
    "|                        |                                                                            |\n",
    "|                        | [526933 rows x 3 columns]                                                  |\n",
    "| _trades                | Size  EntryBar  ExitBar   EntryPrice     ExitPrice         PnL             |\n",
    "|                        | 0        -1      1277     1333  39966.00720  39756.128000  209.879200  \\   |\n",
    "|                        | 1        -1      1543     1565  39661.72896  39790.586000 -128.857040      |\n",
    "|                        | 2         1      1571     1797  39874.24332  40084.272000  210.028680      |\n",
    "|                        | 3         1      1797     1812  40046.11204  39917.014000 -129.098040      |\n",
    "|                        | 4        -1      1819     1821  39729.10200  39857.986000 -128.884000      |\n",
    "|                        | ...     ...       ...      ...          ...           ...         ...      |\n",
    "|                        | 12075    -1    486429   486639  26442.81864  26642.508571 -199.689931      |\n",
    "|                        | 12076    -1    486705   486740  26302.17492  26502.408571 -200.233651      |\n",
    "|                        | 12077     1    486747   486909  26521.60440  26889.617143  368.012743      |\n",
    "|                        | 12078    -1    500917   500924  26733.70224  26518.014286  215.687954      |\n",
    "|                        | 12079    -1    502432   502575  26849.75580  26973.692857 -123.937057      |\n",
    "|                        |                                                                            |\n",
    "|                        |        ReturnPct           EntryTime            ExitTime        Duration   |\n",
    "|                        | 0       0.005251 2022-04-14 15:44:00 2022-04-14 16:40:00 0 days 00:56:00   |\n",
    "|                        | 1      -0.003249 2022-04-14 20:10:00 2022-04-14 20:32:00 0 days 00:22:00   |\n",
    "|                        | 2       0.005267 2022-04-14 20:38:00 2022-04-15 00:24:00 0 days 03:46:00   |\n",
    "|                        | 3      -0.003224 2022-04-15 00:24:00 2022-04-15 00:39:00 0 days 00:15:00   |\n",
    "|                        | 4      -0.003244 2022-04-15 00:46:00 2022-04-15 00:48:00 0 days 00:02:00   |\n",
    "|                        | ...          ...                 ...                 ...             ...   |\n",
    "|                        | 12075  -0.007552 2023-03-17 13:36:00 2023-03-17 17:06:00 0 days 03:30:00   |\n",
    "|                        | 12076  -0.007613 2023-03-17 18:12:00 2023-03-17 18:47:00 0 days 00:35:00   |\n",
    "|                        | 12077   0.013876 2023-03-17 18:54:00 2023-03-17 21:36:00 0 days 02:42:00   |\n",
    "|                        | 12078   0.008068 2023-03-27 15:04:00 2023-03-27 15:11:00 0 days 00:07:00   |\n",
    "|                        | 12079  -0.004616 2023-03-28 16:19:00 2023-03-28 18:42:00 0 days 02:23:00   |\n",
    "|                        |                                                                            |\n",
    "|                        | [12080 rows x 10 columns]                                                  |"
   ]
  },
  {
   "attachments": {},
   "cell_type": "markdown",
   "metadata": {},
   "source": [
    "## RB Final - erroneous rb creation"
   ]
  },
  {
   "attachments": {},
   "cell_type": "markdown",
   "metadata": {},
   "source": [
    "|                        | 0                                                                          |\n",
    "|:-----------------------|:---------------------------------------------------------------------------|\n",
    "| Start                  | 2022-04-13 18:27:00                                                        |\n",
    "| End                    | 2023-04-14 16:39:00                                                        |\n",
    "| Duration               | 365 days 22:12:00                                                          |\n",
    "| Exposure Time [%]      | 43.57198029489006                                                          |\n",
    "| Equity Final [$]       | 20909558096.570538                                                         |\n",
    "| Equity Peak [$]        | 20909558096.570538                                                         |\n",
    "| Return [%]             | 20909458.096570536                                                         |\n",
    "| Buy & Hold Return [%]  | -27.154721765685903                                                        |\n",
    "| Return (Ann.) [%]      | 19559102.794789784                                                         |\n",
    "| Volatility (Ann.) [%]  | 31059145.45268928                                                          |\n",
    "| Sharpe Ratio           | 0.6297373127854761                                                         |\n",
    "| Sortino Ratio          | 1235888.12045257                                                           |\n",
    "| Calmar Ratio           | 1690232.5200632848                                                         |\n",
    "| Max. Drawdown [%]      | -11.571841484896684                                                        |\n",
    "| Avg. Drawdown [%]      | -1.3581442860286381                                                        |\n",
    "| Max. Drawdown Duration | 10 days 19:02:00                                                           |\n",
    "| Avg. Drawdown Duration | 0 days 07:21:00                                                            |\n",
    "| # Trades               | 14076                                                                      |\n",
    "| Win Rate [%]           | 37.091503267973856                                                         |\n",
    "| Best Trade [%]         | 4.748848942760664                                                          |\n",
    "| Worst Trade [%]        | -3.476291644907592                                                         |\n",
    "| Avg. Trade [%]         | 0.2571517195338213                                                         |\n",
    "| Max. Trade Duration    | 1 days 03:28:00                                                            |\n",
    "| Avg. Trade Duration    | 0 days 01:31:00                                                            |\n",
    "| Profit Factor          | 2.776746195749678                                                          |\n",
    "| Expectancy [%]         | 0.2603769491897146                                                         |\n",
    "| SQN                    | 14.058428578942353                                                         |\n",
    "| _strategy              | RangeBarStrategyPreCalc                                                    |\n",
    "| _equity_curve          | Equity  DrawdownPct DrawdownDuration                                       |\n",
    "|                        | timestamp                                                                  |\n",
    "|                        | 2022-04-13 18:27:00  1.000000e+05     0.000000              NaT            |\n",
    "|                        | 2022-04-13 18:28:00  1.000000e+05     0.000000              NaT            |\n",
    "|                        | 2022-04-13 18:29:00  1.000000e+05     0.000000              NaT            |\n",
    "|                        | 2022-04-13 18:30:00  1.000000e+05     0.000000              NaT            |\n",
    "|                        | 2022-04-13 18:31:00  1.000000e+05     0.000000              NaT            |\n",
    "|                        | ...                           ...          ...              ...            |\n",
    "|                        | 2023-04-14 16:35:00  2.075028e+10     0.005616              NaT            |\n",
    "|                        | 2023-04-14 16:36:00  2.075028e+10     0.005616              NaT            |\n",
    "|                        | 2023-04-14 16:37:00  2.090956e+10     0.000000  0 days 09:45:00            |\n",
    "|                        | 2023-04-14 16:37:01  2.090956e+10     0.000000              NaT            |\n",
    "|                        | 2023-04-14 16:39:00  2.090956e+10     0.000000              NaT            |\n",
    "|                        |                                                                            |\n",
    "|                        | [291295 rows x 3 columns]                                                  |\n",
    "| _trades                | Size  EntryBar  ExitBar    EntryPrice  ExitPrice           PnL             |\n",
    "|                        | 0          -1       875      911  39893.564189  39796.542  9.702219e+01  \\ |\n",
    "|                        | 1          -1      1035     1044  39646.648994  39775.500 -1.288510e+02    |\n",
    "|                        | 2           1      1051     1051  39665.960040  39650.100 -1.586004e+01    |\n",
    "|                        | 3           1      1052     1052  39665.960040  39650.100 -1.586004e+01    |\n",
    "|                        | 4           1      1200     1204  39894.851560  40217.858  3.230064e+02    |\n",
    "|                        | ...       ...       ...      ...           ...        ...           ...    |\n",
    "|                        | 14071 -253001    291248   291248  30239.491363  30251.592 -3.061473e+06    |\n",
    "|                        | 14072 -260722    291247   291292  30131.480585  30035.484  2.502842e+07    |\n",
    "|                        | 14073 -252260    291245   291292  30239.491363  30035.484  5.146290e+07    |\n",
    "|                        | 14074 -257452    291244   291292  30239.491363  30035.484  5.252210e+07    |\n",
    "|                        | 14075 -262752    291243   291292  30239.491363  30035.484  5.360334e+07    |\n",
    "|                        |                                                                            |\n",
    "|                        |        ReturnPct           EntryTime            ExitTime        Duration   |\n",
    "|                        | 0       0.002432 2022-04-14 15:50:00 2022-04-14 16:36:00 0 days 00:46:00   |\n",
    "|                        | 1      -0.003250 2022-04-14 20:10:00 2022-04-14 20:31:00 0 days 00:21:00   |\n",
    "|                        | 2      -0.000400 2022-04-14 20:38:00 2022-04-14 20:38:00 0 days 00:00:00   |\n",
    "|                        | 3      -0.000400 2022-04-14 20:39:00 2022-04-14 20:39:00 0 days 00:00:00   |\n",
    "|                        | 4       0.008096 2022-04-15 00:22:00 2022-04-15 00:25:00 0 days 00:03:00   |\n",
    "|                        | ...          ...                 ...                 ...             ...   |\n",
    "|                        | 14071  -0.000400 2023-04-14 15:32:01 2023-04-14 15:32:01 0 days 00:00:00   |\n",
    "|                        | 14072   0.003186 2023-04-14 15:32:00 2023-04-14 16:37:00 0 days 01:05:00   |\n",
    "|                        | 14073   0.006746 2023-04-14 15:30:00 2023-04-14 16:37:00 0 days 01:07:00   |\n",
    "|                        | 14074   0.006746 2023-04-14 15:29:00 2023-04-14 16:37:00 0 days 01:08:00   |\n",
    "|                        | 14075   0.006746 2023-04-14 15:28:00 2023-04-14 16:37:00 0 days 01:09:00   |\n",
    "|                        |                                                                            |\n",
    "|                        | [14076 rows x 10 columns]                                                  |"
   ]
  }
 ],
 "metadata": {
  "kernelspec": {
   "display_name": "base",
   "language": "python",
   "name": "python3"
  },
  "language_info": {
   "codemirror_mode": {
    "name": "ipython",
    "version": 3
   },
   "file_extension": ".py",
   "mimetype": "text/x-python",
   "name": "python",
   "nbconvert_exporter": "python",
   "pygments_lexer": "ipython3",
   "version": "3.11.3"
  },
  "orig_nbformat": 4,
  "vscode": {
   "interpreter": {
    "hash": "e6206a5d9777dc4941d1ef736d0f3211132aba6ec6b27c0cc45f807d6cb74e8f"
   }
  }
 },
 "nbformat": 4,
 "nbformat_minor": 2
}
