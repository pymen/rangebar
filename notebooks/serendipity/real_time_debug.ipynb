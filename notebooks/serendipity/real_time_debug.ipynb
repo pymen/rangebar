{
 "cells": [
  {
   "cell_type": "code",
   "execution_count": null,
   "metadata": {},
   "outputs": [],
   "source": [
    "import pandas as pd\n",
    "import numpy as np\n",
    "\n",
    "df = pd.read_csv(f'../data/test.csv', parse_dates=['timestamp'], index_col='timestamp')\n",
    "df[['high', 'low']] = df[['high', 'low']].fillna(0)   # type: ignore\n",
    "daily_high_low = df.groupby('date')[['high', 'low']].agg(['max', 'min'])  # type: ignore\n",
    "daily_high_low\n"
   ]
  },
  {
   "cell_type": "code",
   "execution_count": null,
   "metadata": {},
   "outputs": [],
   "source": [
    "daily_high_low[('high', 'max')]"
   ]
  },
  {
   "cell_type": "code",
   "execution_count": null,
   "metadata": {},
   "outputs": [],
   "source": [
    "daily_high_low[('low', 'min')]"
   ]
  },
  {
   "cell_type": "code",
   "execution_count": null,
   "metadata": {},
   "outputs": [],
   "source": [
    "\n",
    "high_max = daily_high_low[('high', 'max')]\n",
    "low_min = daily_high_low[('low', 'min')]          \n",
    "adr = high_max - low_min\n",
    "daily_high_low['adr'] = adr\n",
    "np.mean(daily_high_low['adr']) "
   ]
  },
  {
   "cell_type": "code",
   "execution_count": null,
   "metadata": {},
   "outputs": [],
   "source": [
    "import pandas as pd\n",
    "import numpy as np\n",
    "\n",
    "# create a sample Series\n",
    "s = pd.Series([10, 20, 30, 40, 50])\n",
    "\n",
    "# convert the Series to a list without the index\n",
    "lst = s.values.tolist()\n",
    "print(lst)  # output: [1, 2, 3, 4, 5]\n",
    "lst2 = np.full(len(s), 5)\n",
    "diff = lst - lst2\n",
    "diff\n"
   ]
  }
 ],
 "metadata": {
  "kernelspec": {
   "display_name": "3.11",
   "language": "python",
   "name": "python3"
  },
  "language_info": {
   "codemirror_mode": {
    "name": "ipython",
    "version": 3
   },
   "file_extension": ".py",
   "mimetype": "text/x-python",
   "name": "python",
   "nbconvert_exporter": "python",
   "pygments_lexer": "ipython3",
   "version": "3.11.3"
  },
  "orig_nbformat": 4
 },
 "nbformat": 4,
 "nbformat_minor": 2
}
