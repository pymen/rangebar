{
 "cells": [
  {
   "attachments": {},
   "cell_type": "markdown",
   "metadata": {},
   "source": [
    "give this text \n",
    "\n",
    "{\n",
    "\n",
    "  \"e\":\"ORDER_TRADE_UPDATE\",     // Event Type\n",
    "  \"E\":1568879465651,            // Event Time\n",
    "  \"T\":1568879465650,            // Transaction Time\n",
    "  \"o\":{                             \n",
    "    \"s\":\"BTCUSDT\",              // Symbol\n",
    "    \"c\":\"TEST\",                 // Client Order Id\n",
    "    \"S\":\"SELL\",                 // Side\n",
    "    \"o\":\"TRAILING_STOP_MARKET\", // Order Type\n",
    "    \"f\":\"GTC\",                  // Time in Force\n",
    "    \"q\":\"0.001\",                // Original Quantity\n",
    "    \"p\":\"0\",                    // Original Price\n",
    "    \"ap\":\"0\",                   // Average Price\n",
    "    \"sp\":\"7103.04\",             // Stop Price. Please ignore with TRAILING_STOP_MARKET order\n",
    "    \"x\":\"NEW\",                  // Execution Type\n",
    "    \"X\":\"NEW\",                  // Order Status\n",
    "    \"i\":8886774,                // Order Id\n",
    "    \"l\":\"0\",                    // Order Last Filled Quantity\n",
    "    \"z\":\"0\",                    // Order Filled Accumulated Quantity\n",
    "    \"L\":\"0\",                    // Last Filled Price\n",
    "    \"N\":\"USDT\",             // Commission Asset, will not push if no commission\n",
    "    \"n\":\"0\",                // Commission, will not push if no commission\n",
    "    \"T\":1568879465650,          // Order Trade Time\n",
    "    \"t\":0,                      // Trade Id\n",
    "    \"b\":\"0\",                    // Bids Notional\n",
    "    \"a\":\"9.91\",                 // Ask Notional\n",
    "    \"m\":false,                  // Is this trade the maker side?\n",
    "    \"R\":false,                  // Is this reduce only\n",
    "    \"wt\":\"CONTRACT_PRICE\",      // Stop Price Working Type\n",
    "    \"ot\":\"TRAILING_STOP_MARKET\",    // Original Order Type\n",
    "    \"ps\":\"LONG\",                        // Position Side\n",
    "    \"cp\":false,                     // If Close-All, pushed with conditional order\n",
    "    \"AP\":\"7476.89\",             // Activation Price, only puhed with TRAILING_STOP_MARKET order\n",
    "    \"cr\":\"5.0\",                 // Callback Rate, only puhed with TRAILING_STOP_MARKET order\n",
    "    \"pP\": false,              // ignore\n",
    "    \"si\": 0,                  // ignore\n",
    "    \"ss\": 0,                  // ignore\n",
    "    \"rp\":\"0\"                            // Realized Profit of the trade\n",
    "  }\n",
    "\n",
    "}\n",
    "``\n",
    "write transform logic in python using string manipulation logic, so that the comment on the line after '//' becomes the suffix of the property name. Please note that this can't be parsed to a dict from json, because it is not valid json.\n",
    "The following provides examples of correctly transformed individual properties  \n",
    "Example 1:\n",
    "```\n",
    "\"rp\":\"0\"                            // Realized Profit of the trade\n",
    "```\n",
    "this would become: \n",
    "```\n",
    "\"rp_realized_profit_of_the_trade\":\"0\"\n",
    "```"
   ]
  },
  {
   "cell_type": "code",
   "execution_count": null,
   "metadata": {},
   "outputs": [],
   "source": [
    "import commentjson\n",
    "import re\n",
    "\n"
   ]
  },
  {
   "cell_type": "code",
   "execution_count": null,
   "metadata": {},
   "outputs": [],
   "source": [
    "# Example input array of strings\n",
    "input_array = ['This is a long sentence.', 'Here is another one-liner.', 'Yet another sentence.']\n",
    "\n",
    "# Find the first string that starts with the prefix we're looking for\n",
    "match = next((s for s in input_array if s.startswith('oneliner')), None)\n",
    "\n",
    "# Print the matching string, or a message if no match was found\n",
    "print(match or 'No matching string found.')\n"
   ]
  },
  {
   "cell_type": "code",
   "execution_count": null,
   "metadata": {},
   "outputs": [],
   "source": [
    "with open('../tmp-data/user_data_mapping/ORDER_TRADE_UPDATE.json', 'r') as f:\n",
    "    input_data = commentjson.load(f)\n",
    "\n",
    "with open('../tmp-data/user_data_mapping/ORDER_TRADE_UPDATE.json', 'r') as f:\n",
    "    # Read the lines of the file into a list of strings\n",
    "    lines = [line.strip() for line in f.readlines()]\n",
    "    \n",
    "  \n",
    "    \n",
    "lines"
   ]
  },
  {
   "cell_type": "code",
   "execution_count": null,
   "metadata": {},
   "outputs": [],
   "source": [
    "# test_str = '\"e\":\"ORDER_TRADE_UPDATE\",    //  Event Type'\n",
    "# comment = test_str.split('//')\n",
    "# if len(comment) > 1:\n",
    "#     comment = comment[1].strip()\n",
    "# else:\n",
    "#     comment = ''\n",
    "# snake_case = re.sub(r'(?<!^)(?=[A-Z])', '_', comment.replace(' ', '')).lower()\n",
    "# snake_case"
   ]
  },
  {
   "cell_type": "code",
   "execution_count": null,
   "metadata": {},
   "outputs": [],
   "source": [
    "\n",
    "def flatten_dict(d, lines, parent_key='', sep='_'):\n",
    "    items = []\n",
    "    for k, v in d.items():\n",
    "        # Find the first string that starts with the prefix we're looking for\n",
    "        match = next((s for s in lines if s.startswith(f'\"{k}')), None)\n",
    "        comment = match.split('//')\n",
    "        if len(comment) > 1:\n",
    "            comment = comment[1].strip()\n",
    "        else:\n",
    "            comment = ''\n",
    "        snake_case = re.sub(r'(?<!^)(?=[A-Z])', '_', comment.replace(' ', '')).lower()\n",
    "        new_key = parent_key + sep + k if parent_key else k\n",
    "        if isinstance(v, dict):\n",
    "            items.extend(flatten_dict(v, lines, new_key, sep=sep).items())\n",
    "        else:\n",
    "            v = snake_case\n",
    "            items.append((new_key, v))\n",
    "    return dict(items)\n",
    "\n",
    "out = flatten_dict(input_data, lines)\n",
    "out\n"
   ]
  },
  {
   "cell_type": "markdown",
   "metadata": {},
   "source": []
  }
 ],
 "metadata": {
  "kernelspec": {
   "display_name": "base",
   "language": "python",
   "name": "python3"
  },
  "language_info": {
   "codemirror_mode": {
    "name": "ipython",
    "version": 3
   },
   "file_extension": ".py",
   "mimetype": "text/x-python",
   "name": "python",
   "nbconvert_exporter": "python",
   "pygments_lexer": "ipython3",
   "version": "3.9.13"
  },
  "orig_nbformat": 4
 },
 "nbformat": 4,
 "nbformat_minor": 2
}
