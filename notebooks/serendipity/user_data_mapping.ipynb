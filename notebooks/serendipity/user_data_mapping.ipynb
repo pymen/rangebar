{
 "cells": [
  {
   "cell_type": "code",
   "execution_count": null,
   "metadata": {},
   "outputs": [],
   "source": [
    "import commentjson\n",
    "import re\n",
    "\n",
    "filepath = '../../tests/out/user_data_mapping/ACCOUNT_UPDATE_B.json'\n",
    "with open(filepath, 'r') as f:\n",
    "    input_data = commentjson.load(f)\n",
    "\n",
    "with open(filepath, 'r') as f:\n",
    "    # Read the lines of the file into a list of strings\n",
    "    lines = [line.strip() for line in f.readlines()]"
   ]
  },
  {
   "cell_type": "code",
   "execution_count": null,
   "metadata": {},
   "outputs": [],
   "source": [
    "# test_str = '\"e\":\"ORDER_TRADE_UPDATE\",    //  Event Type'\n",
    "# comment = test_str.split('//')\n",
    "# if len(comment) > 1:\n",
    "#     comment = comment[1].strip()\n",
    "# else:\n",
    "#     comment = ''\n",
    "# snake_case = re.sub(r'(?<!^)(?=[A-Z])', '_', comment.replace(' ', '')).lower()\n",
    "# snake_case"
   ]
  },
  {
   "cell_type": "code",
   "execution_count": null,
   "metadata": {},
   "outputs": [],
   "source": [
    "\n",
    "def flatten_dict(d, lines, parent_key='', sep='_'):\n",
    "    items = []\n",
    "    for k, v in d.items():\n",
    "        # Find the first string that starts with the prefix we're looking for\n",
    "        match = next((s for s in lines if s.startswith(f'\"{k}')), None)\n",
    "        comment = match.split('//')\n",
    "        if len(comment) > 1:\n",
    "            comment = comment[1].strip()\n",
    "        else:\n",
    "            comment = ''\n",
    "        snake_case = re.sub(r'(?<!^)(?=[A-Z])', '_', comment.replace(' ', '')).lower()\n",
    "        new_key = parent_key + sep + k if parent_key else k\n",
    "        if isinstance(v, dict):\n",
    "            items.extend(flatten_dict(v, lines, new_key, sep=sep).items())\n",
    "        else:\n",
    "            v = snake_case\n",
    "            items.append((new_key, v))\n",
    "    return dict(items)\n",
    "\n",
    "out = flatten_dict(input_data, lines)\n",
    "import pyperclip\n",
    "import json\n",
    "pyperclip.copy(json.dumps(out, indent=4))\n",
    "out"
   ]
  },
  {
   "cell_type": "code",
   "execution_count": null,
   "metadata": {},
   "outputs": [],
   "source": [
    "# import os\n",
    "        \n",
    "# folder_path = '../../tests/out/user_data_mapping/'\n",
    "# files = [f for f in os.listdir(folder_path) if f.endswith('.json')]\n",
    "\n",
    "# for file in files:\n",
    "#     filepath = os.path.join(folder_path, file)\n",
    "#     lines_out = []\n",
    "#     with open(filepath, 'r') as f:\n",
    "#         lines = f.readlines()\n",
    "#     for line in lines:\n",
    "#         segs = line.split('//')\n",
    "#         if len(segs) > 1:\n",
    "#             line = segs[0]\n",
    "#         lines_out.append(line)\n",
    "#     with open(filepath, 'w') as f:\n",
    "#         f.write('\\n'.join(lines_out))    "
   ]
  }
 ],
 "metadata": {
  "kernelspec": {
   "display_name": "base",
   "language": "python",
   "name": "python3"
  },
  "language_info": {
   "codemirror_mode": {
    "name": "ipython",
    "version": 3
   },
   "file_extension": ".py",
   "mimetype": "text/x-python",
   "name": "python",
   "nbconvert_exporter": "python",
   "pygments_lexer": "ipython3",
   "version": "3.9.13"
  },
  "orig_nbformat": 4
 },
 "nbformat": 4,
 "nbformat_minor": 2
}
