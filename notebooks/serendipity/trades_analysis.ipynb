{
 "cells": [
  {
   "cell_type": "code",
   "execution_count": null,
   "metadata": {},
   "outputs": [],
   "source": [
    "def plot(df_sample, title):\n",
    "    from bokeh.plotting import figure, show, output_file\n",
    "    from bokeh.models import ColumnDataSource, CDSView, BooleanFilter\n",
    "    from bokeh.layouts import column\n",
    "    from bokeh.models import Range1d, HoverTool\n",
    "    from bokeh.models.formatters import DatetimeTickFormatter\n",
    "    try:\n",
    "        from bokeh.models import CustomJSTickFormatter\n",
    "    except ImportError:  # Bokeh < 3.0\n",
    "        from bokeh.models import FuncTickFormatter as CustomJSTickFormatter  # type: ignore\n",
    "\n",
    "    # add a HoverTool to the default tools\n",
    "    hover_tool = HoverTool(\n",
    "        tooltips=[('x', '@x'), ('y', '@y'), ('value', '$y')])\n",
    "    hover_tool_main = HoverTool(\n",
    "        tooltips=[(\"x\", \"@{%F}\"), (\"y\", \"@y{$0,0.00}\")], formatters={\"@{%F}\": \"datetime\"})\n",
    "\n",
    "    # Create a ColumnDataSource object to hold the plot data\n",
    "    source = ColumnDataSource(data=dict(\n",
    "        x=df_sample.index,\n",
    "        y=df_sample['Close'],\n",
    "        bb_upper=df_sample['bb_upper'],\n",
    "        bb_lower=df_sample['bb_lower'],\n",
    "        signal=df_sample['signal'],\n",
    "        false_signal=df_sample['false_signal'],\n",
    "        average_adr=df_sample['average_adr'],\n",
    "        macd=df_sample['macd'],\n",
    "        macd_signal=df_sample['macd_signal'],\n",
    "        macd_histogram=df_sample['macd_histogram'],\n",
    "        rsi=df_sample['rsi'],\n",
    "        bb_dist=df_sample['bb_distance'],\n",
    "        vol=df_sample['volume']\n",
    "    ))\n",
    "\n",
    "    # Create views of the source using BooleanFilters\n",
    "    # false_buy_filter = BooleanFilter([True if s==1 and fs==1 else False for s,fs in zip(source.data['signal'], source.data['false_signal'])])\n",
    "    # false_sell_filter = BooleanFilter([True if s==-1 and fs==1 else False for s,fs in zip(source.data['signal'], source.data['false_signal'])])\n",
    "    # false_buy_view = CDSView(source=source, filters=[false_buy_filter])\n",
    "    # false_sell_view = CDSView(source=source, filters=[false_sell_filter])\n",
    "    buy_filter = BooleanFilter([True if s == 1 and fs == 0 else False for s, fs in zip(\n",
    "        source.data['signal'], source.data['false_signal'])])\n",
    "    sell_filter = BooleanFilter([True if s == -1 and fs == 0 else False for s,\n",
    "                                fs in zip(source.data['signal'], source.data['false_signal'])])\n",
    "    buy_view = CDSView(source=source, filters=[buy_filter])\n",
    "    sell_view = CDSView(source=source, filters=[sell_filter])\n",
    "\n",
    "    # Create a Range1d object for the x-axis range shared by all three figures\n",
    "    x_range = Range1d(start=df_sample.index[0], end=df_sample.index[-1])\n",
    "\n",
    "    # Create a new figure object\n",
    "    p = figure(title=title, x_axis_label='Date',\n",
    "               y_axis_label='Price', width=1400, x_range=x_range)\n",
    "\n",
    "    # add a vertical line at x=target\n",
    "    # FIXME - this is not working\n",
    "    # p.ray(x=target, y=0, length=100, angle=90,\n",
    "    #       line_color=\"orange\", line_width=20)\n",
    "\n",
    "    # configure the x-axis to display datetime values\n",
    "#     p.xaxis.formatter = CustomJSTickFormatter(\n",
    "#         args=dict(axis=p.xaxis[0],\n",
    "#                   formatter=DatetimeTickFormatter(days='%a, %d %b',\n",
    "#                                                   months='%m/%Y'),\n",
    "#                   source=source),\n",
    "#         code='''\n",
    "# this.labels = this.labels || formatter.doFormat(ticks\n",
    "#                                                 .map(i => source.data.datetime[i])\n",
    "#                                                 .filter(t => t !== undefined));\n",
    "# return this.labels[index] || \"\";\n",
    "#         ''')\n",
    "    p.add_tools(hover_tool)\n",
    "\n",
    "    # Plot the Close values as a line\n",
    "    p.line(x='x', y='y', source=source, legend_label='Close')\n",
    "\n",
    "    # Plot the bb_upper and bb_lower values as shaded areas\n",
    "    p.varea(x='x', y1='bb_upper', y2='bb_lower', source=source,\n",
    "            alpha=0.2, legend_label='Bollinger Bands')\n",
    "\n",
    "    # Mark the long signals with green triangles and the short signals with red triangles\n",
    "    p.triangle(x='x', y='y', source=source, view=buy_view,\n",
    "               color='green', size=10, legend_label='Buy Signal')\n",
    "    p.inverted_triangle(x='x', y='y', source=source, view=sell_view,\n",
    "                        color='red', size=10, legend_label='Sell Signal')\n",
    "\n",
    "    # p.triangle(x='x', y='y', source=source, view=false_buy_view, color='black', size=10, legend_label='False Buy Signal')\n",
    "    # p.inverted_triangle(x='x', y='y', source=source, view=false_sell_view, color='black', size=10, legend_label='False Sell Signal')\n",
    "\n",
    "    p_macd = figure(title='MACD', x_axis_label='Date',\n",
    "                    y_axis_label='Value', width=1400, x_range=x_range)\n",
    "    p_macd.add_tools(hover_tool)\n",
    "    # Plot the average ADR as a line\n",
    "    p_macd.line(x='x', y='average_adr', source=source,\n",
    "                color='orange', legend_label='Average ADR')\n",
    "\n",
    "    # Plot the MACD as two lines (macd and signal)\n",
    "    p_macd.line(x='x', y='macd', source=source,\n",
    "                color='blue', legend_label='MACD')\n",
    "    p_macd.line(x='x', y='macd_signal', source=source,\n",
    "                color='red', legend_label='Signal')\n",
    "\n",
    "    # Plot the MACD histogram as a bar chart\n",
    "    p_macd.vbar(x='x', top='macd_histogram', source=source, width=1.0,\n",
    "                alpha=0.2, color='gray', legend_label='Histogram')\n",
    "\n",
    "    # Plot the RSI as a line in a separate figure\n",
    "    p_rsi = figure(title='RSI', x_axis_label='Date',\n",
    "                   y_axis_label='RSI Value', width=1400, x_range=x_range)\n",
    "    p_rsi.line(x='x', y='rsi', source=source, color='purple')\n",
    "    p_rsi.add_tools(hover_tool)\n",
    "\n",
    "    # Plot the bb distance as a line in a separate figure\n",
    "    p_bb_dist = figure(title='BB Dist', x_axis_label='Date',\n",
    "                       y_axis_label='Value', width=1400, x_range=x_range)\n",
    "    p_bb_dist.line(x='x', y='bb_dist', source=source, color='blue')\n",
    "    p_bb_dist.add_tools(hover_tool)\n",
    "\n",
    "    # Plot the Volume as a Vol in a separate figure\n",
    "    p_vol = figure(title='Volume', x_axis_label='Date',\n",
    "                   y_axis_label='Value', width=1400, x_range=x_range)\n",
    "    p_vol.line(x='x', y='vol', source=source, color='blue')\n",
    "    p_vol.add_tools(hover_tool)\n",
    "\n",
    "    show(column(p, p_vol, p_bb_dist, p_macd, p_rsi))\n",
    "    # Save the plot as an HTML file\n",
    "    # output_file(f'../charts/{input_path}-stats.html')\n"
   ]
  },
  {
   "cell_type": "code",
   "execution_count": null,
   "metadata": {},
   "outputs": [],
   "source": [
    "import os\n",
    "import warnings\n",
    "import pandas as pd\n",
    "warnings.filterwarnings('ignore', category=FutureWarning)\n",
    "folder_path = '../tmp-data/period-trades/'\n",
    "files = [f for f in os.listdir(folder_path) if f.startswith('5perc') and f.endswith('.csv')]\n",
    "dfs = []\n",
    "for file in files:\n",
    "    df = pd.read_csv(os.path.join(folder_path, file))\n",
    "    dfs.append(df)\n",
    "\n",
    "trades_df = pd.concat(dfs, ignore_index=True)"
   ]
  },
  {
   "cell_type": "code",
   "execution_count": null,
   "metadata": {},
   "outputs": [],
   "source": [
    "# trades_df = pd.read_csv('../tmp-data/trade-stats-all-in-one.csv')"
   ]
  },
  {
   "cell_type": "code",
   "execution_count": null,
   "metadata": {},
   "outputs": [],
   "source": [
    "trades_df.drop(columns=['Unnamed: 0'], inplace=True)\n",
    "trades_df.columns"
   ]
  },
  {
   "cell_type": "code",
   "execution_count": null,
   "metadata": {},
   "outputs": [],
   "source": [
    "trades_df ['EntryTime'] = pd.to_datetime(trades_df['EntryTime'])\n",
    "trades_df ['ExitTime'] = pd.to_datetime(trades_df['ExitTime'])\n",
    "trades_df.head(1)"
   ]
  },
  {
   "cell_type": "code",
   "execution_count": null,
   "metadata": {},
   "outputs": [],
   "source": [
    "import numpy as np\n",
    "\n",
    "# Define function to extract segment\n",
    "def get_segment(df, entry_time, exit_time, before=1, after=1):\n",
    "    mask = (df.index >= entry_time - pd.Timedelta(minutes=before)) & \\\n",
    "           (df.index <= exit_time + pd.Timedelta(minutes=after))\n",
    "    return df.loc[mask]"
   ]
  },
  {
   "cell_type": "code",
   "execution_count": null,
   "metadata": {},
   "outputs": [],
   "source": [
    "highest_df = trades_df.copy()\n",
    "highest_df.sort_values(by='PnL', ascending=False, inplace=True)\n",
    "high_entry_exit_times = np.array(list(zip(highest_df['EntryTime'].head(3), highest_df['ExitTime'].head(3))))\n",
    "high_entry_exit_times"
   ]
  },
  {
   "cell_type": "code",
   "execution_count": null,
   "metadata": {},
   "outputs": [],
   "source": [
    "lowest_df = trades_df.copy()\n",
    "lowest_df.sort_values(by='PnL', ascending=True, inplace=True)\n",
    "low_entry_exit_times = np.array(list(zip(lowest_df['EntryTime'].head(3), lowest_df['ExitTime'].head(3))))\n",
    "low_entry_exit_times"
   ]
  },
  {
   "cell_type": "code",
   "execution_count": null,
   "metadata": {},
   "outputs": [],
   "source": [
    "df_sample = pd.read_csv('../tmp-data/ss_range_bars.sell_above_adv.csv')\n",
    "df_sample.reset_index(drop=True, inplace=True)\n",
    "df_sample['timestamp'] = pd.to_datetime(df_sample['timestamp'])\n",
    "df_sample = df_sample.sort_values(by='timestamp')\n",
    "df_sample['ordinal'] = df_sample.index + 1\n",
    "df_sample.set_index('timestamp', inplace=True)\n",
    "df_sample.sort_index(inplace=True)"
   ]
  },
  {
   "cell_type": "code",
   "execution_count": null,
   "metadata": {},
   "outputs": [],
   "source": [
    "# Create list of segments\n",
    "segments = []\n",
    "for low, high in zip(low_entry_exit_times, high_entry_exit_times):\n",
    "    low_entry_time, low_exit_time = low\n",
    "    high_entry_time, high_exit_time = high\n",
    "    low_segment = get_segment(df_sample, low_entry_time, low_exit_time)\n",
    "    segments.append([low_segment, 'low'])\n",
    "    high_segment = get_segment(df_sample, high_entry_time, high_exit_time)\n",
    "    segments.append([high_segment, 'high'])\n",
    "    \n",
    "print(len(segments))"
   ]
  },
  {
   "cell_type": "code",
   "execution_count": null,
   "metadata": {},
   "outputs": [],
   "source": [
    "# seg, entry = segments[-1]\n",
    "# plot(seg, entry)"
   ]
  },
  {
   "cell_type": "code",
   "execution_count": null,
   "metadata": {},
   "outputs": [],
   "source": [
    "for seg, title in segments:\n",
    "    plot(seg, title)"
   ]
  }
 ],
 "metadata": {
  "kernelspec": {
   "display_name": "base",
   "language": "python",
   "name": "python3"
  },
  "language_info": {
   "codemirror_mode": {
    "name": "ipython",
    "version": 3
   },
   "file_extension": ".py",
   "mimetype": "text/x-python",
   "name": "python",
   "nbconvert_exporter": "python",
   "pygments_lexer": "ipython3",
   "version": "3.9.13"
  },
  "orig_nbformat": 4
 },
 "nbformat": 4,
 "nbformat_minor": 2
}
