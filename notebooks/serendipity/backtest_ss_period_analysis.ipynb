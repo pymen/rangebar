{
 "cells": [
  {
   "attachments": {},
   "cell_type": "markdown",
   "metadata": {},
   "source": [
    "## hedging mode required, buy & sell orders totally up to 18 are open at the same time"
   ]
  },
  {
   "cell_type": "code",
   "execution_count": null,
   "metadata": {},
   "outputs": [],
   "source": [
    "import pandas as pd\n",
    "import humanize"
   ]
  },
  {
   "cell_type": "code",
   "execution_count": null,
   "metadata": {},
   "outputs": [],
   "source": [
    "input_path = '../tmp-data/ss_range_bars.final'\n",
    "known_false_signals = False\n"
   ]
  },
  {
   "cell_type": "code",
   "execution_count": null,
   "metadata": {},
   "outputs": [],
   "source": [
    "df = pd.read_csv(f'{input_path}.csv', parse_dates=['timestamp'], index_col='timestamp')\n",
    "df"
   ]
  },
  {
   "cell_type": "code",
   "execution_count": null,
   "metadata": {},
   "outputs": [],
   "source": [
    "def get_start_end_idx_for_period(df: pd.DataFrame, resample_arg: str = 'M') -> str:\n",
    "        # resample the dataframe into monthly periods\n",
    "        groups = df.resample(resample_arg)\n",
    "        # create a list of tuples containing the start and end indices for each period\n",
    "        start_end_indices = []\n",
    "        # iterate over each group (period) in the resampled DataFrame\n",
    "        for period_start, group_df in groups:\n",
    "            # get the start and end indices of the rows within the current period\n",
    "            period_start = group_df.index[0]\n",
    "            period_end = group_df.index[-1]\n",
    "            # add the start and end indices to the list\n",
    "            start_end_indices.append((period_start, period_end))\n",
    "        return start_end_indices"
   ]
  },
  {
   "cell_type": "code",
   "execution_count": null,
   "metadata": {},
   "outputs": [],
   "source": [
    "start_end_indices = get_start_end_idx_for_period(df)\n",
    "start_end_indices"
   ]
  },
  {
   "cell_type": "code",
   "execution_count": null,
   "metadata": {},
   "outputs": [],
   "source": [
    "from backtesting import Strategy\n",
    "import warnings\n",
    "warnings.filterwarnings('ignore', category=FutureWarning)\n",
    "\n",
    "class RangeBarStrategyPreCalc(Strategy):\n",
    "\n",
    "    per_trade_risk = 0.02\n",
    "    trades_buy_open_per_tick = []\n",
    "    trades_sell_open_per_tick = []\n",
    "    \n",
    "    def init(self):\n",
    "       self.false_buys = 0\n",
    "       self.false_sells = 0\n",
    "\n",
    "    # Stop Loss Price = Liquidation Price - (Liquidation Price - Entry Price) / Leverage * Stop Loss Ratio\n",
    "    def next(self):\n",
    "        current_close = self.data.Close[-1]\n",
    "        range_size = self.data.average_adr[-1] * 0.1\n",
    "        potential_profit = self.data.average_adr[-1] * 0.15\n",
    "        \n",
    "        pre_calc_signal = self.data.signal[-1]\n",
    "        pre_calc_false_signal = self.data.false_signal[-1]\n",
    "    \n",
    "        known_false_pass = True\n",
    "        if known_false_signals:\n",
    "            known_false_pass = pre_calc_false_signal != 1\n",
    "\n",
    "        order_placed = False\n",
    "        if pre_calc_signal == 1 and known_false_pass:\n",
    "            if pre_calc_signal == 1:\n",
    "                if pre_calc_false_signal == 1: \n",
    "                    # print(f'false signal buy')\n",
    "                    self.false_buys += 1\n",
    "            else:\n",
    "                print(f'ERROR: buying, against pre_calc_signal')\n",
    "            order_placed = True        \n",
    "            self.buy(size=self.per_trade_risk, sl=current_close - range_size, tp=current_close + potential_profit)\n",
    "        elif pre_calc_signal == -1 and known_false_pass:\n",
    "            if pre_calc_signal == -1:\n",
    "                if pre_calc_false_signal == 1: \n",
    "                    # print(f'false signal sell')\n",
    "                    self.false_sells += 1  \n",
    "            else:\n",
    "                print(f'ERROR: selling, against pre_calc_signal')\n",
    "            order_placed = True    \n",
    "            self.sell(size=self.per_trade_risk, sl=current_close + range_size , tp=current_close - potential_profit)\n",
    "        if order_placed:    \n",
    "          is_short_count = len(list(filter(lambda t: t.is_short, self.trades)))\n",
    "          is_long_count = len(list(filter(lambda t: t.is_long, self.trades)))\n",
    "          self.trades_buy_open_per_tick.append(is_long_count)\n",
    "          self.trades_sell_open_per_tick.append(is_short_count)"
   ]
  },
  {
   "cell_type": "code",
   "execution_count": null,
   "metadata": {},
   "outputs": [],
   "source": [
    "\n",
    "\n",
    "def backtest_period(strat, df, all_stats, start, end, per_trade_risk=0.02, leverage=20, crypto_cash_adjustment=100000):\n",
    "    from backtesting import Backtest\n",
    "    strat.per_trade_risk = per_trade_risk\n",
    "    bt = Backtest(df, strat, cash=crypto_cash_adjustment, margin=1/leverage, commission=(0.04 / 100), exclusive_orders=False)\n",
    "    stats = bt.run()\n",
    "\n",
    "    # collect stats\n",
    "    stats_cp = stats.copy()\n",
    "    stats_cp['start'] = start\n",
    "    stats_cp['end'] = end\n",
    "    all_stats.append(stats_cp)\n",
    "\n",
    "    # argument stats\n",
    "    false_buys = stats._strategy.false_buys\n",
    "    false_sells = stats._strategy.false_sells\n",
    "    trades = stats['# Trades']\n",
    "    trade_return_percs = stats._trades['ReturnPct']\n",
    "    return_percentage = stats['Return [%]']\n",
    "    win_rate_percentage = stats['Win Rate [%]']\n",
    "    profit_factor = stats['Profit Factor']\n",
    "    net_profit = (stats['Equity Final [$]'] - crypto_cash_adjustment)\n",
    "    equity = stats['Equity Final [$]']\n",
    "    max_drawdown_percentage = stats['Max. Drawdown [%]']\n",
    "    average_drawdown_percentage = stats['Avg. Drawdown [%]']\n",
    "    percentage_false_trades = round(((false_buys + false_sells) / int(trades)) * 100, 2)\n",
    "    return {\n",
    "        \"trades_buy_open_per_tick\": [i for i in stats._strategy.trades_buy_open_per_tick if i != 0],\n",
    "        \"trades_sell_open_per_tick\": [i for i in stats._strategy.trades_sell_open_per_tick if i != 0],\n",
    "        \"trade_return_percentages\": trade_return_percs,\n",
    "        \"net_profit\": humanize.intcomma(net_profit),\n",
    "        \"start\": str(start),\n",
    "        \"end\": str(end),\n",
    "        \"return_percentage\": return_percentage,\n",
    "        \"win_rate_percentage\": win_rate_percentage,\n",
    "        \"profit_factor\": profit_factor,\n",
    "        \"max_drawdown_percentage\": max_drawdown_percentage,\n",
    "        \"average_drawdown_percentage\": average_drawdown_percentage,\n",
    "        \"trades\": trades,\n",
    "        \"false_buys\": false_buys,\n",
    "        \"false_sells\": false_sells,\n",
    "        \"percentage_false_trades\": percentage_false_trades,\n",
    "        \"equity\": equity,\n",
    "        \"trades\": stats._trades,\n",
    "        \"bt\": bt\n",
    "    }"
   ]
  },
  {
   "cell_type": "code",
   "execution_count": null,
   "metadata": {},
   "outputs": [],
   "source": [
    "def tot_prof(trades, initial):\n",
    "    tot_prof = initial\n",
    "    for perc in trades:\n",
    "        tot_prof  *= (1 + perc)\n",
    "        if tot_prof < 0:\n",
    "            raise Exception('Negative balance')\n",
    "    return tot_prof\n",
    "\n",
    "def test_periods(start_end_indices, all_stats = [], actual_cash=1000, per_trade_risk=0.02, leverage=20, crypto_cash_adjustment=100000):\n",
    "    profit_takeout = []\n",
    "    bulk_stats = []\n",
    "    errors = []\n",
    "    initial_adjusted_equity = crypto_cash_adjustment\n",
    "    current_adjusted_equity = initial_adjusted_equity\n",
    "    for start, end in start_end_indices:\n",
    "        try:\n",
    "            df_sample = df[start:end].copy()    \n",
    "            result = backtest_period(RangeBarStrategyPreCalc, df_sample, all_stats, start, end, per_trade_risk=per_trade_risk, leverage=leverage, crypto_cash_adjustment=current_adjusted_equity)\n",
    "            if result['equity'] < initial_adjusted_equity:\n",
    "                current_adjusted_equity = result['equity']\n",
    "            else:\n",
    "                current_adjusted_equity = initial_adjusted_equity\n",
    "                actual_equity = tot_prof(result['trade_return_percentages'], actual_cash)\n",
    "                takeout =  actual_equity - actual_cash\n",
    "                profit_takeout.append([f'{start}-{end}', takeout])\n",
    "            bulk_stats.append(result)\n",
    "        except Exception as e:\n",
    "            errors.append(f'strat: RangeBarStrategyPreCalc,  start: {str(start)}, end: {str(end)}. error: {str(e)}')\n",
    "\n",
    "    print(f'errors: {len(errors)}')\n",
    "    print(f'errors: {errors}')\n",
    "    df_stats = pd.DataFrame(bulk_stats)\n",
    "    return df_stats, all_stats, profit_takeout, bulk_stats\n"
   ]
  },
  {
   "cell_type": "code",
   "execution_count": null,
   "metadata": {},
   "outputs": [],
   "source": [
    "per_trade_risk=0.02\n",
    "actual_cash=5000\n",
    "leverage=20\n",
    "\n",
    "df_stats, all_stats, profit_takeout, bulk_stats = test_periods(start_end_indices, actual_cash=actual_cash,  per_trade_risk=per_trade_risk, leverage=20)\n",
    "print(f'profit_takeout per period:\\n')\n",
    "for pt in profit_takeout:\n",
    "    period, profit = pt\n",
    "    print(f'{period}: {humanize.intcomma(round(profit,2))}')\n",
    "takeout = [x[1] for x in profit_takeout]\n",
    "print(f'total profit takeout: {humanize.intcomma(sum(takeout))}')\n"
   ]
  },
  {
   "attachments": {},
   "cell_type": "markdown",
   "metadata": {},
   "source": [
    "### $100 monthly profits over 1 year @ 2% per trade\n",
    "2022-04-13 18:27:00-2022-04-30 23:59:00: 40.66  \n",
    "2022-05-01 00:00:00-2022-05-31 23:54:00: 18,418.41  \n",
    "2022-06-01 00:00:00-2022-06-30 23:59:01: 28,025.69  \n",
    "2022-07-01 00:00:00-2022-07-31 23:59:00: 28,526.49  \n",
    "2022-08-01 00:00:00-2022-08-31 23:46:00: 1,190.63  \n",
    "2022-09-01 00:00:00-2022-09-30 23:59:00: 1,699.97  \n",
    "2022-10-01 00:00:00-2022-10-31 23:48:00: 296.59  \n",
    "2022-11-01 00:05:00-2022-11-30 23:54:00: 1,682.53  \n",
    "2022-12-01 00:05:00-2022-12-31 23:38:01: 207.34  \n",
    "2023-01-01 00:08:00-2023-01-31 23:59:00: 763.39  \n",
    "2023-02-01 00:00:00-2023-02-28 23:34:00: 323.0  \n",
    "2023-03-01 00:16:00-2023-03-31 23:59:00: 1,097.88  \n",
    "2023-04-01 00:00:00-2023-04-14 16:39:00: 67.72  \n",
    "total profit takeout: 82,340.295965485\n",
    "### $1000 monthly profits over 1 year @ 2% per trade\n",
    "2022-04-13 18:27:00-2022-04-30 23:59:00: 406.6  \n",
    "2022-05-01 00:00:00-2022-05-31 23:54:00: 184,184.06  \n",
    "2022-06-01 00:00:00-2022-06-30 23:59:01: 280,256.86  \n",
    "2022-07-01 00:00:00-2022-07-31 23:59:00: 285,264.94  \n",
    "2022-08-01 00:00:00-2022-08-31 23:46:00: 11,906.28  \n",
    "2022-09-01 00:00:00-2022-09-30 23:59:00: 16,999.74  \n",
    "2022-10-01 00:00:00-2022-10-31 23:48:00: 2,965.89  \n",
    "2022-11-01 00:05:00-2022-11-30 23:54:00: 16,825.25  \n",
    "2022-12-01 00:05:00-2022-12-31 23:38:01: 2,073.43  \n",
    "2023-01-01 00:08:00-2023-01-31 23:59:00: 7,633.88  \n",
    "2023-02-01 00:00:00-2023-02-28 23:34:00: 3,230.02  \n",
    "2023-03-01 00:16:00-2023-03-31 23:59:00: 10,978.79  \n",
    "2023-04-01 00:00:00-2023-04-14 16:39:00: 677.23  \n",
    "total profit takeout: 823,402.9596548487\n",
    "### $1000 monthly profits over 1 year @ 3% per trade\n",
    "2022-04-13 18:27:00-2022-04-30 23:59:00: 4,594.22  \n",
    "2022-05-01 00:00:00-2022-05-31 23:54:00: 222,545.35  \n",
    "2022-06-01 00:00:00-2022-06-30 23:59:01: 280,727.03  \n",
    "2022-07-01 00:00:00-2022-07-31 23:59:00: 293,289.86  \n",
    "2022-08-01 00:00:00-2022-08-31 23:46:00: 11,866.61  \n",
    "2022-09-01 00:00:00-2022-09-30 23:59:00: 17,028.84  \n",
    "2022-10-01 00:00:00-2022-10-31 23:48:00: 2,988.84  \n",
    "2022-11-01 00:05:00-2022-11-30 23:54:00: 17,219.16  \n",
    "2022-12-01 00:05:00-2022-12-31 23:38:01: 2,063.86  \n",
    "2023-01-01 00:08:00-2023-01-31 23:59:00: 7,620.72  \n",
    "2023-02-01 00:00:00-2023-02-28 23:34:00: 3,286.28  \n",
    "2023-03-01 00:16:00-2023-03-31 23:59:00: 10,978.79  \n",
    "2023-04-01 00:00:00-2023-04-14 16:39:00: 675.22  \n",
    "total profit takeout: 874,884.7780987181"
   ]
  },
  {
   "cell_type": "code",
   "execution_count": null,
   "metadata": {},
   "outputs": [],
   "source": [
    "for stat in bulk_stats:\n",
    "    start = stat['start']\n",
    "    end = stat['end']\n",
    "    # stat['bt'].plot(filename=f'../tmp-data/period-plots/{start}-{end}')\n",
    "    stat['trades'].to_csv(f'../tmp-data/period-trades/{actual_cash}-{per_trade_risk}-{start}-{end}.csv')"
   ]
  },
  {
   "attachments": {},
   "cell_type": "markdown",
   "metadata": {},
   "source": [
    "### sell only volume above limit (535.77 for buy also -- bad idea)\n",
    "\n",
    "* 873,656.46 volume above 35 @ 7% per trade\n",
    "* 873,147.50 volume above 0 @ 7% per trade\n",
    "* 882,868.51 volume above 50 @ 7% per trade\n",
    "* 946,809.30 volume above 100 @ 7% per trade\n",
    "* 1,061,383.93 volume above 200 @ 7% per trade\n",
    "* 6,604,260.28 volume above adv @ 10% per trade\n",
    "* 22,767.65 volume above adv @ 2% per trade\n",
    "* 317,835.40 volume above adv @ 5% per trade\n",
    "* 637,770.41 volume above adv @ 6% per trade"
   ]
  },
  {
   "cell_type": "code",
   "execution_count": null,
   "metadata": {},
   "outputs": [],
   "source": [
    "print(f'all_stats: {len(all_stats)}')\n",
    "all_stats_str = \"\"\n",
    "for stats in all_stats:\n",
    "    all_stats_str += stats.to_string() + f'\\n{stats._trades.to_string()}\\n' + \"\\n\\n-------------------------------------------------------------------------------------------------\\n\\n\"\n",
    "\n",
    "suffix = input_path.split('/')[-1].split('.')[-1]\n",
    "with open(f'../tmp-data/all_stats-{suffix}-{actual_cash}-{per_trade_risk}.txt', 'w') as f:\n",
    "    f.write(all_stats_str)    "
   ]
  },
  {
   "cell_type": "code",
   "execution_count": null,
   "metadata": {},
   "outputs": [],
   "source": [
    "pf_measure = df_stats['profit_factor'].sum()\n",
    "pf_measure"
   ]
  },
  {
   "cell_type": "code",
   "execution_count": null,
   "metadata": {},
   "outputs": [],
   "source": [
    "dd_p_measure = df_stats['max_drawdown_percentage'].sum()\n",
    "dd_p_measure"
   ]
  },
  {
   "attachments": {},
   "cell_type": "markdown",
   "metadata": {},
   "source": [
    "## using sell if is_volume_above_adv_limit\n",
    "### > row['adv'] * 0.75 @ 7% per trade\n",
    "* dd_p_measure: -280.605\n",
    "* pf_measure: 32.75\n",
    "## > row['adv'] @ 10% per trade\n",
    "* dd_p_measure: -320.35\n",
    "* pf_measure: 37.74\n",
    "## > row['adv'] @ 5% per trade\n",
    "* dd_p_measure: -184.59\n",
    "* pf_measure: 37.76\n",
    "## > row['adv'] @ 2% per trade\n",
    "* dd_p_measure: -70.12\n",
    "* pf_measure: 36.86"
   ]
  },
  {
   "cell_type": "code",
   "execution_count": null,
   "metadata": {},
   "outputs": [],
   "source": [
    "sorted_df_stats = df_stats\n",
    "# .sort_values(by='profit_factor')\n",
    "cp =  sorted_df_stats.copy()\n",
    "trades_buy_open_per_tick  = cp['trades_buy_open_per_tick']\n",
    "trades_sell_open_per_tick  = cp['trades_sell_open_per_tick']\n",
    "sorted_df_stats['trades_sell_open_per_tick'] = trades_sell_open_per_tick.apply(lambda trades_sell_open_per_tick: max(trades_sell_open_per_tick))\n",
    "sorted_df_stats['trades_buy_open_per_tick'] = trades_buy_open_per_tick.apply(lambda trades_buy_open_per_tick: max(trades_buy_open_per_tick))\n",
    "sorted_df_stats"
   ]
  },
  {
   "cell_type": "code",
   "execution_count": null,
   "metadata": {},
   "outputs": [],
   "source": [
    "import matplotlib.pyplot as plt\n",
    "\n",
    "# Plot the array as a line graph\n",
    "max_open_buy = sorted_df_stats['trades_buy_open_per_tick'].idxmax()\n",
    "max_open_sell = sorted_df_stats['trades_sell_open_per_tick'].idxmax()\n",
    "plt.plot(trades_buy_open_per_tick[max_open_buy]) \n",
    "plt.plot(trades_sell_open_per_tick[max_open_sell])\n",
    "plt.show()\n",
    "plt.plot(trades_sell_open_per_tick[max_open_sell] + trades_buy_open_per_tick[max_open_buy])\n",
    "plt.show()"
   ]
  },
  {
   "cell_type": "code",
   "execution_count": null,
   "metadata": {},
   "outputs": [],
   "source": [
    "if known_false_signals:\n",
    "    sorted_df_stats.to_csv(f'{input_path}-{actual_cash}-{per_trade_risk}-monthly-stats_no-false-signals.csv')\n",
    "else:\n",
    "    sorted_df_stats.to_csv(f'{input_path}-{actual_cash}-{per_trade_risk}-monthly-stats.csv')"
   ]
  }
 ],
 "metadata": {
  "kernelspec": {
   "display_name": "base",
   "language": "python",
   "name": "python3"
  },
  "language_info": {
   "codemirror_mode": {
    "name": "ipython",
    "version": 3
   },
   "file_extension": ".py",
   "mimetype": "text/x-python",
   "name": "python",
   "nbconvert_exporter": "python",
   "pygments_lexer": "ipython3",
   "version": "3.9.13"
  },
  "orig_nbformat": 4,
  "vscode": {
   "interpreter": {
    "hash": "e6206a5d9777dc4941d1ef736d0f3211132aba6ec6b27c0cc45f807d6cb74e8f"
   }
  }
 },
 "nbformat": 4,
 "nbformat_minor": 2
}
