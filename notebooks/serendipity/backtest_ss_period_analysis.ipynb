{
 "cells": [
  {
   "cell_type": "code",
   "execution_count": null,
   "metadata": {},
   "outputs": [],
   "source": [
    "import pandas as pd"
   ]
  },
  {
   "cell_type": "code",
   "execution_count": null,
   "metadata": {},
   "outputs": [],
   "source": [
    "input_path = '../tmp-data/ss_range_bars.sell_above_adv'\n",
    "known_false_signals = False\n"
   ]
  },
  {
   "cell_type": "code",
   "execution_count": null,
   "metadata": {},
   "outputs": [],
   "source": [
    "df = pd.read_csv(f'{input_path}.csv', parse_dates=['timestamp'], index_col='timestamp')\n",
    "df"
   ]
  },
  {
   "cell_type": "code",
   "execution_count": null,
   "metadata": {},
   "outputs": [],
   "source": [
    "def get_start_end_idx_for_period(df: pd.DataFrame, resample_arg: str = 'M') -> str:\n",
    "        # resample the dataframe into monthly periods\n",
    "        groups = df.resample(resample_arg)\n",
    "        # create a list of tuples containing the start and end indices for each period\n",
    "        start_end_indices = []\n",
    "        # iterate over each group (period) in the resampled DataFrame\n",
    "        for period_start, group_df in groups:\n",
    "            # get the start and end indices of the rows within the current period\n",
    "            period_start = group_df.index[0]\n",
    "            period_end = group_df.index[-1]\n",
    "            # add the start and end indices to the list\n",
    "            start_end_indices.append((period_start, period_end))\n",
    "        return start_end_indices"
   ]
  },
  {
   "cell_type": "code",
   "execution_count": null,
   "metadata": {},
   "outputs": [],
   "source": [
    "start_end_indices = get_start_end_idx_for_period(df)\n",
    "start_end_indices"
   ]
  },
  {
   "cell_type": "code",
   "execution_count": null,
   "metadata": {},
   "outputs": [],
   "source": [
    "from backtesting import Strategy\n",
    "import warnings\n",
    "warnings.filterwarnings('ignore', category=FutureWarning)\n",
    "\n",
    "class RangeBarStrategyPreCalc(Strategy):\n",
    "\n",
    "    per_trade_risk = 0.06\n",
    "    \n",
    "    def init(self):\n",
    "       self.false_buys = 0\n",
    "       self.false_sells = 0\n",
    "\n",
    "    def next(self):\n",
    "        current_close = self.data.Close[-1]\n",
    "        range_size = self.data.average_adr[-1] * 0.1\n",
    "        potential_profit = self.data.average_adr[-1] * 0.15\n",
    "        \n",
    "        pre_calc_signal = self.data.signal[-1]\n",
    "        pre_calc_false_signal = self.data.false_signal[-1]\n",
    "    \n",
    "        known_false_pass = True\n",
    "        if known_false_signals:\n",
    "            known_false_pass = pre_calc_false_signal != 1\n",
    "\n",
    "        if pre_calc_signal == 1 and known_false_pass:\n",
    "            if pre_calc_signal == 1:\n",
    "                if pre_calc_false_signal == 1: \n",
    "                    # print(f'false signal buy')\n",
    "                    self.false_buys += 1\n",
    "            else:\n",
    "                print(f'ERROR: buying, against pre_calc_signal')    \n",
    "            self.buy(size=self.per_trade_risk, sl=current_close - range_size, tp=current_close + potential_profit)\n",
    "        elif pre_calc_signal == -1 and known_false_pass:\n",
    "            if pre_calc_signal == -1:\n",
    "                if pre_calc_false_signal == 1: \n",
    "                    # print(f'false signal sell')\n",
    "                    self.false_sells += 1  \n",
    "            else:\n",
    "                print(f'ERROR: selling, against pre_calc_signal')\n",
    "            self.sell(size=self.per_trade_risk, sl=current_close + range_size , tp=current_close - potential_profit)"
   ]
  },
  {
   "cell_type": "code",
   "execution_count": null,
   "metadata": {},
   "outputs": [],
   "source": [
    "def backtest_period(strat, df, all_stats, start, end, cash=100000, leverage = 20):\n",
    "    from backtesting import Backtest\n",
    "    # from time import sleep \n",
    "    bt = Backtest(df, strat, cash=cash, margin=1/leverage, commission=(0.03 / 100), exclusive_orders=False)\n",
    "    stats = bt.run()\n",
    "    stats_cp = stats.copy()\n",
    "    stats_cp['start'] = start\n",
    "    stats_cp['end'] = end\n",
    "    all_stats.append(stats_cp)\n",
    "    # sleep(3)\n",
    "    false_buys = stats._strategy.false_buys\n",
    "    false_sells = stats._strategy.false_sells\n",
    "    trades = stats['# Trades']\n",
    "    return_percentage = stats['Return [%]']\n",
    "    win_rate_percentage = stats['Win Rate [%]']\n",
    "    profit_factor = stats['Profit Factor']\n",
    "    net_profit = (stats['Equity Final [$]'] - cash)\n",
    "    equity = stats['Equity Final [$]']\n",
    "    max_drawdown_percentage = stats['Max. Drawdown [%]']\n",
    "    average_drawdown_percentage = stats['Avg. Drawdown [%]']\n",
    "    percentage_false_trades = round(((false_buys + false_sells) / int(trades)) * 100, 2)\n",
    "    return {\n",
    "        \"net_profit\": net_profit,\n",
    "        \"start\": str(start),\n",
    "        \"end\": str(end),\n",
    "        \"return_percentage\": return_percentage,\n",
    "        \"win_rate_percentage\": win_rate_percentage,\n",
    "        \"profit_factor\": profit_factor,\n",
    "        \"max_drawdown_percentage\": max_drawdown_percentage,\n",
    "        \"average_drawdown_percentage\": average_drawdown_percentage,\n",
    "        \"trades\": trades,\n",
    "        \"false_buys\": false_buys,\n",
    "        \"false_sells\": false_sells,\n",
    "        \"percentage_false_trades\": percentage_false_trades,\n",
    "        \"equity\": equity\n",
    "    }"
   ]
  },
  {
   "attachments": {},
   "cell_type": "markdown",
   "metadata": {},
   "source": [
    "errors don't seem to occur on a particular period, as demonstrated by the following code:"
   ]
  },
  {
   "cell_type": "code",
   "execution_count": null,
   "metadata": {},
   "outputs": [],
   "source": [
    "# def test_period(idx: int):\n",
    "#     import json\n",
    "#     start, end = start_end_indices[idx]\n",
    "#     print(f'start: {str(start)}, end: {str(end)}')\n",
    "#     result = backtest_period(RangeBarTrailingStrategyPreCalc, df, start, end)\n",
    "#     print(json.dumps(result, indent=4))\n",
    "\n",
    "# test_period(1)    "
   ]
  },
  {
   "cell_type": "code",
   "execution_count": null,
   "metadata": {},
   "outputs": [],
   "source": [
    "\n",
    "def test_periods(start_end_indices, all_stats):\n",
    "    # import json\n",
    "    profit_takeout = []\n",
    "    bulk_stats = []\n",
    "    errors = []\n",
    "    current_equity = 100000\n",
    "    initial_equity = 100000\n",
    "    for start, end in start_end_indices:\n",
    "        print(f'start: {str(start)}, end: {str(end)}')\n",
    "        try:\n",
    "            df_sample = df[start:end].copy()    \n",
    "            result = backtest_period(RangeBarStrategyPreCalc, df_sample, all_stats, start, end, cash=current_equity)\n",
    "            if result['equity'] < initial_equity:\n",
    "                current_equity = result['equity']\n",
    "            else:\n",
    "                current_equity = initial_equity\n",
    "                takeout = result['equity'] - initial_equity\n",
    "                profit_takeout.append([f'{start}-{end}', takeout / 100])\n",
    "            # print(json.dumps(result, indent=4))\n",
    "            bulk_stats.append(result)\n",
    "        except Exception as e:\n",
    "            errors.append(f'strat: RangeBarStrategyPreCalc,  start: {str(start)}, end: {str(end)}. error: {str(e)}')\n",
    "\n",
    "    print(f'errors: {len(errors)}')\n",
    "    print(f'errors: {errors}')\n",
    "    df_stats = pd.DataFrame(bulk_stats)\n",
    "    return df_stats, all_stats, profit_takeout\n",
    "\n",
    "\n",
    "df_stats, all_stats, profit_takeout = test_periods(start_end_indices, [])\n",
    "takeout = [x[1] for x in profit_takeout]\n",
    "profit_takeout, sum(takeout)\n"
   ]
  },
  {
   "attachments": {},
   "cell_type": "markdown",
   "metadata": {},
   "source": [
    "### sell only volume above limit (535.77 for buy also -- bad idea)\n",
    "\n",
    "* 873,656.46 volume above 35 @ 7% per trade\n",
    "* 873,147.50 volume above 0 @ 7% per trade\n",
    "* 882,868.51 volume above 50 @ 7% per trade\n",
    "* 946,809.30 volume above 100 @ 7% per trade\n",
    "* 1,061,383.93 volume above 200 @ 7% per trade\n",
    "* 6,604,260.28 volume above adv @ 10% per trade\n",
    "* 22,767.65 volume above adv @ 2% per trade\n",
    "* 317,835.40 volume above adv @ 5% per trade\n",
    "* 637,770.41 volume above adv @ 6% per trade"
   ]
  },
  {
   "cell_type": "code",
   "execution_count": null,
   "metadata": {},
   "outputs": [],
   "source": [
    "print(f'all_stats: {len(all_stats)}')\n",
    "all_stats_str = \"\"\n",
    "for stats in all_stats:\n",
    "    all_stats_str += stats.to_string() + f'\\n{stats._trades.to_string()}\\n' + \"\\n\\n-------------------------------------------------------------------------------------------------\\n\\n\"\n",
    "\n",
    "suffix = input_path.split('/')[-1].split('.')[-1]\n",
    "with open(f'../tmp-data/all_stats-{suffix}.txt', 'w') as f:\n",
    "    f.write(all_stats_str)    "
   ]
  },
  {
   "attachments": {},
   "cell_type": "markdown",
   "metadata": {},
   "source": [
    "Using 100_000 due to limitations of backtesting.py, so we divide the net profit sum by 100_000, to see what we'd get it we started with 1_000 "
   ]
  },
  {
   "cell_type": "code",
   "execution_count": null,
   "metadata": {},
   "outputs": [],
   "source": [
    "net_profit_sum = df_stats['net_profit'].sum() / 100000\n",
    "net_profit_sum"
   ]
  },
  {
   "attachments": {},
   "cell_type": "markdown",
   "metadata": {},
   "source": [
    "Starting with 1,000 USDT 100% reinvest\n"
   ]
  },
  {
   "attachments": {},
   "cell_type": "markdown",
   "metadata": {},
   "source": [
    "* no false signals: net_profit_sum: 226,864.80\n",
    "* with false signals: net_profit_sum: 12,623.53\n",
    "* with false signals & ant-squeeze 10: net_profit_sum: 17,942.44\n",
    "* with false signals & ant-squeeze 10 & without rb bug: net_profit_sum: 39304.98"
   ]
  },
  {
   "attachments": {},
   "cell_type": "markdown",
   "metadata": {},
   "source": [
    "Starting with 1,000 USDT 75% reinvest"
   ]
  },
  {
   "attachments": {},
   "cell_type": "markdown",
   "metadata": {},
   "source": [
    "* no false signals: net_profit_sum: 9,559.34\n",
    "* with false signals: net_profit_sum: 605.87"
   ]
  },
  {
   "attachments": {},
   "cell_type": "markdown",
   "metadata": {},
   "source": [
    "margin 1/20 tot pp: 903.04 (false)  \n",
    "margin 1/20 tot pp: 10274.68 (no false)  "
   ]
  },
  {
   "attachments": {},
   "cell_type": "markdown",
   "metadata": {},
   "source": [
    "how to stop losses from large drawdown ?"
   ]
  },
  {
   "cell_type": "code",
   "execution_count": null,
   "metadata": {},
   "outputs": [],
   "source": [
    "pf_measure = df_stats['profit_factor'].sum()\n",
    "pf_measure"
   ]
  },
  {
   "cell_type": "code",
   "execution_count": null,
   "metadata": {},
   "outputs": [],
   "source": [
    "dd_p_measure = df_stats['max_drawdown_percentage'].sum()\n",
    "dd_p_measure"
   ]
  },
  {
   "attachments": {},
   "cell_type": "markdown",
   "metadata": {},
   "source": [
    "## using sell if is_volume_above_adv_limit\n",
    "### > row['adv'] * 0.75 @ 7% per trade\n",
    "* dd_p_measure: -280.605\n",
    "* pf_measure: 32.75\n",
    "## > row['adv'] @ 10% per trade\n",
    "* dd_p_measure: -320.35\n",
    "* pf_measure: 37.74\n",
    "## > row['adv'] @ 5% per trade\n",
    "* dd_p_measure: -184.59\n",
    "* pf_measure: 37.76\n",
    "## > row['adv'] @ 2% per trade\n",
    "* dd_p_measure: -70.12\n",
    "* pf_measure: 36.86"
   ]
  },
  {
   "cell_type": "code",
   "execution_count": null,
   "metadata": {},
   "outputs": [],
   "source": [
    "sorted_df_stats = df_stats.sort_values(by='profit_factor')\n",
    "sorted_df_stats "
   ]
  },
  {
   "cell_type": "code",
   "execution_count": null,
   "metadata": {},
   "outputs": [],
   "source": [
    "if known_false_signals:\n",
    "    sorted_df_stats.to_csv(f'{input_path}-monthly-stats_no-false-signals.csv')\n",
    "else:\n",
    "    sorted_df_stats.to_csv(f'{input_path}-monthly-stats.csv')"
   ]
  }
 ],
 "metadata": {
  "kernelspec": {
   "display_name": "base",
   "language": "python",
   "name": "python3"
  },
  "language_info": {
   "codemirror_mode": {
    "name": "ipython",
    "version": 3
   },
   "file_extension": ".py",
   "mimetype": "text/x-python",
   "name": "python",
   "nbconvert_exporter": "python",
   "pygments_lexer": "ipython3",
   "version": "3.9.13"
  },
  "orig_nbformat": 4,
  "vscode": {
   "interpreter": {
    "hash": "e6206a5d9777dc4941d1ef736d0f3211132aba6ec6b27c0cc45f807d6cb74e8f"
   }
  }
 },
 "nbformat": 4,
 "nbformat_minor": 2
}
