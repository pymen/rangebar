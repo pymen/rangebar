{
 "cells": [
  {
   "cell_type": "code",
   "execution_count": null,
   "metadata": {},
   "outputs": [],
   "source": [
    "import pandas as pd"
   ]
  },
  {
   "cell_type": "code",
   "execution_count": null,
   "metadata": {},
   "outputs": [],
   "source": [
    "input_path = '../tmp-data/ss_range_bars.1'\n",
    "known_false_signals = False"
   ]
  },
  {
   "cell_type": "code",
   "execution_count": null,
   "metadata": {},
   "outputs": [],
   "source": [
    "df = pd.read_csv(f'{input_path}.csv', parse_dates=['timestamp'], index_col='timestamp')\n",
    "df"
   ]
  },
  {
   "cell_type": "code",
   "execution_count": null,
   "metadata": {},
   "outputs": [],
   "source": [
    "from backtesting import Strategy\n",
    "import warnings\n",
    "warnings.filterwarnings('ignore', category=FutureWarning)\n",
    "\n",
    "class RangeBarStrategyPreCalc(Strategy):\n",
    "\n",
    "    per_trade_risk = 0.1\n",
    "    \n",
    "    def init(self):\n",
    "       self.false_buys = 0\n",
    "       self.false_sells = 0\n",
    "\n",
    "    def next(self):\n",
    "        current_close = self.data.Close[-1]\n",
    "        range_size = self.data.average_adr[-1] * 0.1\n",
    "        potential_profit = self.data.average_adr[-1] * 0.15\n",
    "        \n",
    "        pre_calc_signal = self.data.signal[-1]\n",
    "        pre_calc_false_signal = self.data.false_signal[-1]\n",
    "\n",
    "        known_false_pass = True\n",
    "        if known_false_signals:\n",
    "            known_false_pass = pre_calc_false_signal != 1\n",
    "\n",
    "        if pre_calc_signal == 1 and known_false_pass:\n",
    "            if pre_calc_signal == 1:\n",
    "                if pre_calc_false_signal == 1: \n",
    "                    # print(f'false signal buy')\n",
    "                    self.false_buys += 1\n",
    "            else:\n",
    "                print(f'ERROR: buying, against pre_calc_signal')    \n",
    "            self.buy(size=self.per_trade_risk, sl=current_close - range_size, tp=current_close + potential_profit)\n",
    "        elif pre_calc_signal == -1 and known_false_pass:\n",
    "            if pre_calc_signal == -1:\n",
    "                if pre_calc_false_signal == 1: \n",
    "                    # print(f'false signal sell')\n",
    "                    self.false_sells += 1  \n",
    "            else:\n",
    "                print(f'ERROR: selling, against pre_calc_signal')\n",
    "            self.sell(size=self.per_trade_risk, sl=current_close + range_size , tp=current_close - potential_profit)"
   ]
  },
  {
   "attachments": {},
   "cell_type": "markdown",
   "metadata": {},
   "source": [
    "## known false signals\n",
    "\n",
    "| Return % | risk po | start | end | false b | false s | tot trades | max dd | win rate |\n",
    "| -------- | ------- | ----- | --- | ------- | ------- | ---------- | ------ | -------- |\n",
    "| 12,537.59 | 0.1 | 2022-03-21 23:10:00 | 2022-07-02 21:02:0 | 0 | 0 | 4796.0 | -18.252684 | 49.582986 |\n",
    "\n",
    "## unknown false signals\n",
    "\n",
    "| Return % | risk po | start | end | false b | false s | tot trades | max dd | win rate |\n",
    "| -------- | ------- | ----- | --- | ------- | ------- | ---------- | ------ | -------- |\n",
    "| 3,590.15 | 0.1 | 2022-03-21 23:10:00 | 2022-07-02 21:02:0 | 451 | 530 | 5773 | -22.111453 | 42.0925 |"
   ]
  },
  {
   "cell_type": "code",
   "execution_count": null,
   "metadata": {},
   "outputs": [],
   "source": [
    "# df_sample = df\n",
    "# start = df_sample.iloc[0]['timestamp']\n",
    "# end = df_sample.iloc[-1]['timestamp']\n",
    "# print(f'start: {start}, end: {end}')"
   ]
  },
  {
   "attachments": {},
   "cell_type": "markdown",
   "metadata": {},
   "source": [
    "## Periods of negative return\n",
    "\n",
    "| Return % | start | start idx | end | end idx |\n",
    "| -------- | ----- | --------- | --- | ------- | \n",
    "| -34.11704 | 2022-03-27 12:47:00 | 1500 | 2022-04-12 01:22:00 | 6500 |\n",
    "| -59.653264 |2022-03-26 07:52:00| 1418 | 2022-04-27 01:25:00 | 10500 |"
   ]
  },
  {
   "attachments": {},
   "cell_type": "markdown",
   "metadata": {},
   "source": [
    "## Periods of positive return\n",
    "\n",
    "| Return % | start | start idx | end | end idx |\n",
    "| -------- | ----- | --------- | --- | ------- | \n",
    "| 649.93 | 2022-04-27 01:26:00 | 10500 | 2022-05-31 18:09:00 | 20500 |\n",
    "| 1231.28 | 2022-05-31 18:09:00 | 20500 | 2022-07-05 12:46:00 | 30500 |\n",
    "| 1875.42 | 2022-07-05 12:47:00 | 30500 | 2022-08-10 16:41:00 | 40500 |\n"
   ]
  },
  {
   "attachments": {},
   "cell_type": "markdown",
   "metadata": {},
   "source": [
    "check assumption that strat1 doesn't work with start index > 0 because precalculated indications are off, by recalc on section"
   ]
  },
  {
   "attachments": {},
   "cell_type": "markdown",
   "metadata": {},
   "source": [
    "The full chart shows 80% max draw down, need to discover why the strategy fails in these periods and how to opt out of trading. The number is false signals seems to be ~ consistent % of total trades"
   ]
  },
  {
   "cell_type": "code",
   "execution_count": null,
   "metadata": {},
   "outputs": [],
   "source": [
    "from backtesting import Backtest\n",
    "bt = Backtest(df, RangeBarStrategyPreCalc, cash=100000, margin=1/10, commission=(0.03 / 100), exclusive_orders=False)\n",
    "stats = bt.run()\n",
    "false_buys = stats._strategy.false_buys\n",
    "false_sells = stats._strategy.false_sells\n",
    "print(f'false buys: {false_buys}, false sells: {false_sells}')\n",
    "stats\n"
   ]
  },
  {
   "attachments": {},
   "cell_type": "markdown",
   "metadata": {},
   "source": [
    "Sharpe Ratio                          0.01437\n",
    "Sortino Ratio                    85554.785001\n",
    "Calmar Ratio                    143047.418449\n",
    "\n"
   ]
  }
 ],
 "metadata": {
  "kernelspec": {
   "display_name": "base",
   "language": "python",
   "name": "python3"
  },
  "language_info": {
   "codemirror_mode": {
    "name": "ipython",
    "version": 3
   },
   "file_extension": ".py",
   "mimetype": "text/x-python",
   "name": "python",
   "nbconvert_exporter": "python",
   "pygments_lexer": "ipython3",
   "version": "3.9.13"
  },
  "orig_nbformat": 4,
  "vscode": {
   "interpreter": {
    "hash": "e6206a5d9777dc4941d1ef736d0f3211132aba6ec6b27c0cc45f807d6cb74e8f"
   }
  }
 },
 "nbformat": 4,
 "nbformat_minor": 2
}
