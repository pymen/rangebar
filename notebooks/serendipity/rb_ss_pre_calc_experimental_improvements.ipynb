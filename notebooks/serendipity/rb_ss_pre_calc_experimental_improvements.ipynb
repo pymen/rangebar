{
 "cells": [
  {
   "cell_type": "code",
   "execution_count": null,
   "metadata": {},
   "outputs": [],
   "source": [
    "import pandas as pd\n",
    "input_path = '../tmp-data/ss_range_bars.1'\n",
    "df = pd.read_csv(f'{input_path}.csv', parse_dates=['timestamp'], index_col='timestamp')\n",
    "df"
   ]
  },
  {
   "cell_type": "code",
   "execution_count": null,
   "metadata": {},
   "outputs": [],
   "source": [
    "def mark_close_to_bollinger(df, threshold=0.1, window=3):\n",
    "    \"\"\"\n",
    "    Adds a new column to the DataFrame indicating whether the Close value is within\n",
    "    `threshold` fraction of the Bollinger Bands (bb_upper or bb_lower) in a window of\n",
    "    `window` rows forward and backward.\n",
    "    \"\"\"\n",
    "    for i, row in df.iterrows():\n",
    "        # find the indices of nearby rows\n",
    "        start = max(0, i - window)\n",
    "        end = min(len(df), i + window + 1)\n",
    "        \n",
    "        # check if any of the nearby rows are close to a bollinger band\n",
    "        close_to_band = (\n",
    "            ((df.loc[start:i, 'Close'] >= df.loc[i, 'bb_lower'] * (1 - threshold)) & \n",
    "             (df.loc[start:i, 'Close'] <= df.loc[i, 'bb_lower'] * (1 + threshold))) |\n",
    "            \n",
    "            ((df.loc[i:end, 'Close'] >= df.loc[i, 'bb_upper'] * (1 - threshold)) & \n",
    "             (df.loc[i:end, 'Close'] <= df.loc[i, 'bb_upper'] * (1 + threshold)))\n",
    "        ).any()\n",
    "        \n",
    "        # assign the result to a new column\n",
    "        df.at[i, 'close_to_bollinger'] = int(close_to_band)\n",
    "\n",
    "        # multiply the window size by the frequency of the index\n",
    "        freq = pd.infer_freq(df.index)\n",
    "        window_timedelta = pd.Timedelta(window * freq)\n",
    "        \n",
    "        # add the timedelta to the index to get the value for the new column\n",
    "        df.at[i, 'window_end'] = df.index[min(i + window, len(df) - 1)] + window_timedelta\n",
    "        df.at[i, 'window_start'] = df.index[max(i - window, 0)] - window_timedelta\n",
    "\n",
    "# apply the function to the DataFrame\n",
    "mark_close_to_bollinger(df)\n",
    "df"
   ]
  }
 ],
 "metadata": {
  "kernelspec": {
   "display_name": "base",
   "language": "python",
   "name": "python3"
  },
  "language_info": {
   "codemirror_mode": {
    "name": "ipython",
    "version": 3
   },
   "file_extension": ".py",
   "mimetype": "text/x-python",
   "name": "python",
   "nbconvert_exporter": "python",
   "pygments_lexer": "ipython3",
   "version": "3.9.13"
  },
  "orig_nbformat": 4
 },
 "nbformat": 4,
 "nbformat_minor": 2
}
