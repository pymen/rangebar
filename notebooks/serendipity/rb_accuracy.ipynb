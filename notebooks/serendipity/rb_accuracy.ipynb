{
 "cells": [
  {
   "cell_type": "code",
   "execution_count": null,
   "metadata": {},
   "outputs": [],
   "source": [
    "import pandas as pd\n",
    "input_path = '../tmp-data/ss_range_bars.final'\n",
    "df1 = pd.read_csv(f'{input_path}.csv', parse_dates=['timestamp'], index_col='timestamp')\n",
    "df1"
   ]
  },
  {
   "cell_type": "code",
   "execution_count": null,
   "metadata": {},
   "outputs": [],
   "source": [
    "# Calculate the difference between the current close and the last close\n",
    "close_diff = df1['Close'] - df1['Close'].shift(1)\n",
    "range_size = df1['average_adr'] * 0.1\n",
    "\n",
    "df2 = df1.copy()\n",
    "\n",
    "df2['range_size'] = range_size\n",
    "# Add the difference as a new column 'close_diff'\n",
    "df2['close_diff'] = close_diff\n",
    "df2.head(30)"
   ]
  },
  {
   "cell_type": "code",
   "execution_count": null,
   "metadata": {},
   "outputs": [],
   "source": [
    "import numpy as np\n",
    "# Set a tolerance level for comparing the two columns\n",
    "tolerance = 1e-6\n",
    "# Count how many times range_size and close_diff are within the tolerance level\n",
    "count = np.isclose(df2['range_size'], abs(df2['close_diff']), rtol=tolerance).sum()\n",
    "count_not_zero = (df2['close_diff'] > 0).sum()\n",
    "print(f'The range_size and close_diff columns are close in value {count} times. Out of {count_not_zero} were the diff is not zero')"
   ]
  },
  {
   "cell_type": "code",
   "execution_count": null,
   "metadata": {},
   "outputs": [],
   "source": [
    "signals = (df2['signal'] != 0).count()\n",
    "signals"
   ]
  },
  {
   "cell_type": "code",
   "execution_count": null,
   "metadata": {},
   "outputs": [],
   "source": [
    "mask = ((df2['signal'] != 0) & (df2['signal'].shift(1) == df2['signal']) & (df2['signal'].shift(2) != df2['signal']))\n",
    "result = df2[mask]\n",
    "result"
   ]
  }
 ],
 "metadata": {
  "kernelspec": {
   "display_name": "3.11",
   "language": "python",
   "name": "python3"
  },
  "language_info": {
   "codemirror_mode": {
    "name": "ipython",
    "version": 3
   },
   "file_extension": ".py",
   "mimetype": "text/x-python",
   "name": "python",
   "nbconvert_exporter": "python",
   "pygments_lexer": "ipython3",
   "version": "3.11.3"
  },
  "orig_nbformat": 4
 },
 "nbformat": 4,
 "nbformat_minor": 2
}
