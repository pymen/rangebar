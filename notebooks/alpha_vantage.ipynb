{
 "cells": [
  {
   "cell_type": "code",
   "execution_count": null,
   "metadata": {},
   "outputs": [],
   "source": [
    "import pandas as pd\n",
    "import requests as rq"
   ]
  },
  {
   "cell_type": "code",
   "execution_count": null,
   "metadata": {},
   "outputs": [],
   "source": [
    "df_full = pd.read_html('https://en.wikipedia.org/wiki/List_of_cryptocurrencies')[1]\n",
    "name_sym_map = df_full[['Currency', 'Symbol']].copy()\n",
    "name_sym_map['Symbol'] = name_sym_map['Symbol'].str.split(',').str[0]\n",
    "name_sym_map = name_sym_map.rename(columns={'Currency': 'name', 'Symbol': 'symbol'})\n",
    "name_sym_map.set_index('name', inplace=True)\n",
    "name_sym_dict = name_sym_map.to_dict(orient='dict')['symbol']\n",
    "# import pprint\n",
    "# pprint.pprint(name_sym_dict)"
   ]
  },
  {
   "cell_type": "code",
   "execution_count": null,
   "metadata": {},
   "outputs": [],
   "source": [
    "alpha_vantage_key = '3R1QF2L06FHFJGYL'"
   ]
  },
  {
   "cell_type": "code",
   "execution_count": null,
   "metadata": {},
   "outputs": [],
   "source": [
    "crypto_names_selection = ['Bitcoin', 'Ethereum', 'XRP', 'Dogecoin']"
   ]
  },
  {
   "attachments": {},
   "cell_type": "markdown",
   "metadata": {},
   "source": [
    "https://www.alphavantage.co/documentation/#news-sentiment"
   ]
  },
  {
   "cell_type": "code",
   "execution_count": null,
   "metadata": {},
   "outputs": [],
   "source": [
    "alpha_vantage_base_url = 'https://www.alphavantage.co/query'"
   ]
  },
  {
   "cell_type": "code",
   "execution_count": null,
   "metadata": {},
   "outputs": [],
   "source": [
    "def get_multiple(base_url, parm_list):\n",
    "    data_list = []\n",
    "    for item in parm_list:\n",
    "        p, sym = item\n",
    "        response = rq.get(base_url, params=p)\n",
    "        # print(f'params:{p}, response.status_code:{response.status_code}')\n",
    "        data = response.json()\n",
    "        print(f'symbol: {sym}, data.items:{data[\"items\"]}')\n",
    "        data_list.append({'sym': sym, 'data': data})\n",
    "    return data_list"
   ]
  },
  {
   "cell_type": "code",
   "execution_count": null,
   "metadata": {},
   "outputs": [],
   "source": [
    "def assemble_requests(start=None, end=None):\n",
    "    base_tickers = 'COIN,FOREX:USD'\n",
    "    params = {'function': 'NEWS_SENTIMENT', 'apikey': alpha_vantage_key}\n",
    "    if start is not None:\n",
    "        params['time_from'] = f'{start}T0000'\n",
    "        if end is not None:\n",
    "            params['time_to'] = f'{end}T0000'\n",
    "    rq_param_list = []\n",
    "    for name in crypto_names_selection:\n",
    "        try:\n",
    "            symbol = name_sym_dict[name]\n",
    "        except KeyError:\n",
    "            symbol = name\n",
    "        new_params = params.copy()\n",
    "        new_params['tickers'] = f'CRYPTO:{symbol},{base_tickers}'\n",
    "        rq_param_list.append((new_params, symbol))\n",
    "    return rq_param_list    "
   ]
  },
  {
   "attachments": {},
   "cell_type": "markdown",
   "metadata": {},
   "source": [
    "[Optional: time_from and time_to](https://www.alphavantage.co/documentation/#news-sentiment)\n",
    "\n",
    "The time range of the news articles you are targeting, in YYYYMMDDTHHMM format. For example: time_from=20220410T0130. If time_from is specified but time_to is missing, the API will return articles published between the time_from value and the current time.\n",
    "\n",
    "### We are looking at daily\n",
    "so start, end positional args are just YYYYMMDD\n",
    "eg: \n",
    "```\n",
    "start_date = '20160101'\n",
    "end_date = '20221023'\n",
    "```"
   ]
  },
  {
   "cell_type": "code",
   "execution_count": null,
   "metadata": {},
   "outputs": [],
   "source": [
    "rq_param_list = assemble_requests('20170101', '20221023')\n",
    "# print(rq_param_list)\n",
    "data = get_multiple(alpha_vantage_base_url, rq_param_list)\n"
   ]
  },
  {
   "attachments": {},
   "cell_type": "markdown",
   "metadata": {},
   "source": [
    "## no limit's has these result from no limit \n",
    "\n",
    "symbol: BTC, data.items:18\n",
    "symbol: ETH, data.items:12\n",
    "symbol: XRP, data.items:5\n",
    "symbol: DOGE, data.items:6"
   ]
  },
  {
   "cell_type": "code",
   "execution_count": null,
   "metadata": {},
   "outputs": [],
   "source": [
    "\n",
    "import json\n",
    "with open('./response_data.json', 'w') as f:\n",
    "    json.dump(data, f)"
   ]
  },
  {
   "cell_type": "code",
   "execution_count": null,
   "metadata": {},
   "outputs": [],
   "source": [
    "def flatten_feeds(data):\n",
    "    sentiment_data = []\n",
    "    for record in data.copy():\n",
    "        symbol = record['sym']\n",
    "        feed = record['data']['feed']\n",
    "        for feed_item in feed:\n",
    "             for ticker in feed_item['ticker_sentiment']:\n",
    "                if ticker['ticker'].endswith(symbol) and ticker[\"ticker_sentiment_label\"] != 'Neutral':\n",
    "                    ticker['symbol'] = symbol\n",
    "                    ticker['time_published'] = feed_item['time_published']\n",
    "                    ticker['summary'] = feed_item['summary']\n",
    "                    ticker['url'] = feed_item['url']\n",
    "                    sentiment_data.append(ticker)\n",
    "    return sentiment_data                \n"
   ]
  },
  {
   "cell_type": "code",
   "execution_count": null,
   "metadata": {},
   "outputs": [],
   "source": [
    "\n",
    "sentiment_data = flatten_feeds(data)     "
   ]
  },
  {
   "cell_type": "code",
   "execution_count": null,
   "metadata": {},
   "outputs": [],
   "source": [
    "import json\n",
    "with open('./sentiment_data.json', 'w') as f:\n",
    "    json.dump(sentiment_data, f)"
   ]
  },
  {
   "cell_type": "code",
   "execution_count": null,
   "metadata": {},
   "outputs": [],
   "source": [
    "sentiment_df = pd.DataFrame(sentiment_data)\n",
    "print(len(sentiment_df))\n",
    "sentiment_df.drop(columns=['ticker', 'relevance_score'], inplace=True)\n",
    "sentiment_df['time_published'] = pd.to_datetime(sentiment_df['time_published'])\n",
    "sentiment_df.set_index('time_published', inplace=True)\n",
    "sentiment_df.sort_index(inplace=True)\n",
    "sentiment_df\n"
   ]
  },
  {
   "cell_type": "code",
   "execution_count": null,
   "metadata": {},
   "outputs": [],
   "source": [
    "sentiment_df.to_csv('./sentiment_data.csv')"
   ]
  }
 ],
 "metadata": {
  "kernelspec": {
   "display_name": "Python 3 (ipykernel)",
   "language": "python",
   "name": "python3"
  },
  "language_info": {
   "codemirror_mode": {
    "name": "ipython",
    "version": 3
   },
   "file_extension": ".py",
   "mimetype": "text/x-python",
   "name": "python",
   "nbconvert_exporter": "python",
   "pygments_lexer": "ipython3",
   "version": "3.9.13"
  },
  "orig_nbformat": 4,
  "vscode": {
   "interpreter": {
    "hash": "916dbcbb3f70747c44a77c7bcd40155683ae19c65e1c03b4aa3499c5328201f1"
   }
  }
 },
 "nbformat": 4,
 "nbformat_minor": 2
}
