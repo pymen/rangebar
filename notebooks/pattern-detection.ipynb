{
 "cells": [
  {
   "cell_type": "code",
   "execution_count": null,
   "metadata": {},
   "outputs": [],
   "source": [
    "import numpy as np\n",
    "import pandas as pd\n",
    "import pandas_ta as ta\n"
   ]
  },
  {
   "cell_type": "code",
   "execution_count": null,
   "metadata": {},
   "outputs": [],
   "source": [
    "source_df = pd.read_csv(f'./dataset.csv')\n",
    "grouped_dfs = [group for _, group in source_df.groupby('crypto_name')]\n",
    "crypto_names = [group['crypto_name'].unique() for group in grouped_dfs]\n",
    "crypto_names2 = list(map(lambda x: x[0], crypto_names))\n",
    "crypto_names2"
   ]
  },
  {
   "cell_type": "code",
   "execution_count": null,
   "metadata": {},
   "outputs": [],
   "source": [
    "crypto_names_selection = ['Bitcoin', 'Ethereum', 'Dogecoin', 'XRP']"
   ]
  },
  {
   "cell_type": "code",
   "execution_count": null,
   "metadata": {},
   "outputs": [],
   "source": [
    "crypto_dfs = []\n",
    "for df in grouped_dfs:\n",
    "    if(df['crypto_name'].iloc[0] not in crypto_names_selection):\n",
    "        continue;\n",
    "    df['date'] = pd.to_datetime(df['date'])\n",
    "    df.set_index('date', inplace=True)\n",
    "    df.sort_index(inplace=True)\n",
    "    df.drop(columns=['Unnamed: 0'], inplace=True)\n",
    "    crypto_dfs.append(df)\n",
    "print(f\"{len(crypto_dfs)} dfs, {len(crypto_names_selection)} crypto_names_selection\")\n",
    "# dfs[0].columns\n",
    "crypto_dfs[0]"
   ]
  },
  {
   "cell_type": "code",
   "execution_count": null,
   "metadata": {},
   "outputs": [],
   "source": [
    "sample_crypto_df = crypto_dfs[0]"
   ]
  },
  {
   "attachments": {},
   "cell_type": "markdown",
   "metadata": {},
   "source": [
    "Calculate the required technical indicators. For the the patterns, we need to calculate the Simple Moving Average (SMA) and Relative Strength Index (RSI) indicators."
   ]
  },
  {
   "cell_type": "code",
   "execution_count": null,
   "metadata": {},
   "outputs": [],
   "source": [
    "def add_sma_rsi(df, window):\n",
    "    # Calculate SMA\n",
    "    sma = ta.sma(df['close'], window=window)\n",
    "    df[f'SMA{window}'] = sma\n",
    "\n",
    "    # Calculate RSI\n",
    "    rsi = ta.rsi(df['close'], window=window)\n",
    "    df[f'RSI{window}'] = rsi\n",
    "\n",
    "    return df\n",
    "\n",
    "# Add SMA and RSI columns for a window\n",
    "sample_crypto_df = add_sma_rsi(sample_crypto_df, window=20)\n"
   ]
  },
  {
   "attachments": {},
   "cell_type": "markdown",
   "metadata": {},
   "source": [
    "Create a function to detect the patterns"
   ]
  },
  {
   "cell_type": "code",
   "execution_count": null,
   "metadata": {},
   "outputs": [],
   "source": [
    "def detect_descending_triangle(high, low, close, window):\n",
    "    pattern = [0] * len(close)\n",
    "    for i in range(window, len(close)):\n",
    "        left_highs = high[i-window:i]\n",
    "        right_highs = high[i-window+1:i+1]\n",
    "        lows = low[i-window:i+1]\n",
    "        if max(left_highs) >= max(right_highs) and min(lows[:-1]) == min(lows):\n",
    "            pattern[i] = -1\n",
    "        elif max(left_highs) <= max(right_highs) and max(lows[:-1]) == max(lows):\n",
    "            pattern[i] = 1\n",
    "    return pattern\n",
    "\n",
    "sample_crypto_df['descending_triangle'] = detect_descending_triangle(sample_crypto_df['high'], sample_crypto_df['low'], sample_crypto_df['close'], window=20)\n",
    "\n",
    "# Identify the occurrence of the pattern using the dataframe.loc method to find the index positions where the pattern occurs.\n",
    "bullish_descending_triangle_indexes = data.loc[data['descending_triangle'] == 1].index\n",
    "bearish_descending_triangle_indexes = data.loc[data['descending_triangle'] == -1].index"
   ]
  },
  {
   "cell_type": "code",
   "execution_count": null,
   "metadata": {},
   "outputs": [],
   "source": [
    "def detect_double(lowOrHigh):\n",
    "    pattern = [0] * len(lowOrHigh)\n",
    "    for i in range(2, len(lowOrHigh)-2):\n",
    "        if lowOrHigh[i-2] > lowOrHigh[i] == lowOrHigh[i+2] > lowOrHigh[i+1] and lowOrHigh[i+1] > lowOrHigh[i]:\n",
    "            pattern[i] = 1\n",
    "    return pattern"
   ]
  },
  {
   "cell_type": "code",
   "execution_count": null,
   "metadata": {},
   "outputs": [],
   "source": [
    "sample_len = len(sample_crypto_df)\n",
    "sample_len"
   ]
  },
  {
   "cell_type": "code",
   "execution_count": null,
   "metadata": {},
   "outputs": [],
   "source": [
    "sample_crypto_df['double_bottom'] = detect_double(sample_crypto_df['low'])\n",
    "bullish_double_bottom_indexes = sample_crypto_df.loc[sample_crypto_df['double_bottom'] == 1].index\n",
    "print(f'bullish_double_bottom_indexes: {len(bullish_double_bottom_indexes)}')"
   ]
  },
  {
   "cell_type": "code",
   "execution_count": null,
   "metadata": {},
   "outputs": [],
   "source": [
    "sample_crypto_df['double_top'] = detect_double(sample_crypto_df['high'])\n",
    "bullish_double_top_indexes = sample_crypto_df.loc[sample_crypto_df['double_top'] == 1].index\n",
    "print(f'bullish_double_top_indexes: {len(bullish_double_top_indexes)}')"
   ]
  },
  {
   "cell_type": "code",
   "execution_count": null,
   "metadata": {},
   "outputs": [],
   "source": [
    "def detect_head_and_shoulders(high, low, close, window_size=20):\n",
    "    pattern = [0] * len(close)\n",
    "    for i in range(window_size, len(close) - window_size):\n",
    "        left_peak = high[i-window_size:i+1].max()\n",
    "        right_peak = high[i-window_size+1:i+2+window_size].max()\n",
    "        head = high[i-window_size+1:i+2+window_size].min()\n",
    "        left_trough = low[i-window_size:i+1].min()\n",
    "        right_trough = low[i-window_size+1:i+2+window_size].min()\n",
    "        if left_peak > right_peak and left_trough == right_trough == head:\n",
    "            pattern[i] = 1\n",
    "        elif left_peak < right_peak and left_trough == right_trough == head:\n",
    "            pattern[i] = -1\n",
    "    return pattern\n",
    "\n",
    "\n",
    "sample_crypto_df['head_and_shoulders'] = detect_head_and_shoulders(sample_crypto_df['high'], sample_crypto_df['low'], sample_crypto_df['close'])\n",
    "\n",
    "# Identify the occurrence of the pattern using the dataframe.loc method to find the index positions where the pattern occurs.\n",
    "bullish_head_and_shoulders_indexes = sample_crypto_df.loc[sample_crypto_df['head_and_shoulders'] == 1].index\n",
    "bearish_head_and_shoulders_indexes = sample_crypto_df.loc[sample_crypto_df['head_and_shoulders'] == -1].index\n",
    "print(f'bullish_head_and_shoulders_indexes: {len(bullish_head_and_shoulders_indexes)}, bearish_head_and_shoulders_indexes: {len(bearish_head_and_shoulders_indexes)}')"
   ]
  },
  {
   "cell_type": "code",
   "execution_count": null,
   "metadata": {},
   "outputs": [],
   "source": [
    "def detect_symmetrical_triangle(high, low):\n",
    "    pattern = [0] * len(high)\n",
    "    for i in range(2, len(high)-2):\n",
    "        if high[i] == high[i-2] and low[i] == low[i-2]:\n",
    "            continue\n",
    "        slope1 = (high[i-1] - low[i-1]) / 2\n",
    "        slope2 = (high[i] - low[i]) / 2\n",
    "        if slope1 * slope2 < 0:\n",
    "            if slope1 < 0:\n",
    "                pattern[i] = -1\n",
    "            else:\n",
    "                pattern[i] = 1\n",
    "    return pattern\n",
    "\n",
    "sample_crypto_df['symmetrical_triangle'] = detect_symmetrical_triangle(sample_crypto_df['high'], sample_crypto_df['low'])\n",
    "# Identify the occurrence of the pattern using the dataframe.loc method to find the index positions where the pattern occurs.\n",
    "bullish_symmetrical_triangle_indexes = sample_crypto_df.loc[sample_crypto_df['symmetrical_triangle'] == 1].index\n",
    "bearish_symmetrical_triangle_indexes = sample_crypto_df.loc[sample_crypto_df['symmetrical_triangle'] == -1].index\n",
    "print(f'bullish_descending_triangle_indexes: {len(bullish_symmetrical_triangle_indexes)}, bearish_symmetrical_triangle_indexes: {len(bearish_symmetrical_triangle_indexes)}')\n"
   ]
  },
  {
   "cell_type": "code",
   "execution_count": null,
   "metadata": {},
   "outputs": [],
   "source": [
    "sample_crypto_df"
   ]
  },
  {
   "attachments": {},
   "cell_type": "markdown",
   "metadata": {},
   "source": [
    "Finally, you can plot the descending triangle pattern on a candlestick chart using the mplfinance library. This will produce a candlestick chart with the SMA and RSI indicators plotted, along with the descending triangle pattern marked with green triangles for bullish pattern and red triangles for bearish pattern."
   ]
  },
  {
   "cell_type": "code",
   "execution_count": null,
   "metadata": {},
   "outputs": [],
   "source": [
    "sample_crypto_df_seg = sample_crypto_df.tail(100)\n",
    "sample_crypto_df_seg "
   ]
  },
  {
   "cell_type": "code",
   "execution_count": null,
   "metadata": {},
   "outputs": [],
   "source": [
    "import mplfinance as mpf\n",
    "\n",
    "df = sample_crypto_df_seg \n",
    "\n",
    "# Create a new DataFrame with just the open, high, low, and close columns\n",
    "ohlc = df[['open', 'high', 'low', 'close']]\n",
    "\n",
    "# Create a new DataFrame with just the pattern columns\n",
    "patterns = df[['descending_triangle', 'double_bottom', 'double_top', 'head_and_shoulders', 'symmetrical_triangle']]\n",
    "\n",
    "# Find the start and end indices of each block of candles with a pattern\n",
    "pattern_blocks = []\n",
    "current_block_start = None\n",
    "for i in range(len(patterns)):\n",
    "    if patterns.iloc[i].sum() > 0:\n",
    "        if current_block_start is None:\n",
    "            current_block_start = i\n",
    "    else:\n",
    "        if current_block_start is not None:\n",
    "            pattern_blocks.append((current_block_start, i-1))\n",
    "            current_block_start = None\n",
    "if current_block_start is not None:\n",
    "    pattern_blocks.append((current_block_start, len(patterns)-1))\n",
    "\n",
    "# Create a list of data for the pattern blocks\n",
    "data = []\n",
    "for block_start, block_end in pattern_blocks:\n",
    "    data.extend([(i, ohlc['low'].iloc[i], ohlc['high'].iloc[i]) for i in range(block_start, block_end+1)])\n",
    "\n",
    "# Define the plot style for the pattern blocks\n",
    "block_style = mpf.make_addplot(data, type='scatter', marker='s', markersize=150, \n",
    "                               markeredcolor='black', alpha=0.3, color='#b0c4de')\n",
    "\n",
    "# Plot the candlestick chart with the pattern block style\n",
    "mpf.plot(ohlc, type='candle', volume=True, figratio=(12, 6), figsize=(12, 9), \n",
    "         addplot=block_style)\n",
    "\n"
   ]
  }
 ],
 "metadata": {
  "kernelspec": {
   "display_name": "base",
   "language": "python",
   "name": "python3"
  },
  "language_info": {
   "codemirror_mode": {
    "name": "ipython",
    "version": 3
   },
   "file_extension": ".py",
   "mimetype": "text/x-python",
   "name": "python",
   "nbconvert_exporter": "python",
   "pygments_lexer": "ipython3",
   "version": "3.9.13"
  },
  "orig_nbformat": 4,
  "vscode": {
   "interpreter": {
    "hash": "e6206a5d9777dc4941d1ef736d0f3211132aba6ec6b27c0cc45f807d6cb74e8f"
   }
  }
 },
 "nbformat": 4,
 "nbformat_minor": 2
}
