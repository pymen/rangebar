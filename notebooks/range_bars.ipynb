{
 "cells": [
  {
   "attachments": {},
   "cell_type": "markdown",
   "metadata": {},
   "source": [
    "# Range Bar Generation\n"
   ]
  },
  {
   "attachments": {},
   "cell_type": "markdown",
   "metadata": {},
   "source": [
    "## Average ADR over 3 month periods\n",
    "\n",
    "- csv_path: data/BTCUSDT_1m_3m_back_from_2023-03-14.csv,\n",
    "- average_adr: 335.17217391304376,\n",
    "- range_size: 33.51721739130438\n",
    "\n",
    "---\n",
    "\n",
    "- csv_path: data/BTCUSDT_1m_3m_back_from_2022-11-15.csv,\n",
    "- average_adr: 448.0728070175438,\n",
    "- range_size: 44.80728070175439\n",
    "\n",
    "---\n",
    "\n",
    "- csv_path: data/BTCUSDT_1m_3m_back_from_2022-07-19.csv,\n",
    "- average_adr: 829.0913043478259,\n",
    "- range_size: 82.9091304347826\n"
   ]
  },
  {
   "attachments": {},
   "cell_type": "markdown",
   "metadata": {
    "notebookRunGroups": {
     "groupValue": "1"
    }
   },
   "source": [
    "Looks like volatility has been decreasing in BTCUSDT"
   ]
  },
  {
   "cell_type": "code",
   "execution_count": null,
   "metadata": {},
   "outputs": [],
   "source": [
    "import pandas as pd"
   ]
  },
  {
   "cell_type": "code",
   "execution_count": null,
   "metadata": {},
   "outputs": [],
   "source": [
    "df = pd.read_csv('data/BTCUSDT_1m_3m_back_from_2023-03-14.csv')"
   ]
  },
  {
   "cell_type": "code",
   "execution_count": null,
   "metadata": {},
   "outputs": [],
   "source": [
    "df['close'].plot()"
   ]
  },
  {
   "cell_type": "code",
   "execution_count": null,
   "metadata": {},
   "outputs": [],
   "source": [
    "def create_range_bar_df(df: pd.DataFrame, range_size: float):\n",
    "        range_bars = []\n",
    "        current_bar = {'timestamp': df.iloc[0]['timestamp'], 'open': df.iloc[0]['open'], 'high': df.iloc[0]['high'], 'low': rb_rb_df.iloc[0]['low'], 'close': df.iloc[0]['close']}\n",
    "        current_high = current_bar['high']\n",
    "        current_low = current_bar['low']\n",
    "\n",
    "        for _, row in df.iterrows():\n",
    "            high = row['high']\n",
    "            low = row['low']\n",
    "\n",
    "            if high - current_low >= range_size:\n",
    "                current_bar['close'] = current_low + range_size\n",
    "                range_bars.append(current_bar)\n",
    "\n",
    "                num_bars = int((high - current_low - range_size) // range_size)\n",
    "                for i in range(num_bars):\n",
    "                    current_bar = {'timestamp': row['timestamp'], 'open': current_low + range_size * (i), 'high': current_low + range_size * (i + 1), 'low': current_low + range_size * (i), 'close': current_low + range_size * (i + 1)}\n",
    "                    range_bars.append(current_bar)\n",
    "\n",
    "                current_bar = {'timestamp': row['timestamp'], 'open': current_low + range_size * num_bars, 'high': high, 'low': current_low + range_size * num_bars, 'close': row['close']}\n",
    "                current_high = high\n",
    "                current_low = current_bar['low']\n",
    "\n",
    "            elif current_high - low >= range_size:\n",
    "                current_bar['close'] = current_high - range_size\n",
    "                range_bars.append(current_bar)\n",
    "\n",
    "                num_bars = int((current_high - low - range_size) // range_size)\n",
    "                for i in range(num_bars):\n",
    "                    current_bar = {'timestamp': row['timestamp'], 'open': current_high - range_size * (i + 1), 'high': current_high - range_size * (i), 'low': current_high - range_size * (i + 2), 'close': current_high - range_size * (i + 1)}\n",
    "                    range_bars.append(current_bar)\n",
    "\n",
    "                current_bar = {'timestamp': row['timestamp'], 'open': current_high - range_size * (num_bars + 1), 'high': current_high - range_size * num_bars, 'low': low, 'close': row['close']}\n",
    "                current_high = current_bar['high']\n",
    "                current_low = low\n",
    "            else:\n",
    "                current_high = max(current_high, high)\n",
    "                current_low = min(current_low, low)\n",
    "                current_bar['timestamp'] = row['timestamp']\n",
    "                current_bar['high'] = current_high\n",
    "                current_bar['low'] = current_low\n",
    "                current_bar['close'] = row['close']\n",
    "\n",
    "        return pd.DataFrame(range_bars)\n",
    "\n",
    "                \n",
    "            "
   ]
  },
  {
   "cell_type": "code",
   "execution_count": null,
   "metadata": {},
   "outputs": [],
   "source": [
    "rb_df = create_range_bar_df(df, 33.51721739130438)\n",
    "rb_df.head(20)"
   ]
  },
  {
   "attachments": {},
   "cell_type": "markdown",
   "metadata": {},
   "source": [
    "check 1: greater then range duplicate starting timestamp rows\n"
   ]
  },
  {
   "cell_type": "code",
   "execution_count": null,
   "metadata": {},
   "outputs": [],
   "source": [
    "duplicate_rows = rb_df[rb_df.duplicated(subset=['timestamp'])]\n",
    "duplicate_rows"
   ]
  },
  {
   "attachments": {},
   "cell_type": "markdown",
   "metadata": {},
   "source": [
    "check 2: less then range size, jumps in 1 min intervals\n"
   ]
  },
  {
   "cell_type": "code",
   "execution_count": null,
   "metadata": {},
   "outputs": [],
   "source": [
    "# convert timestamp column to timestamp type\n",
    "rb_df['timestamp'] = pd.to_datetime(rb_df['timestamp'])\n",
    "\n",
    "# calculate the time difference between each row and the previous row\n",
    "time_diff = rb_df['timestamp'].diff()\n",
    "\n",
    "# find consecutive pairs where the time difference is greater than 1 minute\n",
    "consecutive_pairs = rb_df[(time_diff > pd.Timedelta(minutes=1)) & (time_diff.shift(1) > pd.Timedelta(minutes=1))]\n",
    "consecutive_pairs"
   ]
  },
  {
   "cell_type": "code",
   "execution_count": null,
   "metadata": {},
   "outputs": [],
   "source": [
    "rb_df['close'].plot()"
   ]
  },
  {
   "cell_type": "code",
   "execution_count": null,
   "metadata": {},
   "outputs": [],
   "source": [
    "rb_df.to_csv('data/range_bars_BTCUSDT_1m_3m_back_from_2023-03-14.csv')"
   ]
  }
 ],
 "metadata": {
  "kernelspec": {
   "display_name": "base",
   "language": "python",
   "name": "python3"
  },
  "language_info": {
   "codemirror_mode": {
    "name": "ipython",
    "version": 3
   },
   "file_extension": ".py",
   "mimetype": "text/x-python",
   "name": "python",
   "nbconvert_exporter": "python",
   "pygments_lexer": "ipython3",
   "version": "3.9.13"
  },
  "orig_nbformat": 4,
  "vscode": {
   "interpreter": {
    "hash": "e6206a5d9777dc4941d1ef736d0f3211132aba6ec6b27c0cc45f807d6cb74e8f"
   }
  }
 },
 "nbformat": 4,
 "nbformat_minor": 2
}
