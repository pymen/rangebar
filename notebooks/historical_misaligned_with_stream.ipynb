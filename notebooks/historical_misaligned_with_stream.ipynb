{
 "cells": [
  {
   "cell_type": "code",
   "execution_count": null,
   "metadata": {},
   "outputs": [],
   "source": [
    "import pandas as pd\n",
    "\n",
    "df = pd.read_csv('./tmp-data/btcusdt-kline.csv')\n",
    "pd.Series(df.columns)"
   ]
  },
  {
   "cell_type": "code",
   "execution_count": null,
   "metadata": {},
   "outputs": [],
   "source": [
    "df"
   ]
  },
  {
   "attachments": {},
   "cell_type": "markdown",
   "metadata": {},
   "source": [
    "### problems\n",
    "* symbol\n",
    "* number_of_trades vs num_of_trades\n",
    "* taker_buy_quote_asset_volume vs taker_buy_quote ?\n",
    "* taker_buy_asset_volume vs taker_buy_base ?\n",
    "\n",
    "['number_of_trades', 'num_of_trades', 'taker_buy_quote_asset_volume', 'taker_buy_quote', 'taker_buy_asset_volume', 'taker_buy_base']"
   ]
  },
  {
   "cell_type": "code",
   "execution_count": null,
   "metadata": {},
   "outputs": [],
   "source": [
    "df[['number_of_trades', 'num_of_trades', 'taker_buy_quote_asset_volume',\n",
    "    'taker_buy_quote', 'taker_buy_asset_volume', 'taker_buy_base']]\n"
   ]
  },
  {
   "cell_type": "code",
   "execution_count": null,
   "metadata": {},
   "outputs": [],
   "source": [
    "\n"
   ]
  }
 ],
 "metadata": {
  "kernelspec": {
   "display_name": "base",
   "language": "python",
   "name": "python3"
  },
  "language_info": {
   "codemirror_mode": {
    "name": "ipython",
    "version": 3
   },
   "file_extension": ".py",
   "mimetype": "text/x-python",
   "name": "python",
   "nbconvert_exporter": "python",
   "pygments_lexer": "ipython3",
   "version": "3.9.13"
  },
  "orig_nbformat": 4
 },
 "nbformat": 4,
 "nbformat_minor": 2
}
