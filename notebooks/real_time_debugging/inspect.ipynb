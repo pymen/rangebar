{
 "cells": [
  {
   "cell_type": "code",
   "execution_count": null,
   "metadata": {},
   "outputs": [],
   "source": [
    "import pandas as pd\n",
    "import ta\n",
    "\n",
    "base_path = '../tmp-data/real-time-analysis/3rd/'"
   ]
  },
  {
   "cell_type": "code",
   "execution_count": null,
   "metadata": {},
   "outputs": [],
   "source": [
    "df1 = pd.read_pickle(f'{base_path}btcusdt-range_bar.pkl')\n",
    "dfcp1 = df1.copy()\n",
    "print(len(dfcp1))\n",
    "dfcp2 = df1.copy()\n",
    "dfcp2.dropna(inplace=True)\n",
    "print(len(dfcp2))\n",
    "df_sample = dfcp2\n"
   ]
  },
  {
   "cell_type": "code",
   "execution_count": null,
   "metadata": {},
   "outputs": [],
   "source": [
    "from bokeh.plotting import figure, show, output_file\n",
    "from bokeh.models import ColumnDataSource, CDSView, BooleanFilter\n",
    "from bokeh.layouts import column\n",
    "from bokeh.models import Range1d, HoverTool\n",
    "from bokeh.models.formatters import DatetimeTickFormatter\n",
    "\n",
    "# add a HoverTool to the default tools\n",
    "hover_tool = HoverTool(tooltips=[('x', '@x'), ('y', '@y'), ('value', '$y')])\n",
    "hover_tool_main = HoverTool(tooltips=[(\"x\", \"@{%F}\"), (\"y\", \"@y{$0,0.00}\")], formatters={\"@{%F}\": \"datetime\"})\n",
    "\n",
    "# Create a ColumnDataSource object to hold the plot data\n",
    "source = ColumnDataSource(data=dict(\n",
    "    x=df_sample.index,\n",
    "    y=df_sample['close'],\n",
    "    bb_upper=df_sample['bb_upper'],\n",
    "    bb_lower=df_sample['bb_lower'],\n",
    "    average_adr=df_sample['average_adr'],\n",
    "    macd=df_sample['macd'],\n",
    "    macd_signal=df_sample['macd_signal'],\n",
    "    macd_histogram=df_sample['macd_histogram'],\n",
    "    rsi=df_sample['rsi'],\n",
    "    vol=df_sample['volume']\n",
    "))\n",
    "\n",
    "\n",
    "\n",
    "# Create a Range1d object for the x-axis range shared by all three figures\n",
    "x_range = Range1d(start=df_sample.index[0], end=df_sample.index[-1])\n",
    "\n",
    "# Create a new figure object\n",
    "p = figure(title='ss', x_axis_label='Date',\n",
    "           y_axis_label='Price', width=1400, x_range=x_range)\n",
    "# configure the x-axis to display datetime values\n",
    "date_fmt = '%Y-%m-%d %H:%M:%S'\n",
    "tick_formatter = DatetimeTickFormatter(days=date_fmt)\n",
    "p.xaxis.formatter = tick_formatter\n",
    "p.add_tools(hover_tool)\n",
    "\n",
    "# Plot the Close values as a line\n",
    "p.line(x='x', y='y', source=source, legend_label='Close')\n",
    "\n",
    "# Plot the bb_upper and bb_lower values as shaded areas\n",
    "p.varea(x='x', y1='bb_upper', y2='bb_lower', source=source, alpha=0.2, legend_label='Bollinger Bands')\n",
    "\n",
    "p_macd = figure(title='MACD', x_axis_label='Date', y_axis_label='Value', width=1400, x_range=x_range)\n",
    "p_macd.add_tools(hover_tool)\n",
    "# Plot the average ADR as a line\n",
    "p_macd.line(x='x', y='average_adr', source=source, color='orange', legend_label='Average ADR')\n",
    "\n",
    "# Plot the MACD as two lines (macd and signal)\n",
    "p_macd.line(x='x', y='macd', source=source, color='blue', legend_label='MACD')\n",
    "p_macd.line(x='x', y='macd_signal', source=source, color='red', legend_label='Signal')\n",
    "\n",
    "# Plot the MACD histogram as a bar chart\n",
    "p_macd.vbar(x='x', top='macd_histogram', source=source, width=1.0, alpha=0.2, color='gray', legend_label='Histogram')\n",
    "\n",
    "# Plot the RSI as a line in a separate figure\n",
    "p_rsi = figure(title='RSI', x_axis_label='Date', y_axis_label='RSI Value', width=1400, x_range=x_range)\n",
    "p_rsi.line(x='x', y='rsi', source=source, color='purple')\n",
    "p_rsi.add_tools(hover_tool)\n",
    "\n",
    "# Plot the Volume as a Vol in a separate figure\n",
    "p_vol = figure(title='Volume', x_axis_label='Date', y_axis_label='Value', width=1400, x_range=x_range)\n",
    "p_vol.line(x='x', y='vol', source=source, color='blue')\n",
    "p_vol.add_tools(hover_tool)\n",
    "\n",
    "show(column(p, p_vol, p_macd, p_rsi))"
   ]
  },
  {
   "cell_type": "code",
   "execution_count": null,
   "metadata": {},
   "outputs": [],
   "source": [
    "\n",
    "\n",
    "# target = pd.to_datetime('2023-04-29 20:48:59.999000') \n",
    "# window_df = df1.loc[df1.index >= target]\n",
    "print(len(window_df))\n",
    "window_df"
   ]
  },
  {
   "cell_type": "code",
   "execution_count": null,
   "metadata": {},
   "outputs": [],
   "source": [
    "# Calculate the difference between the current close and the last close\n",
    "close_diff = window_df['close'] - window_df['close'].shift(1)\n",
    "range_size = window_df['average_adr'] * 0.1\n",
    "window_df['range_size'] = range_size\n",
    "# Add the difference as a new column 'close_diff'\n",
    "window_df['close_diff'] = close_diff\n",
    "window_df.head(30)"
   ]
  },
  {
   "cell_type": "code",
   "execution_count": null,
   "metadata": {},
   "outputs": [],
   "source": [
    "import numpy as np\n",
    "# Set a tolerance level for comparing the two columns\n",
    "tolerance = 1e-6\n",
    "# Count how many times range_size and close_diff are within the tolerance level\n",
    "count = np.isclose(window_df['range_size'], abs(window_df['close_diff']), rtol=tolerance).sum()\n",
    "count_not_zero = (window_df['close_diff'] > 0).sum()\n",
    "print(f'The range_size and close_diff columns are close in value {count} times. Out of {count_not_zero} were the diff is not zero')"
   ]
  }
 ],
 "metadata": {
  "kernelspec": {
   "display_name": "3.11",
   "language": "python",
   "name": "python3"
  },
  "language_info": {
   "codemirror_mode": {
    "name": "ipython",
    "version": 3
   },
   "file_extension": ".py",
   "mimetype": "text/x-python",
   "name": "python",
   "nbconvert_exporter": "python",
   "pygments_lexer": "ipython3",
   "version": "3.11.3"
  },
  "orig_nbformat": 4
 },
 "nbformat": 4,
 "nbformat_minor": 2
}
