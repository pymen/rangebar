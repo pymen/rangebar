{
 "cells": [
  {
   "cell_type": "code",
   "execution_count": null,
   "metadata": {},
   "outputs": [],
   "source": [
    "import pandas as pd\n",
    "import ta\n",
    "\n",
    "base_path = '../tmp-data/real-time-analysis/'"
   ]
  },
  {
   "cell_type": "code",
   "execution_count": null,
   "metadata": {},
   "outputs": [],
   "source": [
    "df1 = pd.read_pickle(f'{base_path}btcusdt-range_bar.pkl')\n",
    "df1"
   ]
  },
  {
   "cell_type": "code",
   "execution_count": null,
   "metadata": {},
   "outputs": [],
   "source": [
    "df2 = pd.read_pickle(f'{base_path}btcusdt-range_bars_with_indicators.pkl')\n",
    "df2.tail(4)"
   ]
  },
  {
   "cell_type": "code",
   "execution_count": null,
   "metadata": {},
   "outputs": [],
   "source": [
    "# target = pd.to_datetime('2023-04-29 13:17:00.999') \n",
    "# # - pd.Timedelta(minutes=10)\n",
    "# window_df = df1.loc[df1.index >= target]\n",
    "# print(len(window_df))\n",
    "# window_df"
   ]
  },
  {
   "cell_type": "code",
   "execution_count": null,
   "metadata": {},
   "outputs": [],
   "source": [
    "#double the length\n",
    "window_df = df1[-104:]\n",
    "print(len(window_df))\n",
    "window_df"
   ]
  },
  {
   "cell_type": "code",
   "execution_count": null,
   "metadata": {},
   "outputs": [],
   "source": [
    "# Calculate the difference between the current close and the last close\n",
    "close_diff = window_df['close'] - window_df['close'].shift(1)\n",
    "range_size = window_df['average_adr'] * 0.1\n",
    "window_df['range_size'] = range_size\n",
    "# Add the difference as a new column 'close_diff'\n",
    "window_df['close_diff'] = close_diff\n",
    "window_df"
   ]
  },
  {
   "attachments": {},
   "cell_type": "markdown",
   "metadata": {},
   "source": [
    "### Rang Bar Creation Is Flawed\n",
    "The range_size should be equal to the close_diff, here we can see it's not. If the range_size is not achieved the klines should be bufferred and aggr until it is. Thta's not happening in the code"
   ]
  },
  {
   "cell_type": "code",
   "execution_count": null,
   "metadata": {},
   "outputs": [],
   "source": [
    "df_indicators = window_df.copy()"
   ]
  },
  {
   "cell_type": "code",
   "execution_count": null,
   "metadata": {},
   "outputs": [],
   "source": [
    "# calculate MACD with custom parameters\n",
    "macd = ta.trend.MACD(df_indicators['close'], window_slow=26, window_fast=12, window_sign=9, fillna=True)\n",
    "# add MACD values to the dataframe as new columns\n",
    "df_indicators['macd'] = macd.macd()\n",
    "df_indicators['macd_signal'] = macd.macd_signal()\n",
    "df_indicators['macd_histogram'] = macd.macd_diff()\n",
    "df_indicators"
   ]
  },
  {
   "attachments": {},
   "cell_type": "markdown",
   "metadata": {},
   "source": [
    "## 26 Bars"
   ]
  },
  {
   "attachments": {},
   "cell_type": "markdown",
   "metadata": {},
   "source": [
    "2023-04-29 13:34:59.999\t29401.0\t29485.1\t29499.0\t29350.0\t373.498\t1351.0\t94.123643 | -2.926256\tNaN\tNaN (with fillna=False)"
   ]
  },
  {
   "attachments": {},
   "cell_type": "markdown",
   "metadata": {},
   "source": [
    "2023-04-29 13:34:59.999\t29401.0\t29485.1\t29499.0\t29350.0\t373.498\t1351.0\t94.123643 | -2.926256 0.673993 -3.600249 (with fillna=True)"
   ]
  },
  {
   "attachments": {},
   "cell_type": "markdown",
   "metadata": {},
   "source": [
    "## 52 Bars"
   ]
  },
  {
   "attachments": {},
   "cell_type": "markdown",
   "metadata": {},
   "source": [
    "2023-04-29 13:34:59.999\t29401.0\t29485.1\t29499.0\t29350.0\t373.498\t1351.0\t94.123643 |\t-8.325256\t-6.782518\t-1.542737 (fillna=False)"
   ]
  },
  {
   "attachments": {},
   "cell_type": "markdown",
   "metadata": {},
   "source": [
    "2023-04-29 13:34:59.999\t29401.0\t29485.1\t29499.0\t29350.0\t373.498\t1351.0\t94.123643 |\t-8.325256\t-6.781790\t-1.543466 (with fillna=True)"
   ]
  },
  {
   "attachments": {},
   "cell_type": "markdown",
   "metadata": {},
   "source": [
    "## 104 Bars (fillna=True)"
   ]
  },
  {
   "attachments": {},
   "cell_type": "markdown",
   "metadata": {},
   "source": [
    "2023-04-29 13:34:59.999\t29401.0\t29485.1\t29499.0\t29350.0\t373.498\t1351.0\t94.123643 |\t-4.907634\t-1.822050\t-3.085583"
   ]
  },
  {
   "attachments": {},
   "cell_type": "markdown",
   "metadata": {},
   "source": [
    "# MACD Issue Theory\n",
    "\n",
    "We can see in the case of fillna=False that this indicator uses the values from before, in it's windows, how much data is need for the values to stabilize surely there must be some info on this"
   ]
  }
 ],
 "metadata": {
  "kernelspec": {
   "display_name": "3.11",
   "language": "python",
   "name": "python3"
  },
  "language_info": {
   "codemirror_mode": {
    "name": "ipython",
    "version": 3
   },
   "file_extension": ".py",
   "mimetype": "text/x-python",
   "name": "python",
   "nbconvert_exporter": "python",
   "pygments_lexer": "ipython3",
   "version": "3.11.3"
  },
  "orig_nbformat": 4
 },
 "nbformat": 4,
 "nbformat_minor": 2
}
