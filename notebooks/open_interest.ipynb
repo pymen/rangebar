{
 "cells": [
  {
   "cell_type": "code",
   "execution_count": null,
   "metadata": {},
   "outputs": [],
   "source": [
    "import logging\n",
    "from binance.um_futures import UMFutures\n",
    "from binance.lib.utils import config_logging"
   ]
  },
  {
   "cell_type": "code",
   "execution_count": null,
   "metadata": {},
   "outputs": [],
   "source": [
    "import datetime\n",
    "# datetime_str = '2022-01-01 00:00:00'\n",
    "\n",
    "def get_unix_epoch_time_ms(datetime_str):\n",
    "    datetime_obj = datetime.datetime.strptime(datetime_str, '%Y-%m-%d %H:%M:%S')\n",
    "    unix_epoch_time_ms = int(datetime_obj.timestamp() * 1000)\n",
    "    return unix_epoch_time_ms"
   ]
  },
  {
   "cell_type": "code",
   "execution_count": null,
   "metadata": {},
   "outputs": [],
   "source": [
    "now = datetime.datetime.now()\n",
    "delta = datetime.timedelta(days=30)\n",
    "stamps = []\n",
    "for i in range(1, 85):\n",
    "    dt = now - datetime.timedelta(minutes=i*500)\n",
    "    if dt < now - delta:\n",
    "        break\n",
    "    stamps.append(dt.strftime('%Y-%m-%d %H:%M:%S'))\n"
   ]
  },
  {
   "cell_type": "code",
   "execution_count": null,
   "metadata": {},
   "outputs": [],
   "source": [
    "\n",
    "stamps = stamps[::-1]\n",
    "pairs = [[stamps[i], stamps[i+1]] for i in range(0, len(stamps), 2)]\n",
    "pairs"
   ]
  },
  {
   "attachments": {},
   "cell_type": "markdown",
   "metadata": {},
   "source": [
    "https://binance-docs.github.io/apidocs/futures/en/#open-interest"
   ]
  },
  {
   "cell_type": "code",
   "execution_count": null,
   "metadata": {},
   "outputs": [],
   "source": [
    "um_futures_client = UMFutures()\n",
    "resp_data = []\n",
    "for pair in pairs:\n",
    "    try:\n",
    "        s, e = pair\n",
    "        print(f\"s: {s}, e: {e}\")\n",
    "        start = get_unix_epoch_time_ms(s)\n",
    "        end = get_unix_epoch_time_ms(e)\n",
    "        print(f\"start: {start}, end: {end}\")\n",
    "        resp = um_futures_client.open_interest_hist(\"BTCUSDT\", \"5m\", startTime=start, endTime=end)\n",
    "        resp_data.extend(resp)  \n",
    "    except Exception as e:\n",
    "        print(e)\n",
    "        \n",
    "resp_data    "
   ]
  },
  {
   "cell_type": "code",
   "execution_count": null,
   "metadata": {},
   "outputs": [],
   "source": [
    "import pyperclip as clip\n",
    "\n",
    "clip.copy(f\"{resp_data[0]}\")"
   ]
  },
  {
   "cell_type": "code",
   "execution_count": null,
   "metadata": {},
   "outputs": [],
   "source": [
    "import pandas as pd\n",
    "\n",
    "df = pd.DataFrame(resp_data)\n",
    "df['sumOpenInterest'] = df['sumOpenInterest'].astype(float)\n",
    "df"
   ]
  },
  {
   "cell_type": "code",
   "execution_count": null,
   "metadata": {},
   "outputs": [],
   "source": [
    "df['timestamp'] = pd.to_datetime(df['timestamp'], unit='ms')\n",
    "df.set_index('timestamp', inplace=True)\n",
    "df"
   ]
  },
  {
   "cell_type": "code",
   "execution_count": null,
   "metadata": {},
   "outputs": [],
   "source": [
    "# Normalize sumOpenInterest by dividing it by its maximum value\n",
    "df['normalized_sumOpenInterest'] = df['sumOpenInterest'] / df['sumOpenInterest'].max()\n",
    "df"
   ]
  },
  {
   "cell_type": "code",
   "execution_count": null,
   "metadata": {},
   "outputs": [],
   "source": [
    "from bokeh.plotting import figure, output_file, save\n",
    "from bokeh.models import ColumnDataSource\n",
    "\n",
    "\n",
    "\n",
    "source = ColumnDataSource(df)\n",
    "p = figure(x_axis_type='datetime', title='chart', width=1200, height=800)\n",
    "p.vbar(x='timestamp', top='normalized_sumOpenInterest', source=source, width=0.5, color='blue')\n",
    "\n",
    "# Rotate x-axis labels vertically\n",
    "p.xaxis.major_label_orientation = \"vertical\"\n",
    "# save the output to an HTML file\n",
    "output_file('./charts/bar-open-interest-30-days-1m.html')\n",
    "# save the plot to the HTML file\n",
    "save(p)\n"
   ]
  },
  {
   "cell_type": "code",
   "execution_count": null,
   "metadata": {},
   "outputs": [],
   "source": [
    "from bokeh.plotting import figure, output_file, save\n",
    "from bokeh.models import ColumnDataSource\n",
    "\n",
    "source = ColumnDataSource(df)\n",
    "p = figure(x_axis_type='datetime', title='chart', width=1200, height=800)\n",
    "p.line(x='timestamp', y='sumOpenInterest', source=source, line_width=2, color='blue')\n",
    "\n",
    " # save the output to an HTML file\n",
    "output_file(f'./charts/open-interest-30-days-1m.html')\n",
    "# save the plot to the HTML file\n",
    "save(p)"
   ]
  }
 ],
 "metadata": {
  "kernelspec": {
   "display_name": "base",
   "language": "python",
   "name": "python3"
  },
  "language_info": {
   "codemirror_mode": {
    "name": "ipython",
    "version": 3
   },
   "file_extension": ".py",
   "mimetype": "text/x-python",
   "name": "python",
   "nbconvert_exporter": "python",
   "pygments_lexer": "ipython3",
   "version": "3.9.13"
  },
  "orig_nbformat": 4
 },
 "nbformat": 4,
 "nbformat_minor": 2
}
