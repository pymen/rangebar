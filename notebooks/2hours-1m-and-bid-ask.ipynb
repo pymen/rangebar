{
 "cells": [
  {
   "cell_type": "code",
   "execution_count": null,
   "metadata": {},
   "outputs": [],
   "source": [
    "import pandas as pd"
   ]
  },
  {
   "cell_type": "code",
   "execution_count": null,
   "metadata": {},
   "outputs": [],
   "source": [
    "orig_df2 = pd.read_csv('bnbusdt-diff_book_bid_ask_sum.csv', parse_dates=True)"
   ]
  },
  {
   "cell_type": "code",
   "execution_count": null,
   "metadata": {},
   "outputs": [],
   "source": [
    "orig_df = pd.read_csv('bnbusdt-kline.csv', parse_dates=True)\n",
    "df = orig_df[orig_df['is_closed'] == True]\n",
    "df.dropna()\n",
    "# sort the DataFrame by timestamp and set it as the index\n",
    "df = df.sort_values(by='timestamp').set_index('timestamp')\n",
    "df = df.copy()\n"
   ]
  },
  {
   "cell_type": "code",
   "execution_count": null,
   "metadata": {},
   "outputs": [],
   "source": [
    "# Calculate moving average and standard deviation\n",
    "window_size = 10\n",
    "df['mid_band'] = df['close'].rolling(window=window_size).mean()\n",
    "df['std_dev'] = df['close'].rolling(window=window_size).std()\n",
    "# Calculate upper and lower Bollinger Bands\n",
    "num_std = 1.8\n",
    "df['upper_band'] = df['mid_band'] + (df['std_dev'] * num_std)\n",
    "df['lower_band'] = df['mid_band'] - (df['std_dev'] * num_std)\n",
    "\n",
    "df.tail(3)"
   ]
  },
  {
   "cell_type": "code",
   "execution_count": null,
   "metadata": {},
   "outputs": [],
   "source": [
    "import pandas as pd\n",
    "import matplotlib.pyplot as plt\n",
    "\n",
    "# Assuming your DataFrame is named df and has columns 'timestamp', 'close', 'mid_band', 'upper_band', and 'lower_band'\n",
    "# df.set_index('timestamp', inplace=True)  # Set the index to be the timestamp column\n",
    "\n",
    "fig, ax = plt.subplots(figsize=(10, 6))  # Create a new figure and axis object for the plot\n",
    "\n",
    "# Plot the close price as a blue line\n",
    "ax.plot(df.index, df['close'], color='blue', label='Close')\n",
    "\n",
    "# Shade the area between the upper and lower Bollinger Bands in gray\n",
    "ax.fill_between(df.index, df['upper_band'], df['lower_band'], color='green', alpha=0.2, label='Bollinger Bands')\n",
    "\n",
    "# Plot the mid Bollinger Band as a red dashed line\n",
    "ax.plot(df.index, df['mid_band'], color='red', linestyle='--', label='Mid Bollinger Band')\n",
    "\n",
    "ax.legend()  # Add a legend to the plot\n",
    "ax.set_title('Close Price with Bollinger Bands')  # Set the title of the plot\n",
    "# ax.set_xlabel('Timestamp')  # Set the x-axis label\n",
    "ax.set_ylabel('Price')  # Set the y-axis label\n",
    "\n",
    "plt.show()  # Show the plot\n"
   ]
  },
  {
   "cell_type": "code",
   "execution_count": null,
   "metadata": {},
   "outputs": [],
   "source": [
    "from bokeh.plotting import figure, output_file, save\n",
    "from bokeh.models import ColumnDataSource\n",
    "\n",
    "# create a ColumnDataSource from the DataFrame\n",
    "source = ColumnDataSource(df)\n",
    "\n",
    "# create a new Bokeh figure\n",
    "p = figure(x_axis_type='datetime', title='Close Price with Bollinger Bands')\n",
    "\n",
    "# plot the close price as a line\n",
    "p.line(x='timestamp', y='close', source=source, line_width=2, color='blue')\n",
    "\n",
    "# plot the mid band as a line\n",
    "p.line(x='timestamp', y='mid_band', source=source, line_width=1, color='black')\n",
    "\n",
    "# plot the upper band as a line\n",
    "p.line(x='timestamp', y='upper_band', source=source, line_width=1, color='green')\n",
    "\n",
    "# plot the lower band as a line\n",
    "p.line(x='timestamp', y='lower_band', source=source, line_width=1, color='red')\n",
    "\n",
    "# save the output to an HTML file\n",
    "output_file('bollinger_bands.html')\n",
    "\n",
    "# save the plot to the HTML file\n",
    "save(p)\n"
   ]
  }
 ],
 "metadata": {
  "kernelspec": {
   "display_name": "base",
   "language": "python",
   "name": "python3"
  },
  "language_info": {
   "codemirror_mode": {
    "name": "ipython",
    "version": 3
   },
   "file_extension": ".py",
   "mimetype": "text/x-python",
   "name": "python",
   "nbconvert_exporter": "python",
   "pygments_lexer": "ipython3",
   "version": "3.9.13"
  },
  "orig_nbformat": 4
 },
 "nbformat": 4,
 "nbformat_minor": 2
}
