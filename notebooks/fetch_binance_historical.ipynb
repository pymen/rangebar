{
 "cells": [
  {
   "cell_type": "code",
   "execution_count": null,
   "metadata": {},
   "outputs": [],
   "source": [
    "import pandas as pd"
   ]
  },
  {
   "cell_type": "code",
   "execution_count": null,
   "metadata": {},
   "outputs": [],
   "source": [
    "import datetime\n",
    "# datetime_str = '2022-01-01 00:00:00'\n",
    "\n",
    "def get_unix_epoch_time_ms(datetime_str):\n",
    "    datetime_obj = datetime.datetime.strptime(datetime_str, '%Y-%m-%d %H:%M:%S')\n",
    "    unix_epoch_time_ms = int(datetime_obj.timestamp() * 1000)\n",
    "    return unix_epoch_time_ms"
   ]
  },
  {
   "cell_type": "code",
   "execution_count": null,
   "metadata": {},
   "outputs": [],
   "source": [
    "# target = datetime.datetime.now()\n",
    "target = pd.to_datetime('2022-07-19 10:49:00') \n",
    "delta = datetime.timedelta(days=120)\n",
    "stamps = []\n",
    "for i in range(1, 289):\n",
    "    dt = target - datetime.timedelta(minutes=i*1000)\n",
    "    if dt < target - delta:\n",
    "        break\n",
    "    stamps.append(dt.strftime('%Y-%m-%d %H:%M:%S'))\n",
    "\n",
    "stamps = stamps[::-1]\n",
    "pairs = [[stamps[i], stamps[i+1]] for i in range(0, len(stamps), 2)]\n"
   ]
  },
  {
   "cell_type": "code",
   "execution_count": null,
   "metadata": {},
   "outputs": [],
   "source": [
    "from binance.um_futures import UMFutures\n",
    "\n",
    "um_futures_client = UMFutures()\n",
    "\n",
    "# :parameter symbol: string; the trading symbol.\n",
    "# :parameter interval: string; the interval of kline, e.g 1m, 5m, 1h, 1d, etc. (see more in https://binance-docs.github.io/apidocs/futures/en/#public-endpoints-info)\n",
    "# :parameter limit: optional int; limit the results. Default 500, max 1000.\n",
    "# :parameter startTime: optional int\n",
    "# :parameter endTime: optional int\n",
    "\n",
    "# resp = um_futures_client.klines(symbol=\"BTCUSDT\", interval=\"1m\", limit=1000)\n",
    "# std_length = len(resp[0])\n",
    "# for i in resp:\n",
    "#     assert len(i) == std_length\n",
    "\n",
    "resp_data = []\n",
    "for pairs in pairs:\n",
    "    start = get_unix_epoch_time_ms(pairs[0])\n",
    "    end = get_unix_epoch_time_ms(pairs[1])\n",
    "    resp = um_futures_client.klines(symbol=\"BTCUSDT\", interval=\"1m\", startTime=start, endTime=end)\n",
    "    resp_data.extend(resp)  \n"
   ]
  },
  {
   "cell_type": "code",
   "execution_count": null,
   "metadata": {},
   "outputs": [],
   "source": [
    "#     1499040000000,      // Open time\n",
    "#     \"0.01634790\",       // Open\n",
    "#     \"0.80000000\",       // High\n",
    "#     \"0.01575800\",       // Low\n",
    "#     \"0.01577100\",       // Close\n",
    "#     \"148976.11427815\",  // Volume\n",
    "#     1499644799999,      // Close time\n",
    "#     \"2434.19055334\",    // Quote asset volume\n",
    "#     308,                // Number of trades\n",
    "#     \"1756.87402397\",    // Taker buy base asset volume\n",
    "#     \"28.46694368\",      // Taker buy quote asset volume\n",
    "#     \"17928899.62484339\" // Ignore."
   ]
  },
  {
   "cell_type": "code",
   "execution_count": null,
   "metadata": {},
   "outputs": [],
   "source": [
    "\n",
    "# Create an empty dataframe\n",
    "df = pd.DataFrame(columns=['timestamp', 'open', 'high', 'low', 'close', 'volume', 'close_time', 'quote_asset_volume', 'num_of_trades', 'taker_buy_base', 'taker_buy_quote'])\n",
    "\n",
    "# Loop through each item in resp and append to the dataframe\n",
    "for item in resp_data:\n",
    "    timestamp, oopen, high, low, close, volume, close_time, quote_asset_volume, num_of_trades, taker_buy_base, taker_buy_quote, ignore = item\n",
    "      # create a dictionary of the values\n",
    "    data = {'timestamp': timestamp, 'open': oopen, 'high': high, 'low': low, 'close': close, 'volume': volume, 'close_time': close_time, 'quote_asset_volume': quote_asset_volume, 'num_of_trades': num_of_trades, 'taker_buy_base': taker_buy_base, 'taker_buy_quote': taker_buy_quote}\n",
    "    # append the dictionary as a row to the dataframe\n",
    "    df = pd.concat([df, pd.DataFrame(data, index=[timestamp])])\n",
    "\n",
    "# Set timestamp as the index\n",
    "# convert timestamp column to datetime and set it as index\n",
    "df['timestamp'] = pd.to_datetime(df['timestamp'], unit='ms')\n",
    "df.set_index('timestamp', inplace=True)\n",
    "df"
   ]
  },
  {
   "cell_type": "code",
   "execution_count": null,
   "metadata": {},
   "outputs": [],
   "source": [
    "# # calculate EMA 200 and EMA 50\n",
    "# df['EMA_200'] = df['close'].rolling(window=200).mean()\n",
    "# df['EMA_50'] = df['close'].rolling(window=50).mean()\n",
    "# # Calculate moving average and standard deviation\n",
    "# window_size = 20\n",
    "# df['mid_band'] = df['close'].rolling(window=window_size).mean()\n",
    "# df['std_dev'] = df['close'].rolling(window=window_size).std()\n",
    "# # Calculate upper and lower Bollinger Bands\n",
    "# num_std = 2\n",
    "# df['upper_band'] = df['mid_band'] + (df['std_dev'] * num_std)\n",
    "# df['lower_band'] = df['mid_band'] - (df['std_dev'] * num_std)\n",
    "# df.dropna()\n",
    "# df = df[200:]\n",
    "# df"
   ]
  },
  {
   "cell_type": "code",
   "execution_count": null,
   "metadata": {},
   "outputs": [],
   "source": [
    "df.to_csv('data/BTCUSDT_1m_3m_back_from_2022-07-19.csv')"
   ]
  }
 ],
 "metadata": {
  "kernelspec": {
   "display_name": "base",
   "language": "python",
   "name": "python3"
  },
  "language_info": {
   "codemirror_mode": {
    "name": "ipython",
    "version": 3
   },
   "file_extension": ".py",
   "mimetype": "text/x-python",
   "name": "python",
   "nbconvert_exporter": "python",
   "pygments_lexer": "ipython3",
   "version": "3.9.13"
  },
  "orig_nbformat": 4,
  "vscode": {
   "interpreter": {
    "hash": "e6206a5d9777dc4941d1ef736d0f3211132aba6ec6b27c0cc45f807d6cb74e8f"
   }
  }
 },
 "nbformat": 4,
 "nbformat_minor": 2
}
